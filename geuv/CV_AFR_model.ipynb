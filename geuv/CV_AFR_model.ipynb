{
 "cells": [
  {
   "cell_type": "code",
   "execution_count": 44,
   "id": "e1a2f1f4",
   "metadata": {},
   "outputs": [],
   "source": [
    "import sys\n",
    "sys.path.append('code/transethnic_prs-main/')\n",
    "import pandas as pd\n",
    "import numpy as np\n",
    "import time\n",
    "import matplotlib.pyplot as plt\n",
    "import transethnic_prs.model1.Model1Blk as model1blk\n",
    "from scipy import optimize\n",
    "from sklearn.model_selection import KFold\n",
    "from sklearn.model_selection import train_test_split\n",
    "from sklearn.model_selection import GridSearchCV\n",
    "from sklearn.model_selection import RepeatedKFold\n",
    "from sklearn.linear_model import ElasticNetCV"
   ]
  },
  {
   "cell_type": "code",
   "execution_count": 47,
   "id": "5b146d5d",
   "metadata": {},
   "outputs": [],
   "source": [
    "from transethnic_prs.model1.Model1Helper import get_lambda_seq"
   ]
  },
  {
   "cell_type": "code",
   "execution_count": 48,
   "id": "6121f5d7",
   "metadata": {},
   "outputs": [],
   "source": [
    "gene = 'ENSG00000206176.5'\n",
    "gene_name = 'nan1765'\n",
    "\n",
    "#def data_processing(gene,gene_name):\n",
    "    # read eur and afr sample info\n",
    "eur_sample = pd.read_csv('data/clean/'+gene_name+'_genotype/eur_'+gene_name+'_genotype.012.indv', sep = '\\t', header = None)\n",
    "afr_sample = pd.read_csv('data/clean/'+gene_name+'_genotype/afr_'+gene_name+'_genotype.012.indv', sep = '\\t',header = None)\n",
    "    \n",
    "    #load 2 genotype matrices\n",
    "eur_genotype = pd.read_csv('data/clean/'+gene_name+'_genotype/eur_'+gene_name+'_genotype.012', sep = '\\t', header = None, index_col = 0)\n",
    "afr_genotype = pd.read_csv('data/clean/'+gene_name+'_genotype/afr_'+gene_name+'_genotype.012', sep = '\\t', header = None, index_col = 0)\n",
    "\n",
    "    # extract target phenotype vector\n",
    "pheno_total = pd.read_csv('data/GD462.GeneQuantRPKM.50FN.samplename.resk10.txt', sep = '\\t', index_col = 'TargetID')\n",
    "target_pheno_total = pheno_total.loc[gene]\n",
    "target_pheno_eur = pd.merge(target_pheno_total, eur_sample, left_index = True, right_on = 0)\n",
    "target_pheno_afr = pd.merge(target_pheno_total, afr_sample, left_index = True, right_on = 0)\n",
    "pa = target_pheno_afr.set_index(0)\n",
    "pe = target_pheno_eur.set_index(0)\n",
    "\n",
    "    #make sure the sample order of phenotype vector is the same as genotype matrix's\n",
    "sorted_eur_pheno = pd.merge(eur_sample, pe, left_on = 0 , right_index = True, how = 'left')\n",
    "sorted_afr_pheno = pd.merge(afr_sample, pa, left_on = 0 , right_index = True, how = 'left')\n",
    "    \n",
    "    #return eur_genotype,afr_genotype,sorted_eur_pheno,sorted_afr_pheno\n",
    "\n",
    "# inpute nan with each SNP's mean value\n",
    "f = lambda x : x.replace(-1,x.mean())\n",
    "afr_genotype = afr_genotype.apply(f,axis = 'index')"
   ]
  },
  {
   "cell_type": "code",
   "execution_count": 49,
   "id": "e0f3b533",
   "metadata": {},
   "outputs": [],
   "source": [
    "#original matrix(before standardization)\n",
    "X2o = np.array(afr_genotype,dtype = np.float64,order = 'C')\n",
    "y2o = np.array(sorted_afr_pheno[gene],dtype = np.float64,order = 'C')"
   ]
  },
  {
   "cell_type": "code",
   "execution_count": 50,
   "id": "6f0c0ae9",
   "metadata": {
    "scrolled": false
   },
   "outputs": [],
   "source": [
    "def check_nan(x):\n",
    "    count = 0\n",
    "    for x in x.describe().loc['min']:\n",
    "        if x == -1:\n",
    "            count+=1\n",
    "    return count"
   ]
  },
  {
   "cell_type": "code",
   "execution_count": 51,
   "id": "ac7dde48",
   "metadata": {},
   "outputs": [],
   "source": [
    "def SNP_var_check(X):\n",
    "    col_valid = []\n",
    "    count = 0\n",
    "    for col,x in enumerate(np.std(X, axis = 0)):\n",
    "        if x==0:\n",
    "            count +=1\n",
    "        else:\n",
    "            col_valid.append(col)\n",
    "    return col_valid, count"
   ]
  },
  {
   "cell_type": "code",
   "execution_count": 52,
   "id": "eedc511d",
   "metadata": {},
   "outputs": [],
   "source": [
    "def standardization(x):\n",
    "    x=np.array(x,dtype = np.float64,order = 'C')\n",
    "    x_center = x - np.mean(x,axis = 0)\n",
    "    return x_center/np.std(x, axis = 0)"
   ]
  },
  {
   "cell_type": "code",
   "execution_count": 53,
   "id": "41deb7dd",
   "metadata": {},
   "outputs": [],
   "source": [
    "col_valid1,count1=SNP_var_check(X2o)"
   ]
  },
  {
   "cell_type": "code",
   "execution_count": 54,
   "id": "0376d800",
   "metadata": {},
   "outputs": [],
   "source": [
    "X_train,X_test,y_train,y_test = train_test_split(X2o,y2o,test_size = 0.2, random_state = 9,shuffle = False)"
   ]
  },
  {
   "cell_type": "code",
   "execution_count": 55,
   "id": "e3673aa5",
   "metadata": {},
   "outputs": [],
   "source": [
    "col_valid2,count2 = SNP_var_check(X_test)"
   ]
  },
  {
   "cell_type": "code",
   "execution_count": 56,
   "id": "1aca1a16",
   "metadata": {},
   "outputs": [],
   "source": [
    "kf = KFold(n_splits=5)#without shuffling, the random state is immutable"
   ]
  },
  {
   "cell_type": "code",
   "execution_count": 57,
   "id": "179a36f5",
   "metadata": {},
   "outputs": [
    {
     "name": "stdout",
     "output_type": "stream",
     "text": [
      "count_train1: 1 count_validation1: 3\n",
      "count_train2: 0 count_validation2: 13\n",
      "count_train3: 0 count_validation3: 5\n",
      "count_train4: 0 count_validation4: 12\n",
      "count_train5: 0 count_validation5: 14\n"
     ]
    }
   ],
   "source": [
    "i = 1\n",
    "for train_index, test_index in kf.split(X_train):\n",
    "    train_index = list(train_index)\n",
    "    test_index = list(test_index)\n",
    "    X_to,X_vo = X_train[train_index,:],X_train[test_index,:]\n",
    "    y_to, y_vo = y_train[train_index],y_train[test_index]\n",
    "    col_valid_train,count_train = SNP_var_check(X_to)\n",
    "    col_valid_valid,count_valid = SNP_var_check(X_vo)\n",
    "    print(\"count_train%s:\" % i,count_train,\"count_validation%s:\" % i,count_valid)\n",
    "    col_valid3 = list(set(col_valid_train).intersection(set(col_valid_valid)))\n",
    "    globals()['col_set%s' % i] = col_valid3\n",
    "    i+=1\n",
    "\n",
    "valid_col_trainset = list(set(col_set1).intersection(col_set2).intersection(col_set3).intersection(col_set4).intersection(col_set5))"
   ]
  },
  {
   "cell_type": "code",
   "execution_count": 58,
   "id": "df545cdb",
   "metadata": {},
   "outputs": [
    {
     "data": {
      "text/plain": [
       "31"
      ]
     },
     "execution_count": 58,
     "metadata": {},
     "output_type": "execute_result"
    }
   ],
   "source": [
    "test = list(set(col_valid2).intersection(valid_col_trainset))\n",
    "len(test)"
   ]
  },
  {
   "cell_type": "code",
   "execution_count": 59,
   "id": "69ab927a",
   "metadata": {},
   "outputs": [
    {
     "data": {
      "text/plain": [
       "31"
      ]
     },
     "execution_count": 59,
     "metadata": {},
     "output_type": "execute_result"
    }
   ],
   "source": [
    "col_valid_final = list(set(col_valid2).intersection(valid_col_trainset))\n",
    "len(col_valid_final)"
   ]
  },
  {
   "cell_type": "code",
   "execution_count": 60,
   "id": "a1ad5aae",
   "metadata": {},
   "outputs": [
    {
     "data": {
      "text/plain": [
       "(18, 31)"
      ]
     },
     "execution_count": 60,
     "metadata": {},
     "output_type": "execute_result"
    }
   ],
   "source": [
    "X_test = X_test[:,col_valid_final]\n",
    "X_test.shape"
   ]
  },
  {
   "cell_type": "code",
   "execution_count": 61,
   "id": "e4a784ee",
   "metadata": {},
   "outputs": [],
   "source": [
    "X_train = X_train[:,col_valid_final]"
   ]
  },
  {
   "cell_type": "code",
   "execution_count": 62,
   "id": "7d116123",
   "metadata": {},
   "outputs": [],
   "source": [
    "X_test_std = standardization(X_test)\n",
    "y_test_std = standardization(y_test)"
   ]
  },
  {
   "cell_type": "code",
   "execution_count": 63,
   "id": "0583820a",
   "metadata": {},
   "outputs": [],
   "source": [
    "from sklearn.linear_model import ElasticNetCV"
   ]
  },
  {
   "cell_type": "code",
   "execution_count": 78,
   "id": "82d1b117",
   "metadata": {},
   "outputs": [],
   "source": [
    "lambda_max = 2 * np.absolute(X_train.T @ y_train).max()/0.1\n",
    "lambda_seq = get_lambda_seq(lambda_max, 100, 100)"
   ]
  },
  {
   "cell_type": "code",
   "execution_count": 79,
   "id": "c502ade9",
   "metadata": {},
   "outputs": [
    {
     "data": {
      "text/plain": [
       "array([2745.399399  , 2620.61675923, 2501.50568303, 2387.80838906,\n",
       "       2279.27881259, 2175.68207286, 2076.79396483, 1982.40047393,\n",
       "       1892.29731288, 1806.28947955, 1724.19083499, 1645.82370053,\n",
       "       1571.01847328, 1499.61325906, 1431.45352202, 1366.39175023,\n",
       "       1304.28713638, 1245.00527307, 1188.41786195, 1134.40243599,\n",
       "       1082.84209451, 1033.62525012,  986.64538727,  941.80083169,\n",
       "        898.99453037,  858.13384152,  819.13033403,  781.89959615,\n",
       "        746.36105277,  712.43779104,  680.0563939 ,  649.14678124,\n",
       "        619.64205818,  591.47837032,  564.59476554,  538.93306208,\n",
       "        514.43772265,  491.05573421,  468.73649322,  447.43169619,\n",
       "        427.09523506,  407.68309747,  389.1532715 ,  371.46565471,\n",
       "        354.58196741,  338.46566975,  323.08188269,  308.3973125 ,\n",
       "        294.38017869,  281.00014524,  268.22825496,  256.0368668 ,\n",
       "        244.39959606,  233.29125722,  222.68780954,  212.56630491,\n",
       "        202.90483829,  193.68250024,  184.87933169,  176.47628073,\n",
       "        168.45516141,  160.79861434,  153.49006915,  146.51370862,\n",
       "        139.85443444,  133.49783455,  127.43015194,  121.63825487,\n",
       "        116.10960846,  110.83224755,  105.79475085,  100.98621615,\n",
       "         96.39623677,   92.01487904,   87.83266077,   83.84053079,\n",
       "         80.02984927,   76.3923691 ,   72.92021803,   69.60588158,\n",
       "         66.44218684,   63.4222869 ,   60.53964608,   57.78802573,\n",
       "         55.16147078,   52.6542968 ,   50.26107774,   47.97663419,\n",
       "         45.79602212,   43.71452224,   41.72762974,   39.83104457,\n",
       "         38.02066212,   36.29256435,   34.64301128,   33.06843296,\n",
       "         31.56542164,   30.13072451,   28.76123658,   27.45399399])"
      ]
     },
     "execution_count": 79,
     "metadata": {},
     "output_type": "execute_result"
    }
   ],
   "source": [
    "lambda_seq"
   ]
  },
  {
   "cell_type": "code",
   "execution_count": 84,
   "id": "819fd8a9",
   "metadata": {},
   "outputs": [
    {
     "data": {
      "text/plain": [
       "ElasticNetCV(alphas=array([2745.399399  , 2620.61675923, 2501.50568303, 2387.80838906,\n",
       "       2279.27881259, 2175.68207286, 2076.79396483, 1982.40047393,\n",
       "       1892.29731288, 1806.28947955, 1724.19083499, 1645.82370053,\n",
       "       1571.01847328, 1499.61325906, 1431.45352202, 1366.39175023,\n",
       "       1304.28713638, 1245.00527307, 1188.41786195, 1134.40243599,\n",
       "       1082.84209451, 1033.62525012,  986.64538727,  941....\n",
       "         80.02984927,   76.3923691 ,   72.92021803,   69.60588158,\n",
       "         66.44218684,   63.4222869 ,   60.53964608,   57.78802573,\n",
       "         55.16147078,   52.6542968 ,   50.26107774,   47.97663419,\n",
       "         45.79602212,   43.71452224,   41.72762974,   39.83104457,\n",
       "         38.02066212,   36.29256435,   34.64301128,   33.06843296,\n",
       "         31.56542164,   30.13072451,   28.76123658,   27.45399399]),\n",
       "             cv=KFold(n_splits=5, random_state=None, shuffle=False),\n",
       "             l1_ratio=0.1, n_jobs=-1)"
      ]
     },
     "execution_count": 84,
     "metadata": {},
     "output_type": "execute_result"
    }
   ],
   "source": [
    "model = ElasticNetCV(l1_ratio=0.1, alphas=lambda_seq, cv=kf, n_jobs=-1)\n",
    "# fit model\n",
    "model.fit(X_train, y_train)"
   ]
  },
  {
   "cell_type": "code",
   "execution_count": 81,
   "id": "63acfa15",
   "metadata": {},
   "outputs": [
    {
     "data": {
      "text/plain": [
       "27.453993989959628"
      ]
     },
     "execution_count": 81,
     "metadata": {},
     "output_type": "execute_result"
    }
   ],
   "source": [
    "y_hat_test = model.predict(X_test_std)\n",
    "model.alpha_"
   ]
  },
  {
   "cell_type": "code",
   "execution_count": 85,
   "id": "3ba7a311",
   "metadata": {},
   "outputs": [
    {
     "data": {
      "text/plain": [
       "array([1.52876314, 1.4602396 , 1.53105959, 1.49265712, 1.5040559 ,\n",
       "       1.46467342, 1.52075252, 1.52572974, 1.46262435, 1.51476972,\n",
       "       1.46543607, 1.52679399, 1.53001595, 1.46372599, 1.46857793,\n",
       "       1.4568673 , 1.4462974 , 1.52421304])"
      ]
     },
     "execution_count": 85,
     "metadata": {},
     "output_type": "execute_result"
    }
   ],
   "source": [
    "y_hat_test"
   ]
  },
  {
   "cell_type": "code",
   "execution_count": 24,
   "id": "818c7a68",
   "metadata": {},
   "outputs": [
    {
     "name": "stdout",
     "output_type": "stream",
     "text": [
      "0.0\n",
      "nan nan 6.521400841331846e-17\n"
     ]
    },
    {
     "name": "stderr",
     "output_type": "stream",
     "text": [
      "/home/daisy/anaconda3/envs/transethnic_prs/lib/python3.7/site-packages/numpy/lib/function_base.py:2559: RuntimeWarning: invalid value encountered in true_divide\n",
      "  c /= stddev[:, None]\n",
      "/home/daisy/anaconda3/envs/transethnic_prs/lib/python3.7/site-packages/numpy/lib/function_base.py:2560: RuntimeWarning: invalid value encountered in true_divide\n",
      "  c /= stddev[None, :]\n",
      "/home/daisy/anaconda3/envs/transethnic_prs/lib/python3.7/site-packages/IPython/core/interactiveshell.py:3441: RankWarning: Polyfit may be poorly conditioned\n",
      "  exec(code_obj, self.user_global_ns, self.user_ns)\n"
     ]
    },
    {
     "data": {
      "text/plain": [
       "1.0"
      ]
     },
     "execution_count": 24,
     "metadata": {},
     "output_type": "execute_result"
    }
   ],
   "source": [
    "y_hat_test = (y_hat_test-y_hat_test.mean())/y_hat_test.std()\n",
    "correlation_test_matrix = np.corrcoef(y_hat_test, y_test_std)\n",
    "correlation_test = correlation_test_matrix[0,1]\n",
    "r2 = correlation_test**2\n",
    "\n",
    "\n",
    "m, b = np.polyfit(y_hat_test,y_test_std, 1)\n",
    "print(y_hat_test.std())\n",
    "print(correlation_test,r2,m)\n",
    "y_test_std.std()"
   ]
  },
  {
   "cell_type": "code",
   "execution_count": 30,
   "id": "0feedc57",
   "metadata": {},
   "outputs": [
    {
     "ename": "IndexError",
     "evalue": "index 183 is out of bounds for axis 1 with size 183",
     "output_type": "error",
     "traceback": [
      "\u001b[0;31m---------------------------------------------------------------------------\u001b[0m",
      "\u001b[0;31mIndexError\u001b[0m                                Traceback (most recent call last)",
      "\u001b[0;32m<ipython-input-30-bf5fa22f2b65>\u001b[0m in \u001b[0;36m<module>\u001b[0;34m\u001b[0m\n\u001b[1;32m      1\u001b[0m \u001b[0mMax1\u001b[0m \u001b[0;34m=\u001b[0m \u001b[0;36m0\u001b[0m\u001b[0;34m\u001b[0m\u001b[0;34m\u001b[0m\u001b[0m\n\u001b[1;32m      2\u001b[0m \u001b[0;32mfor\u001b[0m \u001b[0mtrain_index\u001b[0m\u001b[0;34m,\u001b[0m \u001b[0mtest_index\u001b[0m \u001b[0;32min\u001b[0m \u001b[0mkf\u001b[0m\u001b[0;34m.\u001b[0m\u001b[0msplit\u001b[0m\u001b[0;34m(\u001b[0m\u001b[0mX_train\u001b[0m\u001b[0;34m)\u001b[0m\u001b[0;34m:\u001b[0m\u001b[0;34m\u001b[0m\u001b[0;34m\u001b[0m\u001b[0m\n\u001b[0;32m----> 3\u001b[0;31m     \u001b[0mX_to\u001b[0m\u001b[0;34m,\u001b[0m \u001b[0mX_vo\u001b[0m \u001b[0;34m=\u001b[0m \u001b[0mX_train\u001b[0m\u001b[0;34m[\u001b[0m\u001b[0;34m:\u001b[0m\u001b[0;34m,\u001b[0m\u001b[0mcol_valid_final\u001b[0m\u001b[0;34m]\u001b[0m\u001b[0;34m[\u001b[0m\u001b[0mtrain_index\u001b[0m\u001b[0;34m,\u001b[0m\u001b[0;34m:\u001b[0m\u001b[0;34m]\u001b[0m\u001b[0;34m,\u001b[0m \u001b[0mX_train\u001b[0m\u001b[0;34m[\u001b[0m\u001b[0;34m:\u001b[0m\u001b[0;34m,\u001b[0m\u001b[0mcol_valid_final\u001b[0m\u001b[0;34m]\u001b[0m\u001b[0;34m[\u001b[0m\u001b[0mtest_index\u001b[0m\u001b[0;34m,\u001b[0m\u001b[0;34m:\u001b[0m\u001b[0;34m]\u001b[0m\u001b[0;34m\u001b[0m\u001b[0;34m\u001b[0m\u001b[0m\n\u001b[0m\u001b[1;32m      4\u001b[0m     \u001b[0my_to\u001b[0m\u001b[0;34m,\u001b[0m \u001b[0my_vo\u001b[0m \u001b[0;34m=\u001b[0m \u001b[0my_train\u001b[0m\u001b[0;34m[\u001b[0m\u001b[0mtrain_index\u001b[0m\u001b[0;34m]\u001b[0m\u001b[0;34m,\u001b[0m \u001b[0my_train\u001b[0m\u001b[0;34m[\u001b[0m\u001b[0mtest_index\u001b[0m\u001b[0;34m]\u001b[0m\u001b[0;34m\u001b[0m\u001b[0;34m\u001b[0m\u001b[0m\n\u001b[1;32m      5\u001b[0m     \u001b[0mX_t_std\u001b[0m\u001b[0;34m,\u001b[0m \u001b[0mX_v_std\u001b[0m\u001b[0;34m,\u001b[0m \u001b[0my_t_std\u001b[0m\u001b[0;34m,\u001b[0m \u001b[0my_v_std\u001b[0m \u001b[0;34m=\u001b[0m \u001b[0mstandardization\u001b[0m\u001b[0;34m(\u001b[0m\u001b[0mX_to\u001b[0m\u001b[0;34m)\u001b[0m\u001b[0;34m,\u001b[0m \u001b[0mstandardization\u001b[0m\u001b[0;34m(\u001b[0m\u001b[0mX_vo\u001b[0m\u001b[0;34m)\u001b[0m\u001b[0;34m,\u001b[0m \u001b[0mstandardization\u001b[0m\u001b[0;34m(\u001b[0m\u001b[0my_to\u001b[0m\u001b[0;34m)\u001b[0m\u001b[0;34m,\u001b[0m \u001b[0mstandardization\u001b[0m\u001b[0;34m(\u001b[0m\u001b[0my_vo\u001b[0m\u001b[0;34m)\u001b[0m\u001b[0;34m\u001b[0m\u001b[0;34m\u001b[0m\u001b[0m\n",
      "\u001b[0;31mIndexError\u001b[0m: index 183 is out of bounds for axis 1 with size 183"
     ]
    }
   ],
   "source": [
    "Max1 = 0\n",
    "for train_index, test_index in kf.split(X_train):\n",
    "    X_to, X_vo = X_train[:,col_valid_final][train_index,:], X_train[:,col_valid_final][test_index,:]\n",
    "    y_to, y_vo = y_train[train_index], y_train[test_index]\n",
    "    X_t_std, X_v_std, y_t_std, y_v_std = standardization(X_to), standardization(X_vo), standardization(y_to), standardization(y_vo)\n",
    "    mod = model1blk.Model1Blk([A1],[b1],[X_t_std],y_t_std)\n",
    "    beta_mat_en, lambda_seq_en, niters_en, tols_en, convs_en = mod.solve_path(alpha=0.1)\n",
    "    print(lambda_seq_end)\n",
    "    Max2 = 0\n",
    "    for i in range(100):\n",
    "        beta_hat = beta_mat_en[:,i]\n",
    "        y_v_hat = X_v_std @ beta_hat\n",
    "        correlation_matrix = np.corrcoef(y_v_hat, y_v_std)\n",
    "        correlation_yvhat_yv = correlation_matrix[0,1]\n",
    "        r2 = correlation_yvhat_yv**2\n",
    "        if r2>Max2:\n",
    "            Max2=r2\n",
    "            idx = i\n",
    "    print(Max2)\n",
    "    if Max2>Max1:\n",
    "        Max1=Max2\n",
    "        lam=lambda_seq_en[idx]\n",
    "        beta_h=beta_mat_en[:,idx]\n",
    "\n",
    "print(Max1,idx,lam,beta_h)"
   ]
  },
  {
   "cell_type": "code",
   "execution_count": 40,
   "id": "99d6c7de",
   "metadata": {
    "scrolled": true
   },
   "outputs": [
    {
     "data": {
      "text/plain": [
       "array([[1.        , 0.72576101],\n",
       "       [0.72576101, 1.        ]])"
      ]
     },
     "execution_count": 40,
     "metadata": {},
     "output_type": "execute_result"
    }
   ],
   "source": [
    "from scipy.stats import pearsonr\n",
    "r,_ = pearsonr(y_hat_test,y_test_std)\n",
    "np.corrcoef(y_hat_test,y_test_std)"
   ]
  },
  {
   "cell_type": "code",
   "execution_count": 41,
   "id": "e21930d0",
   "metadata": {},
   "outputs": [
    {
     "data": {
      "text/plain": [
       "0.6119711042311662"
      ]
     },
     "execution_count": 41,
     "metadata": {},
     "output_type": "execute_result"
    }
   ],
   "source": [
    "from scipy.stats import spearmanr\n",
    "sp_r, _ = spearmanr(y_hat_test,y_test_std)\n",
    "sp_r"
   ]
  },
  {
   "cell_type": "code",
   "execution_count": 42,
   "id": "eff97057",
   "metadata": {},
   "outputs": [
    {
     "data": {
      "text/plain": [
       "0.7257610122566789"
      ]
     },
     "execution_count": 42,
     "metadata": {},
     "output_type": "execute_result"
    }
   ],
   "source": [
    "A = np.vstack([y_test_std, np.ones(len(y_test_std))]).T\n",
    "m, c = np.linalg.lstsq(A, y_hat_test, rcond=None)[0]\n",
    "m"
   ]
  },
  {
   "cell_type": "code",
   "execution_count": 75,
   "id": "4758c158",
   "metadata": {},
   "outputs": [
    {
     "name": "stdout",
     "output_type": "stream",
     "text": [
      "1 3\n",
      "2 7\n",
      "3 9\n"
     ]
    }
   ],
   "source": []
  }
 ],
 "metadata": {
  "kernelspec": {
   "display_name": "transethnic_prs",
   "language": "python",
   "name": "transethnic_prs"
  },
  "language_info": {
   "codemirror_mode": {
    "name": "ipython",
    "version": 3
   },
   "file_extension": ".py",
   "mimetype": "text/x-python",
   "name": "python",
   "nbconvert_exporter": "python",
   "pygments_lexer": "ipython3",
   "version": "3.7.10"
  }
 },
 "nbformat": 4,
 "nbformat_minor": 5
}
