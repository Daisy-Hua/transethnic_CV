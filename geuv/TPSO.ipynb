{
 "cells": [
  {
   "cell_type": "code",
   "execution_count": 1,
   "id": "3f7429d5",
   "metadata": {},
   "outputs": [
    {
     "name": "stdout",
     "output_type": "stream",
     "text": [
      "['/home/daisy/geuv', '/home/daisy/geuv/code/transethnic_prs-main', '/home/daisy/geuv', '/home/daisy/geuv/code/transethnic_prs-main/transethnic_prs', '/home/daisy/anaconda3/envs/transethnic_prs/lib/python37.zip', '/home/daisy/anaconda3/envs/transethnic_prs/lib/python3.7', '/home/daisy/anaconda3/envs/transethnic_prs/lib/python3.7/lib-dynload', '', '/home/daisy/anaconda3/envs/transethnic_prs/lib/python3.7/site-packages', '/home/daisy/anaconda3/envs/transethnic_prs/lib/python3.7/site-packages/IPython/extensions', '/home/daisy/.ipython', '/home/daisy/geuv/code/transethnic_prs-main/']\n"
     ]
    }
   ],
   "source": [
    "import sys\n",
    "sys.path.append('/home/daisy/geuv/code/transethnic_prs-main/')\n",
    "print(sys.path)\n",
    "import pandas as pd\n",
    "import numpy as np\n",
    "import time\n",
    "import matplotlib.pyplot as plt\n",
    "from sklearn.linear_model import lasso_path, enet_path\n",
    "from sklearn.model_selection import RepeatedKFold\n",
    "from sklearn.model_selection import GridSearchCV\n",
    "import transethnic_prs.model1.Model1Blk as model1blk"
   ]
  },
  {
   "cell_type": "code",
   "execution_count": 2,
   "id": "ded45e2b",
   "metadata": {},
   "outputs": [],
   "source": [
    "from sklearn.utils.estimator_checks import check_estimator"
   ]
  },
  {
   "cell_type": "code",
   "execution_count": 3,
   "id": "4ed2b937",
   "metadata": {},
   "outputs": [],
   "source": [
    "gene = 'ENSG00000100300.12'\n",
    "gene_name = 'TPSO'"
   ]
  },
  {
   "cell_type": "code",
   "execution_count": 4,
   "id": "9d0643b4",
   "metadata": {},
   "outputs": [],
   "source": [
    "pheno_total = pd.read_csv('data/GD462.GeneQuantRPKM.50FN.samplename.resk10.txt', sep = '\\t', index_col = 'TargetID')\n",
    "target_pheno_total = pheno_total.loc[gene]\n",
    "\n",
    "b_hat_eur_total = pd.read_csv('data/EUR373.gene.cis.FDR5.all.rs137.txt', sep = '\\t')\n",
    "b_hat_eur_total_grouped = dict(list(b_hat_eur_total.groupby('GENE_ID')))\n",
    "b_hat_eur_target = b_hat_eur_total_grouped[gene]\n",
    "\n",
    "eur_sample = pd.read_csv('data/clean/eur_'+gene_name+'_genotype.012.indv', sep = '\\t', header = None)\n",
    "afr_sample = pd.read_csv('data/clean/afr_'+gene_name+'_genotype.012.indv', sep = '\\t',header = None)\n",
    "\n",
    "target_pheno_eur = pd.merge(target_pheno_total, eur_sample, left_index = True, right_on = 0)\n",
    "target_pheno_afr = pd.merge(target_pheno_total, afr_sample, left_index = True, right_on = 0)\n",
    "\n",
    "eur_genotype = pd.read_csv('data/clean/eur_'+gene_name+'_genotype.012', sep = '\\t', header = None, index_col = 0)\n",
    "afr_genotype = pd.read_csv('data/clean/afr_'+gene_name+'_genotype.012', sep = '\\t', header = None, index_col = 0)\n",
    "\n",
    "pa = target_pheno_afr.set_index(0)\n",
    "pe = target_pheno_eur.set_index(0)\n",
    "\n",
    "sorted_eur_pheno = pd.merge(eur_sample, pe, left_on = 0 , right_index = True, how = 'left')\n",
    "sorted_afr_pheno = pd.merge(afr_sample, pa, left_on = 0 , right_index = True, how = 'left')\n",
    "sorted_b_hat_eur = b_hat_eur_target.sort_values(by = 'SNPpos')\n",
    "\n",
    "X1o = eur_genotype\n",
    "X2o = afr_genotype\n",
    "b1_hat = sorted_b_hat_eur['rvalue']\n",
    "y1o = sorted_eur_pheno[gene]\n",
    "y2o = sorted_afr_pheno[gene]"
   ]
  },
  {
   "cell_type": "code",
   "execution_count": 5,
   "id": "c292b981",
   "metadata": {},
   "outputs": [],
   "source": [
    "X1 = (X1o-X1o.mean())\n",
    "X2 = (X2o-X2o.mean())\n",
    "y1 = (y1o-y1o.mean())\n",
    "y2 = (y2o-y2o.mean())\n",
    "N1 = 373\n",
    "N2 = 89"
   ]
  },
  {
   "cell_type": "code",
   "execution_count": 6,
   "id": "a0c236f9",
   "metadata": {},
   "outputs": [
    {
     "name": "stdout",
     "output_type": "stream",
     "text": [
      "0\n",
      "0\n",
      "[0, 1, 2, 3, 4, 5, 6, 7, 8, 9, 10, 11, 12, 13, 14, 15, 16, 17, 18, 19, 20, 21, 22, 23, 24, 25, 26, 27, 28, 29, 30, 31, 32, 33, 34, 35, 36, 37, 38, 39, 40]\n"
     ]
    }
   ],
   "source": [
    "count1 = 0\n",
    "idx_valid1 = []\n",
    "for idx1,x1 in enumerate(X1.std()):\n",
    "    if x1==0:\n",
    "        count1 +=1\n",
    "    else:\n",
    "        idx_valid1.append(idx1)\n",
    "idx_valid2 = []\n",
    "count2 = 0\n",
    "for idx2,x2 in enumerate(X2.std()):\n",
    "    if x2==0:\n",
    "        count2 +=1\n",
    "    else:\n",
    "        idx_valid2.append(idx2)\n",
    "print(count1)\n",
    "print(count2)\n",
    "print(idx_valid2)"
   ]
  },
  {
   "cell_type": "code",
   "execution_count": 7,
   "id": "3241827f",
   "metadata": {},
   "outputs": [],
   "source": [
    "R1 = eur_genotype.cov()"
   ]
  },
  {
   "cell_type": "code",
   "execution_count": 8,
   "id": "d5990db6",
   "metadata": {},
   "outputs": [],
   "source": [
    "X1 = np.array(X1,dtype = np.float64,order = 'C')\n",
    "X1o = np.array(X1o,dtype = np.float64,order = 'C')\n",
    "X2 = np.array(X2,dtype = np.float64,order = 'C')\n",
    "X2o = np.array(X2o,dtype = np.float64,order = 'C')\n",
    "#b1_hat = np.array(b1_hat, dtype = np.float64,order = 'C')\n",
    "y1 = np.array(y1, dtype = np.float64, order = 'C')\n",
    "y1o = np.array(y1o,dtype = np.float64,order = 'C')\n",
    "y2 = np.array(y2, dtype = np.float64, order = 'C')\n",
    "y2o = np.array(y2o,dtype = np.float64,order = 'C')\n",
    "R1 = np.array(R1,dtype = np.float64, order = 'C')"
   ]
  },
  {
   "cell_type": "code",
   "execution_count": 9,
   "id": "529c24e3",
   "metadata": {},
   "outputs": [],
   "source": [
    "X1 = X1[:,idx_valid2]\n",
    "X2 = X2[:,idx_valid2]\n",
    "X1o = X1o[:,idx_valid2]\n",
    "X2o = X2o[:,idx_valid2]"
   ]
  },
  {
   "cell_type": "code",
   "execution_count": 10,
   "id": "1cee38f5",
   "metadata": {},
   "outputs": [
    {
     "data": {
      "text/plain": [
       "array([False, False, False, False, False, False, False, False, False,\n",
       "       False, False, False, False, False, False, False, False, False,\n",
       "       False, False, False, False, False, False, False, False, False,\n",
       "       False, False, False, False, False, False, False, False, False,\n",
       "       False, False, False, False, False])"
      ]
     },
     "execution_count": 10,
     "metadata": {},
     "output_type": "execute_result"
    }
   ],
   "source": [
    "X1 = X1/np.std(X1o, axis = 0)\n",
    "X2 = X2/np.std(X2o, axis = 0)\n",
    "np.isnan(X2).any(axis=0)"
   ]
  },
  {
   "cell_type": "code",
   "execution_count": 11,
   "id": "f08f7595",
   "metadata": {},
   "outputs": [],
   "source": [
    "y1 = y1/y1o.std()\n",
    "y2 = y2/y2o.std()"
   ]
  },
  {
   "cell_type": "code",
   "execution_count": 12,
   "id": "12f37501",
   "metadata": {},
   "outputs": [
    {
     "data": {
      "text/plain": [
       "(41, 41)"
      ]
     },
     "execution_count": 12,
     "metadata": {},
     "output_type": "execute_result"
    }
   ],
   "source": [
    "R1 = np.cov(X1.T)\n",
    "D_R1 = np.diag(np.diag(R1))\n",
    "R1.shape"
   ]
  },
  {
   "cell_type": "code",
   "execution_count": 13,
   "id": "fc0d21c7",
   "metadata": {},
   "outputs": [],
   "source": [
    "A1 = X1.T @ X1\n",
    "A1_t = (N1-1)*R1\n",
    "b1 = X1.T @ y1"
   ]
  },
  {
   "cell_type": "code",
   "execution_count": 14,
   "id": "de53a893",
   "metadata": {},
   "outputs": [],
   "source": [
    "X1 = np.array(X1,dtype = np.float64,order = 'C')\n",
    "X2 = np.array(X2,dtype = np.float64,order = 'C')"
   ]
  },
  {
   "cell_type": "code",
   "execution_count": 15,
   "id": "627d5efb",
   "metadata": {},
   "outputs": [],
   "source": [
    "mod1 = model1blk.Model1Blk([A1], [b1], [X2], y2)"
   ]
  },
  {
   "cell_type": "code",
   "execution_count": 16,
   "id": "3ff7a4ed",
   "metadata": {},
   "outputs": [],
   "source": [
    "from sklearn.model_selection import train_test_split"
   ]
  },
  {
   "cell_type": "code",
   "execution_count": 17,
   "id": "351ecbbb",
   "metadata": {},
   "outputs": [],
   "source": [
    "X_train, X_test,y_train,y_test = train_test_split(X2,y2,test_size = 0.2,random_state = 0)"
   ]
  },
  {
   "cell_type": "code",
   "execution_count": 18,
   "id": "0465a78a",
   "metadata": {},
   "outputs": [
    {
     "data": {
      "text/plain": [
       "((71, 41), (71,))"
      ]
     },
     "execution_count": 18,
     "metadata": {},
     "output_type": "execute_result"
    }
   ],
   "source": [
    "X_train.shape,y_train.shape"
   ]
  },
  {
   "cell_type": "code",
   "execution_count": 19,
   "id": "fde4094f",
   "metadata": {},
   "outputs": [],
   "source": [
    "# cross_val_score\n",
    "from sklearn.model_selection import cross_val_score"
   ]
  },
  {
   "cell_type": "code",
   "execution_count": 20,
   "id": "c7d5264e",
   "metadata": {},
   "outputs": [],
   "source": [
    "beta_mat_en, lambda_seq_en, niters_en, tols_en, convs_en = mod1.solve_path(alpha=0.1)"
   ]
  },
  {
   "cell_type": "code",
   "execution_count": 22,
   "id": "5a43935d",
   "metadata": {},
   "outputs": [
    {
     "name": "stdout",
     "output_type": "stream",
     "text": [
      "Run time = 0.0830686092376709 s\n"
     ]
    }
   ],
   "source": [
    "l1_ratio = 0.1\n",
    "t = time.time()\n",
    "beta_mat_en, lambda_seq_en, niters_en, tols_en, convs_en = mod1.solve_path(alpha=l1_ratio) \n",
    "print(f'Run time = {time.time()-t} s')"
   ]
  },
  {
   "cell_type": "code",
   "execution_count": 23,
   "id": "8a052b51",
   "metadata": {},
   "outputs": [
    {
     "name": "stdout",
     "output_type": "stream",
     "text": [
      "Run time = 0.11133766174316406 s\n"
     ]
    }
   ],
   "source": [
    "# lasso \n",
    "t = time.time()\n",
    "beta_mat_lasso, lambda_seq_lasso, niters_lasso, tols_lasso, convs_lasso = mod1.solve_path(alpha=1) \n",
    "print(f'Run time = {time.time()-t} s')"
   ]
  },
  {
   "cell_type": "code",
   "execution_count": 24,
   "id": "d4699cd8",
   "metadata": {},
   "outputs": [
    {
     "data": {
      "image/png": "[encoded data removed]",
      "text/plain": [
       "<Figure size 640x480 with 1 Axes>"
      ]
     },
     "metadata": {},
     "output_type": "display_data"
    }
   ],
   "source": [
    "y2_hat_lasso = X2 @ beta_mat_lasso[:,-1:]\n",
    "plt.scatter(y2, y2_hat_lasso, color = \"blue\")\n",
    "plt.plot(y2,y2,color = 'g')\n",
    "plt.text(f'R2 = %f' %)\n",
    "plt.show()"
   ]
  },
  {
   "cell_type": "code",
   "execution_count": null,
   "id": "1aada47e",
   "metadata": {},
   "outputs": [],
   "source": [
    "y2_hat_en = X2 @ beta_mat_en[:,-1:]\n",
    "plt.scatter(y2, y2_hat_en, color = \"blue\")\n",
    "plt.plot(y2,y2,color = 'g')\n",
    "plt.show()"
   ]
  },
  {
   "cell_type": "markdown",
   "id": "f6e6d736",
   "metadata": {},
   "source": [
    "scipy.optimize"
   ]
  },
  {
   "cell_type": "code",
   "execution_count": null,
   "id": "5654ec70",
   "metadata": {},
   "outputs": [],
   "source": [
    "from scipy import optimize"
   ]
  },
  {
   "cell_type": "code",
   "execution_count": null,
   "id": "f5df2256",
   "metadata": {},
   "outputs": [],
   "source": [
    "beta = np.zeros(R1.shape[0])"
   ]
  },
  {
   "cell_type": "code",
   "execution_count": null,
   "id": "1851373c",
   "metadata": {},
   "outputs": [],
   "source": [
    "#lasso:\n",
    "def lasso_fun(beta):\n",
    "    term1 = beta.T @ A1 @ beta - 2 * b1.T @ beta\n",
    "    term2 = np.linalg.norm(y2 - X2 @ beta)**2 #L2 norm should be squared here(least square)\n",
    "    penalty = np.linalg.norm(beta, ord = 1)\n",
    "    return term1 + term2 + penalty"
   ]
  },
  {
   "cell_type": "code",
   "execution_count": null,
   "id": "8fe92e87",
   "metadata": {},
   "outputs": [],
   "source": [
    "t = time.time()\n",
    "result = optimize.minimize(lasso_fun, beta)\n",
    "print(f'Run time = {time.time()-t} s')"
   ]
  },
  {
   "cell_type": "code",
   "execution_count": null,
   "id": "253d3168",
   "metadata": {},
   "outputs": [],
   "source": [
    "y2_hat_lasso_op = X2 @ result.x\n",
    "plt.scatter(y2, y2_hat_lasso_op, color = \"red\")# red dots are scipy.optimize results\n",
    "plt.scatter(y2, y2_hat_lasso, color = \"blue\")# blue dots are yanyu's solver results\n",
    "plt.plot(y2,y2,color = 'g')\n",
    "plt.show()"
   ]
  },
  {
   "cell_type": "code",
   "execution_count": null,
   "id": "6f7f1b3f",
   "metadata": {},
   "outputs": [],
   "source": [
    "def EN(beta):\n",
    "    term1 = beta.T @ A1 @ beta - 2 * b1.T @ beta\n",
    "    term2 = np.linalg.norm(y2 - X2 @ beta)**2 #L2 norm should be squared here(least square)\n",
    "    ridge = np.linalg.norm(beta)**2\n",
    "    lasso = np.linalg.norm(beta, ord = 1)\n",
    "    penalty = 0.1 * lasso + 0.9 * ridge\n",
    "    return term1 + term2 + penalty"
   ]
  },
  {
   "cell_type": "code",
   "execution_count": null,
   "id": "3301ef2a",
   "metadata": {},
   "outputs": [],
   "source": [
    "t = time.time()\n",
    "result_EN = optimize.minimize(EN,beta)\n",
    "print(f'Run time = {time.time()-t} s')"
   ]
  },
  {
   "cell_type": "code",
   "execution_count": null,
   "id": "a80cd2a2",
   "metadata": {},
   "outputs": [],
   "source": [
    "y2_hat_en_op = X2 @ result_EN.x\n",
    "plt.scatter(y2, y2_hat_en_op, color = \"red\")# red dots are scipy.optimize results\n",
    "plt.scatter(y2, y2_hat_en, color = \"blue\")# blue dots are yanyu's solver results\n",
    "plt.plot(y2,y2,color = 'g')\n",
    "plt.show()"
   ]
  },
  {
   "cell_type": "code",
   "execution_count": null,
   "id": "e2eba0ca",
   "metadata": {},
   "outputs": [],
   "source": []
  }
 ],
 "metadata": {
  "kernelspec": {
   "display_name": "transethnic_prs",
   "language": "python",
   "name": "transethnic_prs"
  },
  "language_info": {
   "codemirror_mode": {
    "name": "ipython",
    "version": 3
   },
   "file_extension": ".py",
   "mimetype": "text/x-python",
   "name": "python",
   "nbconvert_exporter": "python",
   "pygments_lexer": "ipython3",
   "version": "3.7.10"
  }
 },
 "nbformat": 4,
 "nbformat_minor": 5
}
