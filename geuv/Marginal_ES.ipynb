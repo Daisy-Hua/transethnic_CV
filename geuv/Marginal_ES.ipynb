{
 "cells": [
  {
   "cell_type": "code",
   "execution_count": 1,
   "id": "a979cfe0",
   "metadata": {},
   "outputs": [],
   "source": [
    "import pandas as pd\n",
    "import numpy as np\n",
    "import time\n",
    "import matplotlib.pyplot as plt\n",
    "from sklearn.linear_model import lasso_path, enet_path"
   ]
  },
  {
   "cell_type": "code",
   "execution_count": 2,
   "id": "49f51a86",
   "metadata": {},
   "outputs": [],
   "source": [
    "pheno_total = pd.read_csv('data/GD462.GeneQuantRPKM.50FN.samplename.resk10.txt', sep = '\\t', index_col = 'TargetID')\n",
    "target_pheno_total = pheno_total.loc['ENSG00000167074.9']\n",
    "\n",
    "b_hat_eur_total = pd.read_csv('data/EUR373.gene.cis.FDR5.all.rs137.txt', sep = '\\t')\n",
    "b_hat_eur_total_grouped = dict(list(b_hat_eur_total.groupby('GENE_ID')))\n",
    "b_hat_eur_target = b_hat_eur_total_grouped['ENSG00000167074.9']\n",
    "\n",
    "eur_sample = pd.read_csv('data/clean/eur_genotype.012.indv', sep = '\\t', header = None)\n",
    "afr_sample = pd.read_csv('data/clean/afr_genotype.012.indv', sep = '\\t',header = None)\n",
    "\n",
    "target_pheno_eur = pd.merge(target_pheno_total, eur_sample, left_index = True, right_on = 0)\n",
    "target_pheno_afr = pd.merge(target_pheno_total, afr_sample, left_index = True, right_on = 0)\n",
    "\n",
    "eur_genotype = pd.read_csv('data/clean/eur_genotype.012', sep = '\\t', header = None, index_col = 0)\n",
    "afr_genotype = pd.read_csv('data/clean/afr_genotype.012', sep = '\\t', header = None, index_col = 0)\n",
    "\n",
    "pa = target_pheno_afr.set_index(0)\n",
    "pe = target_pheno_eur.set_index(0)\n",
    "\n",
    "sorted_eur_pheno = pd.merge(eur_sample, pe, left_on = 0 , right_index = True, how = 'left')\n",
    "sorted_afr_pheno = pd.merge(afr_sample, pa, left_on = 0 , right_index = True, how = 'left')\n",
    "sorted_b_hat_eur = b_hat_eur_target.sort_values(by = 'SNPpos')\n",
    "\n",
    "X1o = eur_genotype\n",
    "X2o = afr_genotype\n",
    "b1_hat = sorted_b_hat_eur['rvalue']\n",
    "y1o = sorted_eur_pheno['ENSG00000167074.9']\n",
    "y2o = sorted_afr_pheno['ENSG00000167074.9']\n",
    "R1 = X1o.cov()"
   ]
  },
  {
   "cell_type": "code",
   "execution_count": 15,
   "id": "0eba11a2",
   "metadata": {},
   "outputs": [
    {
     "name": "stdout",
     "output_type": "stream",
     "text": [
      "869\n",
      "(869,)\n"
     ]
    },
    {
     "name": "stderr",
     "output_type": "stream",
     "text": [
      "<ipython-input-15-526f9147c265>:12: FutureWarning: `rcond` parameter will change to the default of machine precision times ``max(M, N)`` where M and N are the input matrix dimensions.\n",
      "To use the future default and silence this warning we advise to pass `rcond=None`, to keep using the old, explicitly pass `rcond=-1`.\n",
      "  b_hat, intercept = np.linalg.lstsq(x1,y1o)[0]\n"
     ]
    }
   ],
   "source": [
    "# least squares for marginal effect sizes\n",
    "X1o = np.array(X1o,dtype = np.float64,order = 'C')\n",
    "X2o = np.array(X2o,dtype = np.float64,order = 'C')\n",
    "y1o = np.array(y1o,dtype = np.float64,order = 'C')\n",
    "y2o = np.array(y2o,dtype = np.float64,order = 'C')\n",
    "\n",
    "b1_hat = []\n",
    "count3 = 0\n",
    "for x1 in X1o.T:\n",
    "    count3+=1\n",
    "    x1 = np.vstack([x1, np.ones(len(x1))]).T\n",
    "    b_hat, intercept = np.linalg.lstsq(x1,y1o)[0]\n",
    "    b1_hat.append(b_hat)\n",
    "print(count3)\n",
    "b1_hat = np.array(b1_hat, dtype = np.float64, order = 'C')\n",
    "print(b1_hat.shape)"
   ]
  },
  {
   "cell_type": "code",
   "execution_count": 18,
   "id": "52350e2e",
   "metadata": {},
   "outputs": [
    {
     "data": {
      "text/plain": [
       "(array([ 4., 17., 45., 39.,  5., 26.,  6.,  8., 16., 29., 19., 22.,  8.,\n",
       "         5.,  8.,  4.,  7.,  3.,  1.,  4.,  0.,  3.,  1.,  4.,  1.,  1.,\n",
       "         1.,  2.,  1.,  0.,  0.,  0.,  0.,  1.,  0.,  1.,  0.,  0.,  1.,\n",
       "         0.,  1.,  0.,  3.,  1.,  0.,  0.,  0.,  0.,  1.,  0.,  0.,  4.,\n",
       "         2.,  1.,  1.,  2.,  8.,  5.,  4.,  2., 21.,  4.,  3.,  4.,  4.,\n",
       "         3.,  0.,  1.,  0.,  0.,  0.,  0.,  0.,  0.,  1.,  0.,  1.,  0.,\n",
       "         0.,  0.,  1.,  0.,  0.,  0.,  0.,  0.,  0.,  0.,  0.,  0.,  0.,\n",
       "         0.,  0.,  0.,  0.,  0.,  0.,  0.,  0.,  0.,  0.,  0.,  0.,  0.,\n",
       "         0.,  0.,  0.,  0.,  0.,  0.,  0.,  0.,  0.,  0.,  0.,  0.,  0.,\n",
       "         0.,  0.,  0.,  0.,  0.,  0.,  0.,  0.,  0.,  0.,  0.,  0.,  0.,\n",
       "         0.,  0.,  0.,  2.,  1.,  0.,  2.,  2., 10.,  3.,  6., 16.,  6.,\n",
       "         1.,  9.,  3., 14.,  2.,  6.,  3.,  7., 24.,  7., 10., 15.,  8.,\n",
       "         3.,  2.,  4., 10.,  7., 11., 12., 10.,  2.,  7.,  5.,  1.,  3.,\n",
       "         1.,  2.,  1.,  8.,  0.,  8.,  8.,  8.,  5., 11.,  3.,  3.,  2.,\n",
       "         2.,  9., 17.,  9.,  6.,  9.,  8., 10.,  8., 17., 11.,  0.,  3.,\n",
       "        11., 17., 17., 43.,  7.]),\n",
       " array([-0.38726841, -0.38338636, -0.37950432, -0.37562228, -0.37174023,\n",
       "        -0.36785819, -0.36397614, -0.3600941 , -0.35621206, -0.35233001,\n",
       "        -0.34844797, -0.34456592, -0.34068388, -0.33680184, -0.33291979,\n",
       "        -0.32903775, -0.3251557 , -0.32127366, -0.31739162, -0.31350957,\n",
       "        -0.30962753, -0.30574549, -0.30186344, -0.2979814 , -0.29409935,\n",
       "        -0.29021731, -0.28633527, -0.28245322, -0.27857118, -0.27468913,\n",
       "        -0.27080709, -0.26692505, -0.263043  , -0.25916096, -0.25527892,\n",
       "        -0.25139687, -0.24751483, -0.24363278, -0.23975074, -0.2358687 ,\n",
       "        -0.23198665, -0.22810461, -0.22422256, -0.22034052, -0.21645848,\n",
       "        -0.21257643, -0.20869439, -0.20481235, -0.2009303 , -0.19704826,\n",
       "        -0.19316621, -0.18928417, -0.18540213, -0.18152008, -0.17763804,\n",
       "        -0.17375599, -0.16987395, -0.16599191, -0.16210986, -0.15822782,\n",
       "        -0.15434578, -0.15046373, -0.14658169, -0.14269964, -0.1388176 ,\n",
       "        -0.13493556, -0.13105351, -0.12717147, -0.12328942, -0.11940738,\n",
       "        -0.11552534, -0.11164329, -0.10776125, -0.10387921, -0.09999716,\n",
       "        -0.09611512, -0.09223307, -0.08835103, -0.08446899, -0.08058694,\n",
       "        -0.0767049 , -0.07282285, -0.06894081, -0.06505877, -0.06117672,\n",
       "        -0.05729468, -0.05341264, -0.04953059, -0.04564855, -0.0417665 ,\n",
       "        -0.03788446, -0.03400242, -0.03012037, -0.02623833, -0.02235628,\n",
       "        -0.01847424, -0.0145922 , -0.01071015, -0.00682811, -0.00294607,\n",
       "         0.00093598,  0.00481802,  0.00870007,  0.01258211,  0.01646415,\n",
       "         0.0203462 ,  0.02422824,  0.02811029,  0.03199233,  0.03587437,\n",
       "         0.03975642,  0.04363846,  0.0475205 ,  0.05140255,  0.05528459,\n",
       "         0.05916664,  0.06304868,  0.06693072,  0.07081277,  0.07469481,\n",
       "         0.07857686,  0.0824589 ,  0.08634094,  0.09022299,  0.09410503,\n",
       "         0.09798707,  0.10186912,  0.10575116,  0.10963321,  0.11351525,\n",
       "         0.11739729,  0.12127934,  0.12516138,  0.12904343,  0.13292547,\n",
       "         0.13680751,  0.14068956,  0.1445716 ,  0.14845364,  0.15233569,\n",
       "         0.15621773,  0.16009978,  0.16398182,  0.16786386,  0.17174591,\n",
       "         0.17562795,  0.17951   ,  0.18339204,  0.18727408,  0.19115613,\n",
       "         0.19503817,  0.19892021,  0.20280226,  0.2066843 ,  0.21056635,\n",
       "         0.21444839,  0.21833043,  0.22221248,  0.22609452,  0.22997657,\n",
       "         0.23385861,  0.23774065,  0.2416227 ,  0.24550474,  0.24938678,\n",
       "         0.25326883,  0.25715087,  0.26103292,  0.26491496,  0.268797  ,\n",
       "         0.27267905,  0.27656109,  0.28044314,  0.28432518,  0.28820722,\n",
       "         0.29208927,  0.29597131,  0.29985335,  0.3037354 ,  0.30761744,\n",
       "         0.31149949,  0.31538153,  0.31926357,  0.32314562,  0.32702766,\n",
       "         0.33090971,  0.33479175,  0.33867379,  0.34255584,  0.34643788,\n",
       "         0.35031993,  0.35420197,  0.35808401,  0.36196606,  0.3658481 ,\n",
       "         0.36973014,  0.37361219,  0.37749423,  0.38137628,  0.38525832,\n",
       "         0.38914036]),\n",
       " <BarContainer object of 200 artists>)"
      ]
     },
     "execution_count": 18,
     "metadata": {},
     "output_type": "execute_result"
    },
    {
     "data": {
      "image/png": "[encoded data removed]",
      "text/plain": [
       "<Figure size 432x288 with 1 Axes>"
      ]
     },
     "metadata": {
      "needs_background": "light"
     },
     "output_type": "display_data"
    }
   ],
   "source": [
    "plt.hist(b1_hat, bins = 200)"
   ]
  },
  {
   "cell_type": "code",
   "execution_count": 19,
   "id": "2382d02f",
   "metadata": {},
   "outputs": [],
   "source": [
    "X1 = (X1o-X1o.mean())\n",
    "X2 = (X2o-X2o.mean())\n",
    "y1 = (y1o-y1o.mean())\n",
    "y2 = (y2o-y2o.mean())\n",
    "N1 = 373\n",
    "N2 = 89"
   ]
  },
  {
   "cell_type": "code",
   "execution_count": 31,
   "id": "0eb5cabe",
   "metadata": {},
   "outputs": [
    {
     "data": {
      "text/plain": [
       "1.0"
      ]
     },
     "execution_count": 31,
     "metadata": {},
     "output_type": "execute_result"
    }
   ],
   "source": []
  },
  {
   "cell_type": "code",
   "execution_count": 21,
   "id": "4f69432a",
   "metadata": {},
   "outputs": [
    {
     "name": "stdout",
     "output_type": "stream",
     "text": [
      "133\n",
      "[0, 1, 2, 3, 4, 5, 6, 7, 8, 9, 10, 11, 12, 14, 15, 16, 17, 18, 19, 20, 21, 22, 23, 24, 25, 26, 27, 28, 29, 30, 31, 32, 33, 34, 35, 36, 37, 38, 39, 40, 41, 42, 43, 44, 45, 46, 47, 48, 49, 50, 51, 52, 53, 54, 55, 56, 57, 58, 59, 60, 61, 62, 63, 64, 65, 66, 67, 68, 69, 70, 71, 72, 73, 74, 75, 76, 77, 78, 79, 80, 81, 82, 83, 84, 85, 86, 87, 88, 89, 90, 91, 92, 93, 95, 96, 97, 98, 99, 100, 101, 102, 103, 104, 105, 106, 107, 108, 109, 110, 112, 113, 114, 115, 116, 117, 118, 119, 120, 121, 122, 123, 124, 125, 126, 127, 128, 129, 130, 131, 132, 133, 134, 135, 136, 137, 138, 139, 140, 141, 142, 143, 144, 145, 146, 147, 148, 149, 150, 151, 152, 153, 154, 155, 156, 157, 158, 159, 161, 162, 164, 165, 166, 167, 168, 169, 170, 171, 172, 173, 174, 175, 176, 177, 178, 179, 180, 181, 182, 183, 184, 185, 186, 187, 188, 189, 190, 191, 192, 193, 194, 195, 196, 197, 198, 199, 200, 201, 202, 203, 204, 205, 206, 207, 208, 209, 210, 211, 212, 213, 214, 215, 218, 219, 220, 221, 222, 223, 225, 227, 228, 230, 231, 232, 233, 234, 235, 236, 237, 238, 239, 240, 241, 242, 243, 244, 245, 246, 247, 248, 249, 250, 251, 252, 253, 254, 255, 256, 257, 258, 259, 260, 261, 262, 264, 265, 266, 268, 269, 271, 272, 273, 274, 275, 276, 277, 278, 279, 280, 281, 282, 283, 284, 285, 286, 287, 288, 289, 290, 291, 292, 293, 294, 295, 296, 297, 298, 299, 300, 302, 305, 306, 307, 308, 310, 312, 317, 318, 319, 320, 322, 323, 324, 325, 326, 328, 329, 330, 331, 332, 333, 335, 336, 337, 338, 339, 340, 341, 342, 343, 344, 345, 346, 347, 348, 349, 350, 351, 352, 353, 354, 355, 356, 357, 358, 359, 360, 361, 362, 363, 364, 365, 366, 367, 368, 369, 370, 371, 372, 373, 374, 375, 376, 377, 378, 379, 380, 381, 382, 383, 384, 385, 386, 387, 388, 389, 390, 391, 392, 393, 394, 395, 396, 397, 398, 399, 400, 401, 402, 403, 404, 405, 406, 407, 408, 409, 410, 411, 412, 414, 415, 418, 419, 420, 421, 422, 423, 424, 425, 426, 427, 428, 429, 430, 431, 432, 435, 436, 437, 438, 439, 440, 441, 442, 443, 444, 445, 446, 447, 449, 450, 451, 452, 453, 454, 455, 456, 457, 458, 459, 460, 461, 462, 463, 464, 465, 466, 467, 468, 469, 470, 471, 472, 473, 474, 475, 476, 477, 478, 479, 480, 481, 482, 483, 484, 485, 486, 487, 488, 489, 490, 491, 492, 493, 494, 495, 496, 497, 498, 499, 500, 501, 503, 504, 505, 506, 507, 508, 509, 510, 511, 512, 513, 514, 515, 516, 517, 518, 519, 520, 522, 524, 525, 526, 527, 529, 530, 532, 533, 535, 536, 537, 538, 539, 540, 543, 545, 546, 547, 548, 553, 554, 555, 557, 558, 560, 563, 564, 567, 568, 570, 571, 574, 576, 578, 579, 580, 581, 582, 583, 585, 586, 587, 588, 589, 591, 592, 594, 595, 596, 597, 598, 599, 602, 603, 604, 605, 606, 607, 610, 612, 613, 614, 615, 616, 617, 618, 619, 620, 622, 623, 625, 626, 628, 629, 630, 631, 633, 634, 635, 636, 637, 638, 639, 640, 641, 643, 645, 646, 647, 648, 650, 651, 652, 655, 656, 659, 661, 662, 663, 665, 666, 667, 668, 669, 671, 672, 673, 674, 675, 676, 677, 678, 680, 682, 683, 685, 686, 687, 688, 689, 690, 691, 692, 693, 695, 696, 697, 698, 699, 701, 702, 703, 704, 707, 708, 711, 713, 714, 715, 716, 717, 718, 719, 720, 724, 725, 727, 728, 729, 734, 735, 736, 737, 738, 739, 740, 741, 743, 744, 746, 750, 755, 756, 759, 760, 762, 764, 765, 766, 767, 769, 770, 771, 773, 774, 775, 776, 779, 780, 788, 789, 790, 793, 798, 799, 801, 802, 803, 808, 809, 810, 811, 812, 813, 814, 815, 816, 817, 818, 819, 820, 821, 822, 823, 824, 825, 826, 827, 829, 830, 831, 832, 833, 834, 835, 836, 837, 838, 839, 840, 841, 842, 843, 844, 845, 846, 847, 848, 849, 850, 851, 852, 854, 855, 857, 858, 859, 860, 861, 862, 863, 864, 865, 866, 867, 868]\n"
     ]
    }
   ],
   "source": [
    "for idx1,x1 in enumerate(np.std(X1o, axis = 0)): # pandas DataFrame.std() is based on column, numpy ndarray.std() is simply computed for the flattened array, you have to use np.std(x,axis = 1) to set column-based mode.\n",
    "    if x1==0:\n",
    "        print(idx1)\n",
    "idx_valid = []\n",
    "count = 0\n",
    "for idx2,x2 in enumerate(np.std(X2o, axis = 0)):\n",
    "    if x2==0:\n",
    "        count +=1\n",
    "    else:\n",
    "        idx_valid.append(idx2)\n",
    "        #print(idx2)\n",
    "print(count)\n",
    "print(idx_valid)"
   ]
  },
  {
   "cell_type": "code",
   "execution_count": 22,
   "id": "5a91555f",
   "metadata": {},
   "outputs": [],
   "source": [
    "X1 = np.array(X1,dtype = np.float64,order = 'C')\n",
    "X1o = np.array(X1o,dtype = np.float64,order = 'C')\n",
    "X2 = np.array(X2,dtype = np.float64,order = 'C')\n",
    "X2o = np.array(X2o,dtype = np.float64,order = 'C')\n",
    "b1_hat = np.array(b1_hat, dtype = np.float64,order = 'C')\n",
    "y1 = np.array(y1, dtype = np.float64, order = 'C')\n",
    "y1o = np.array(y1o,dtype = np.float64,order = 'C')\n",
    "y2 = np.array(y2, dtype = np.float64, order = 'C')\n",
    "y2o = np.array(y2o,dtype = np.float64,order = 'C')\n",
    "R1 = np.array(R1,dtype = np.float64, order = 'C')"
   ]
  },
  {
   "cell_type": "code",
   "execution_count": 23,
   "id": "9dfbe3b8",
   "metadata": {},
   "outputs": [],
   "source": [
    "X1 = X1[:,idx_valid]\n",
    "X2 = X2[:,idx_valid]\n",
    "X1o = X1o[:,idx_valid]\n",
    "X2o = X2o[:,idx_valid]\n",
    "b1_valid = b1_hat[idx_valid]"
   ]
  },
  {
   "cell_type": "code",
   "execution_count": 24,
   "id": "10b3b9dc",
   "metadata": {},
   "outputs": [],
   "source": [
    "b1_std = np.std(X1o, axis = 0) * b1_valid / y1o.std()"
   ]
  },
  {
   "cell_type": "code",
   "execution_count": 25,
   "id": "f526a614",
   "metadata": {},
   "outputs": [],
   "source": [
    "X1 = X1/np.std(X1o, axis = 0)\n",
    "X2 = X2/np.std(X2o, axis = 0)\n",
    "y1 = y1/y1o.std()\n",
    "y2 = y2/y2o.std()\n",
    "R1 = np.cov(X1.T)\n",
    "D_R1 = np.diag(np.diag(R1))"
   ]
  },
  {
   "cell_type": "code",
   "execution_count": 26,
   "id": "918d8814",
   "metadata": {},
   "outputs": [
    {
     "data": {
      "text/plain": [
       "0.28084493125978366"
      ]
     },
     "execution_count": 26,
     "metadata": {},
     "output_type": "execute_result"
    }
   ],
   "source": [
    " np.std(X1o, axis = 0)[0] * b1_valid[0] / y1o.std()"
   ]
  },
  {
   "cell_type": "code",
   "execution_count": 27,
   "id": "e03d2aed",
   "metadata": {},
   "outputs": [
    {
     "name": "stdout",
     "output_type": "stream",
     "text": [
      "[104.75515936 104.36093673  98.96388122 104.36093673 104.36093673]\n",
      "[104.75515936 104.36093673  98.96388122 104.36093673 104.36093673]\n"
     ]
    }
   ],
   "source": [
    "A1 = X1.T @ X1\n",
    "A1_t = (N1-1)*R1\n",
    "b1_t = (N1-1) * (D_R1 @ b1_std)\n",
    "b1 = X1.T @ y1\n",
    "print(b1[0:5])\n",
    "print(b1_t[0:5])"
   ]
  }
 ],
 "metadata": {
  "kernelspec": {
   "display_name": "Python 3",
   "language": "python",
   "name": "python3"
  },
  "language_info": {
   "codemirror_mode": {
    "name": "ipython",
    "version": 3
   },
   "file_extension": ".py",
   "mimetype": "text/x-python",
   "name": "python",
   "nbconvert_exporter": "python",
   "pygments_lexer": "ipython3",
   "version": "3.7.10"
  }
 },
 "nbformat": 4,
 "nbformat_minor": 5
}
