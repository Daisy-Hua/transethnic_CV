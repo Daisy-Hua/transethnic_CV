{
 "cells": [
  {
   "cell_type": "code",
   "execution_count": 87,
   "id": "24247ede",
   "metadata": {},
   "outputs": [],
   "source": [
    "import sys\n",
    "sys.path.append('code/transethnic_prs-main/')\n",
    "import pandas as pd\n",
    "import numpy as np\n",
    "import matplotlib.pyplot as plt\n",
    "import transethnic_prs.model1.Model1Blk as model1blk\n",
    "from transethnic_prs.model1.Model1Helper import get_lambda_seq\n",
    "from sklearn.model_selection import KFold\n",
    "from sklearn.model_selection import train_test_split\n",
    "from sklearn.metrics import mean_squared_error\n",
    "from scipy.stats import spearmanr\n",
    "from sklearn.linear_model import ElasticNetCV\n",
    "\n",
    "#gene = sys.argv[1]\n",
    "#gene_name = sys.argv[2]\n",
    "\n",
    "gene = 'ENSG00000128185.5'\n",
    "gene_name = 'DGCR6L'\n",
    "\n",
    "\n",
    "def data_processing(gene, gene_name):\n",
    "    # read eur and afr sample info\n",
    "    eur_sample = pd.read_csv('data/clean/' + gene_name + '_genotype/eur_' + gene_name + '_genotype.012.indv', sep='\\t',\n",
    "                             header=None)\n",
    "    afr_sample = pd.read_csv('data/clean/' + gene_name + '_genotype/afr_' + gene_name + '_genotype.012.indv', sep='\\t',\n",
    "                             header=None)\n",
    "\n",
    "    # load 2 genotype matrices\n",
    "    eur_genotype = pd.read_csv('data/clean/' + gene_name + '_genotype/eur_' + gene_name + '_genotype.012', sep='\\t',\n",
    "                               header=None, index_col=0)\n",
    "    afr_genotype = pd.read_csv('data/clean/' + gene_name + '_genotype/afr_' + gene_name + '_genotype.012', sep='\\t',\n",
    "                               header=None, index_col=0)\n",
    "\n",
    "    # extract target phenotype vector\n",
    "    pheno_total = pd.read_csv('data/GD462.GeneQuantRPKM.50FN.samplename.resk10.txt', sep='\\t', index_col='TargetID')\n",
    "    target_pheno_total = pheno_total.loc[gene]\n",
    "    target_pheno_eur = pd.merge(target_pheno_total, eur_sample, left_index=True, right_on=0)\n",
    "    target_pheno_afr = pd.merge(target_pheno_total, afr_sample, left_index=True, right_on=0)\n",
    "    pa = target_pheno_afr.set_index(0)\n",
    "    pe = target_pheno_eur.set_index(0)\n",
    "\n",
    "    # make sure the sample order of phenotype vector is the same as genotype matrix's\n",
    "    sorted_eur_pheno = pd.merge(eur_sample, pe, left_on=0, right_index=True, how='left')\n",
    "    sorted_afr_pheno = pd.merge(afr_sample, pa, left_on=0, right_index=True, how='left')\n",
    "\n",
    "    return eur_genotype, afr_genotype, sorted_eur_pheno, sorted_afr_pheno\n",
    "\n",
    "def check_nan(x):\n",
    "    count = 0\n",
    "    for x in x.describe().loc['min']:\n",
    "        if x == -1: # vcftools outputs nan genotypes as -1\n",
    "            count+=1\n",
    "    return count\n",
    "\n",
    "def SNP_var_check(X): # check SNPs whoes variance=0 and output valid SNPs index\n",
    "    col_valid = []\n",
    "    count = 0\n",
    "    for col,x in enumerate(np.std(X, axis = 0)):\n",
    "        if x==0:\n",
    "            count +=1\n",
    "        else:\n",
    "            col_valid.append(col)\n",
    "    return col_valid, count\n",
    "\n",
    "def standardization(x):\n",
    "    x=np.array(x,dtype = np.float64,order = 'C')\n",
    "    x_center = x - np.mean(x,axis = 0)\n",
    "    return x_center/np.std(x, axis = 0)\n",
    "\n",
    "def test(y_hat_test, pop):\n",
    "    # validate the final result on AFR test set.\n",
    "    # standardize the calculated y_hat_test\n",
    "    y_hat_test = (y_hat_test-y_hat_test.mean())/y_hat_test.std()\n",
    "    # give correlation matrix between y_hat_test and y_test_std(standardized true y_test)\n",
    "    correlation_test_matrix = np.corrcoef(y_hat_test, y_test_std)\n",
    "    correlation_test = correlation_test_matrix[0,1]# this is the pearson r\n",
    "    r2 = correlation_test**2 #pearson r2\n",
    "    # fit a line using OLS to plot and m should equal r\n",
    "    m, b = np.polyfit(y_test_std, y_hat_test, 1)\n",
    "    # spearman correlation r\n",
    "    sp_r, _ = spearmanr(y_hat_test,y_test_std)\n",
    "    #plot\n",
    "    plt.title(gene_name + ' based on' + pop + \"'s info\")\n",
    "    plt.xlabel('observation')\n",
    "    plt.ylabel('prediction')\n",
    "    plt.axis([-2.5,2.5,-3,3])\n",
    "    plt.scatter(y_test_std, y_hat_test, color=\"blue\")\n",
    "    plt.plot(y_test_std, m * y_test_std + b)\n",
    "    plt.text(-2, 2.5, f\"pearson R2 = %f\" % r2)\n",
    "    plt.text(-2, 2.2, f\"spearman R2 = %f\" % sp_r**2)\n",
    "    plt.savefig('result/' + gene_name + '_' + pop + '_pearsonR2_CV_plot.png')\n",
    "    plt.close()\n",
    "    return r2,m,sp_r**2,sp_r\n",
    "\n",
    "eur_genotype, afr_genotype, sorted_eur_pheno, sorted_afr_pheno = data_processing(gene, gene_name)\n",
    "\n",
    "# check and count the number of missing genotypes in Eur and Afr.\n",
    "nan_eur = check_nan(eur_genotype)\n",
    "nan_afr = check_nan(afr_genotype)\n",
    "\n",
    "# inpute nan with each SNP's mean value\n",
    "f = lambda x : x.replace(-1,x.mean())\n",
    "eur_genotype = eur_genotype.apply(f, axis = 'index')\n",
    "afr_genotype = afr_genotype.apply(f, axis = 'index')\n",
    "\n",
    "# original matrix(before standardization)\n",
    "X1o = np.array(eur_genotype,dtype = np.float64,order = 'C')\n",
    "X2o = np.array(afr_genotype,dtype = np.float64,order = 'C')\n",
    "y1o = np.array(sorted_eur_pheno[gene],dtype = np.float64,order = 'C')\n",
    "y2o = np.array(sorted_afr_pheno[gene],dtype = np.float64,order = 'C')\n",
    "\n",
    "# step1:find invalid SNPs in original afr matrix and get 1st valid SNP set on non-split whole sample set.\n",
    "col_valid1,count1 = SNP_var_check(X2o)\n",
    "\n",
    "# step2:split 1st filtered X2o into training set and test set\n",
    "X_train,X_test,y_train,y_test = train_test_split(X2o,y2o,test_size = 0.2, random_state = 0,shuffle = False)\n",
    "\n",
    "# step3: find invalid SNPs in test set and filter them out and get 2nd valid SNP set on test set.\n",
    "col_valid2,count2 = SNP_var_check(X_test)\n",
    "\n",
    "# step4: KFold = 5\n",
    "kf = KFold(n_splits=5)#without shuffling, the random state is immutable.\n",
    "\n",
    "# step5: pre-CV to find intersection of valid SNPs and get 3nd valid SNP set on whole training set. (including training set and validation set in each fold).\n",
    "i = 1\n",
    "for train_index, test_index in kf.split(X_train):\n",
    "    train_index = list(train_index)\n",
    "    test_index = list(test_index)\n",
    "    X_to, X_vo = X_train[train_index, :], X_train[test_index, :]\n",
    "    y_to, y_vo = y_train[train_index], y_train[test_index]\n",
    "    col_valid_train, count_train = SNP_var_check(X_to)# valid SNPs on training set\n",
    "    col_valid_valid, count_valid = SNP_var_check(X_vo)# valid SNPs on validation set\n",
    "    col_valid3 = list(set(col_valid_train).intersection(set(col_valid_valid)))\n",
    "    globals()['col_set%s' % i] = col_valid3\n",
    "    i+=1\n",
    "\n",
    "# intersection of valid SNP indexes in all 5 fold\n",
    "valid_col_trainset = list(set(col_set1).intersection(col_set2).intersection(col_set3).intersection(col_set4).intersection(col_set5))\n",
    "\n",
    "# step6: produce final valid SNP set on intersections generated by test set, training sets and validation sets.\n",
    "col_valid_final = list(set(col_valid1).intersection(col_valid2).intersection(valid_col_trainset))\n",
    "# ps: here intersecting with col_valid1 is not necessary, the final set is the same with or without it.\n",
    "\n",
    "# choose the valid subset of EUR matrix, standardize it and generate summary statistics.\n",
    "X1o = X1o[:, col_valid_final]\n",
    "X1, y1 = standardization(X1o), standardization(y1o)\n",
    "A1 = X1.T @ X1\n",
    "b1 = X1.T @ y1\n",
    "# A1 and b1 can also be generated using summary statistics such as LD matrix and marginal effect size vector. Results are identical.\n",
    "\n",
    "# choose the valid subset of AFR test set, standardize it.\n",
    "X_test = X_test[:, col_valid_final]\n",
    "X_test_std = standardization(X_test)\n",
    "y_test_std = standardization(y_test)\n",
    "\n",
    "\n",
    "'''\n",
    "Eur + Afr model\n",
    "Using Yanyu's lasso and EN solver.\n",
    "5fold CV for hyperparameter lambda and estimator beta_hat\n",
    "'''\n",
    "\n",
    "def r2_score(beta_mat):\n",
    "    # use pearson R2 to score\n",
    "    Max2 = 0\n",
    "    for i in range(100):\n",
    "        beta_hat = beta_mat[:, i]\n",
    "        y_v_hat = X_v_std @ beta_hat\n",
    "        correlation_matrix = np.corrcoef(y_v_hat, y_v_std)\n",
    "        r = correlation_matrix[0, 1]\n",
    "        r2 = r ** 2\n",
    "        if r2 > Max2:\n",
    "            Max2 = r2 # Max2 is the largest r2 in one fold among all r2s generated by every weight decay separately\n",
    "            idx = i\n",
    "    return Max2, idx\n",
    "\n"
   ]
  },
  {
   "cell_type": "code",
   "execution_count": 79,
   "id": "a440f873",
   "metadata": {},
   "outputs": [],
   "source": [
    "def MSE_score(beta_mat):\n",
    "    # use MSE between y and y_hat to score\n",
    "    mse_list = []\n",
    "    Min2 = 100\n",
    "    for i in range(100):\n",
    "        beta_hat = beta_mat[:, i]\n",
    "        y_v_hat = X_v_std @ beta_hat\n",
    "        MSE = mean_squared_error(y_v_std, y_v_hat)\n",
    "        mse_list.append(MSE)\n",
    "        if MSE < Min2:\n",
    "            Min2 = MSE  # Min2 is the smallest MSE in one fold among all MSEs generated by every weight decay separately\n",
    "            idx = i\n",
    "       \n",
    "    return Min2, idx, mse_list"
   ]
  },
  {
   "cell_type": "code",
   "execution_count": 88,
   "id": "96164576",
   "metadata": {},
   "outputs": [
    {
     "name": "stderr",
     "output_type": "stream",
     "text": [
      "/home/daisy/anaconda3/envs/transethnic_prs/lib/python3.7/site-packages/ipykernel_launcher.py:73: RuntimeWarning: invalid value encountered in true_divide\n",
      "/home/daisy/anaconda3/envs/transethnic_prs/lib/python3.7/site-packages/ipykernel_launcher.py:73: RuntimeWarning: invalid value encountered in true_divide\n"
     ]
    }
   ],
   "source": [
    "Min1_en = 100\n",
    "Min1_lasso = 100\n",
    "for train_index, test_index in kf.split(X_train):\n",
    "    X_to, X_vo = X_train[:,col_valid_final][train_index,:], X_train[:,col_valid_final][test_index,:]\n",
    "    y_to, y_vo = y_train[train_index], y_train[test_index]\n",
    "    X_t_std, X_v_std, y_t_std, y_v_std = standardization(X_to), standardization(X_vo), standardization(y_to), standardization(y_vo)\n",
    "    mod = model1blk.Model1Blk([A1],[b1],[X_t_std],y_t_std)\n",
    "    beta_mat_en, lambda_seq_en, _, _, _ = mod.solve_path(alpha=0.1)\n",
    "    beta_mat_lasso, lambda_seq_lasso, _, _, _ = mod.solve_path(alpha=1)\n",
    "    # score inside each fold\n",
    "    #Max_r2_lasso, idx_r2_lasso = r2_score(beta_mat_lasso)\n",
    "    #Max_r2_en, idx_r2_en = r2_score(beta_mat_en)\n",
    "    Min_MSE_lasso, idx_MSE_lasso, list_lasso = MSE_score(beta_mat_lasso)\n",
    "    Min_MSE_en, idx_MSE_en, list_en = MSE_score(beta_mat_en)\n",
    "\n",
    "    # pick out the smallest MSE among all 5 folds in en\n",
    "    if Min_MSE_en < Min1_en:\n",
    "        Min1_en=Min_MSE_en\n",
    "        lam=lambda_seq_en[idx_MSE_en]\n",
    "        beta_h_en_2=beta_mat_en[:,idx_MSE_en]\n",
    "\n",
    "    # pick out the smallest MSE among all 5 folds in lasso\n",
    "    if Min_MSE_lasso < Min1_lasso:\n",
    "        Min1_lasso=Min_MSE_en\n",
    "        lam=lambda_seq_lasso[idx_MSE_lasso]\n",
    "        beta_h_lasso_2=beta_mat_lasso[:,idx_MSE_lasso]\n",
    "\n",
    "# use AFR and EUR data to validate the final result on AFR test set.\n",
    "y_hat_test_en_2= X_test_std @ beta_h_en_2\n",
    "r2_en_2, m_en_2, spr2_en_2, spr_en_2 = test(y_hat_test_en_2,'Eue&Afr')\n",
    "\n",
    "y_hat_test_lasso_2= X_test_std @ beta_h_lasso_2\n",
    "r2_lasso_2, m_lasso_2, spr2_lasso_2, spr_lasso_2 = test(y_hat_test_lasso_2,'Eue&Afr')\n"
   ]
  },
  {
   "cell_type": "code",
   "execution_count": 74,
   "id": "3949048e",
   "metadata": {},
   "outputs": [
    {
     "data": {
      "text/plain": [
       "array([0])"
      ]
     },
     "execution_count": 74,
     "metadata": {},
     "output_type": "execute_result"
    }
   ],
   "source": [
    "np.arange(0,1,100)"
   ]
  },
  {
   "cell_type": "code",
   "execution_count": 89,
   "id": "1a1cfe4c",
   "metadata": {},
   "outputs": [
    {
     "data": {
      "text/plain": [
       "array([1359.22847772, 1297.44944566, 1238.47836595, 1182.18761283,\n",
       "       1128.45536131, 1077.16532355, 1028.20649716,  981.472925  ,\n",
       "        936.86346581,  894.28157539,  853.63509761,  814.83606498,\n",
       "        777.80050826,  742.44827475,  708.70285481,  676.49121629,\n",
       "        645.74364646,  616.39360113,  588.37756065,  561.63489245,\n",
       "        536.1077198 ,  511.74079654,  488.48138755,  466.27915459,\n",
       "        445.08604739,  424.85619962,  405.54582965,  387.1131458 ,\n",
       "        369.51825587,  352.72308085,  336.69127246,  321.38813449,\n",
       "        306.78054777,  292.83689841,  279.52700943,  266.82207545,\n",
       "        254.69460032,  243.11833766,  232.068234  ,  221.5203746 ,\n",
       "        211.45193169,  201.84111506,  192.66712487,  183.91010669,\n",
       "        175.55110851,  167.57203969,  159.95563187,  152.68540153,\n",
       "        145.74561439,  139.12125128,  132.7979757 ,  126.76210275,\n",
       "        121.00056954,  115.50090691,  110.25121244,  105.24012468,\n",
       "        100.45679859,   95.89088205,   91.53249347,   87.37220038,\n",
       "         83.40099903,   79.61029491,   75.99188414,   72.53793572,\n",
       "         69.24097459,   66.09386543,   63.08979725,   60.22226859,\n",
       "         57.48507354,   54.87228823,   52.37825804,   49.99758538,\n",
       "         47.72511796,   45.55593769,   43.48535002,   41.50887374,\n",
       "         39.62223137,   37.8213398 ,   36.10230154,   34.46139622,\n",
       "         32.89507257,   31.39994076,   29.97276499,   28.61045656,\n",
       "         27.31006715,   26.06878245,   24.88391606,   23.75290367,\n",
       "         22.67329754,   21.64276117,   20.65906428,   19.72007792,\n",
       "         18.82376994,   17.96820055,   17.1515181 ,   16.37195513,\n",
       "         15.62782451,   14.91751576,   14.23949165,   13.59228478])"
      ]
     },
     "execution_count": 89,
     "metadata": {},
     "output_type": "execute_result"
    }
   ],
   "source": [
    "lambda_seq_en"
   ]
  },
  {
   "cell_type": "code",
   "execution_count": 90,
   "id": "ec40d5c1",
   "metadata": {},
   "outputs": [
    {
     "data": {
      "image/png": "[encoded data removed]",
      "text/plain": [
       "<Figure size 640x480 with 1 Axes>"
      ]
     },
     "metadata": {},
     "output_type": "display_data"
    }
   ],
   "source": [
    "plt.scatter(lambda_seq_en,list_en)\n",
    "plt.show()"
   ]
  },
  {
   "cell_type": "code",
   "execution_count": 49,
   "id": "f43cb815",
   "metadata": {},
   "outputs": [
    {
     "name": "stderr",
     "output_type": "stream",
     "text": [
      "/home/daisy/anaconda3/envs/transethnic_prs/lib/python3.7/site-packages/numpy/lib/function_base.py:2559: RuntimeWarning: invalid value encountered in true_divide\n",
      "  c /= stddev[:, None]\n",
      "/home/daisy/anaconda3/envs/transethnic_prs/lib/python3.7/site-packages/numpy/lib/function_base.py:2560: RuntimeWarning: invalid value encountered in true_divide\n",
      "  c /= stddev[None, :]\n",
      "/home/daisy/anaconda3/envs/transethnic_prs/lib/python3.7/site-packages/scipy/stats/stats.py:4264: SpearmanRConstantInputWarning: An input array is constant; the correlation coefficent is not defined.\n",
      "  warnings.warn(SpearmanRConstantInputWarning())\n"
     ]
    },
    {
     "name": "stdout",
     "output_type": "stream",
     "text": [
      "nan0651 0.6116565341956068 0.384681578894118 0.6318281448531283 0.37450863241391286 nan nan nan nan\n"
     ]
    },
    {
     "name": "stderr",
     "output_type": "stream",
     "text": [
      "/home/daisy/anaconda3/envs/transethnic_prs/lib/python3.7/site-packages/numpy/lib/function_base.py:2559: RuntimeWarning: invalid value encountered in true_divide\n",
      "  c /= stddev[:, None]\n",
      "/home/daisy/anaconda3/envs/transethnic_prs/lib/python3.7/site-packages/numpy/lib/function_base.py:2560: RuntimeWarning: invalid value encountered in true_divide\n",
      "  c /= stddev[None, :]\n",
      "/home/daisy/anaconda3/envs/transethnic_prs/lib/python3.7/site-packages/scipy/stats/stats.py:4264: SpearmanRConstantInputWarning: An input array is constant; the correlation coefficent is not defined.\n",
      "  warnings.warn(SpearmanRConstantInputWarning())\n"
     ]
    }
   ],
   "source": [
    "# choose the valid subset of AFR training set for AFR-only model.\n",
    "X_train_1 = X_train[:, col_valid_final]\n",
    "\n",
    "# get lambda_max using kkt when beta=0, and then get lambda_seq\n",
    "lambda_max = 2 * np.absolute(X_train_1.T @ y_train).max()/0.1\n",
    "lambda_seq = get_lambda_seq(lambda_max, 100, 100)\n",
    "\n",
    "# AFR-only EN model\n",
    "\n",
    "model_en = ElasticNetCV(l1_ratio=0.1, alphas=lambda_seq, cv=kf, n_jobs=-1)\n",
    "model_en.fit(X_train_1, y_train)\n",
    "y_hat_test_en_1 = model_en.predict(X_test_std)\n",
    "r2_en_1, m_en_1, spr2_en_1, spr_en_1 = test(y_hat_test_en_1, 'Afr')\n",
    "\n",
    "# AFR-only lasso model\n",
    "model_lasso = ElasticNetCV(l1_ratio=1, alphas=lambda_seq, cv=kf, n_jobs=-1)\n",
    "model_lasso.fit(X_train_1, y_train)\n",
    "y_hat_test_lasso_1 = model_lasso.predict(X_test_std)\n",
    "r2_lasso_1, m_lasso_1, spr2_lasso_1, spr_lasso_1 = test(y_hat_test_lasso_1, 'Afr')\n",
    "\n",
    "print(gene_name, r2_en_2, spr2_en_2,r2_lasso_2,spr2_lasso_2,r2_en_1, spr2_en_1, r2_lasso_1, spr2_lasso_1)"
   ]
  },
  {
   "cell_type": "code",
   "execution_count": 45,
   "id": "725f605e",
   "metadata": {},
   "outputs": [
    {
     "data": {
      "text/plain": [
       "ElasticNetCV(alphas=array([1.00000000e+02, 9.99079298e+01, 9.98159444e+01, ...,\n",
       "       1.00184395e-02, 1.00092155e-02, 1.00000000e-02]),\n",
       "             cv=KFold(n_splits=5, random_state=None, shuffle=False),\n",
       "             l1_ratio=0.1, n_alphas=1000, n_jobs=-1)"
      ]
     },
     "execution_count": 45,
     "metadata": {},
     "output_type": "execute_result"
    }
   ],
   "source": [
    "model_test= ElasticNetCV(l1_ratio=0.1, n_alphas = 1000, alphas=get_lambda_seq(100, 10000, 10000), cv=kf, n_jobs=-1)\n",
    "model_test"
   ]
  },
  {
   "cell_type": "code",
   "execution_count": 46,
   "id": "16b43e68",
   "metadata": {},
   "outputs": [
    {
     "name": "stdout",
     "output_type": "stream",
     "text": [
      "0.12650573406631777\n"
     ]
    },
    {
     "data": {
      "text/plain": [
       "array([1.00961665, 0.68070444, 0.53587235, 0.68286615, 0.68478915,\n",
       "       0.5418503 , 1.2705167 , 0.57736914, 0.54057943, 0.64621737,\n",
       "       1.21096052, 0.64370246, 0.5804882 , 1.2003046 , 0.69217682,\n",
       "       0.70708995, 1.26951378, 0.61128943])"
      ]
     },
     "execution_count": 46,
     "metadata": {},
     "output_type": "execute_result"
    }
   ],
   "source": [
    "model_test.fit(X_train_1,y_train)\n",
    "print(model_test.alpha_)\n",
    "model_test.predict(X_test_std)"
   ]
  }
 ],
 "metadata": {
  "kernelspec": {
   "display_name": "transethnic_prs",
   "language": "python",
   "name": "transethnic_prs"
  },
  "language_info": {
   "codemirror_mode": {
    "name": "ipython",
    "version": 3
   },
   "file_extension": ".py",
   "mimetype": "text/x-python",
   "name": "python",
   "nbconvert_exporter": "python",
   "pygments_lexer": "ipython3",
   "version": "3.7.10"
  }
 },
 "nbformat": 4,
 "nbformat_minor": 5
}
