{
 "cells": [
  {
   "cell_type": "code",
   "execution_count": 64,
   "id": "e1a2f1f4",
   "metadata": {},
   "outputs": [],
   "source": [
    "import sys\n",
    "sys.path.append('code/transethnic_prs-main/')\n",
    "import pandas as pd\n",
    "import numpy as np\n",
    "import time\n",
    "import matplotlib.pyplot as plt\n",
    "import transethnic_prs.model1.Model1Blk as model1blk\n",
    "from scipy import optimize\n",
    "from sklearn.model_selection import KFold\n",
    "from sklearn.model_selection import train_test_split"
   ]
  },
  {
   "cell_type": "code",
   "execution_count": 65,
   "id": "6121f5d7",
   "metadata": {},
   "outputs": [],
   "source": [
    "gene = 'ENSG00000075234.12'\n",
    "gene_name = 'TTC38'\n",
    "\n",
    "pheno_total = pd.read_csv('data/GD462.GeneQuantRPKM.50FN.samplename.resk10.txt', sep = '\\t', index_col = 'TargetID')\n",
    "target_pheno_total = pheno_total.loc[gene]\n",
    "\n",
    "eur_sample = pd.read_csv('data/clean/'+gene_name+'_genotype/eur_'+gene_name+'_genotype.012.indv', sep = '\\t', header = None)\n",
    "afr_sample = pd.read_csv('data/clean/'+gene_name+'_genotype/afr_'+gene_name+'_genotype.012.indv', sep = '\\t',header = None)\n",
    "\n",
    "target_pheno_eur = pd.merge(target_pheno_total, eur_sample, left_index = True, right_on = 0)\n",
    "target_pheno_afr = pd.merge(target_pheno_total, afr_sample, left_index = True, right_on = 0)\n",
    "\n",
    "eur_genotype = pd.read_csv('data/clean/'+gene_name+'_genotype/eur_'+gene_name+'_genotype.012', sep = '\\t', header = None, index_col = 0)\n",
    "afr_genotype = pd.read_csv('data/clean/'+gene_name+'_genotype/afr_'+gene_name+'_genotype.012', sep = '\\t', header = None, index_col = 0)\n",
    "\n",
    "pa = target_pheno_afr.set_index(0)\n",
    "pe = target_pheno_eur.set_index(0)\n",
    "\n",
    "#make sure the genotype matrix's order is the same as that of phenotype vector\n",
    "sorted_eur_pheno = pd.merge(eur_sample, pe, left_on = 0 , right_index = True, how = 'left')\n",
    "sorted_afr_pheno = pd.merge(afr_sample, pa, left_on = 0 , right_index = True, how = 'left')"
   ]
  },
  {
   "cell_type": "code",
   "execution_count": 66,
   "id": "e0f3b533",
   "metadata": {},
   "outputs": [],
   "source": [
    "#original matrix(before standardization)\n",
    "X1o = np.array(eur_genotype,dtype = np.float64,order = 'C')\n",
    "X2o = np.array(afr_genotype,dtype = np.float64,order = 'C')\n",
    "y1o = np.array(sorted_eur_pheno[gene],dtype = np.float64,order = 'C')\n",
    "y2o = np.array(sorted_afr_pheno[gene],dtype = np.float64,order = 'C')"
   ]
  },
  {
   "cell_type": "code",
   "execution_count": 67,
   "id": "ac7dde48",
   "metadata": {},
   "outputs": [],
   "source": [
    "def SNP_var_check(X):\n",
    "    col_valid = []\n",
    "    count = 0\n",
    "    for col,x in enumerate(np.std(X, axis = 0)):\n",
    "        if x==0:\n",
    "            count +=1\n",
    "        else:\n",
    "            col_valid.append(col)\n",
    "    return col_valid, count"
   ]
  },
  {
   "cell_type": "code",
   "execution_count": 68,
   "id": "eedc511d",
   "metadata": {},
   "outputs": [],
   "source": [
    "def standardization(x):\n",
    "    x=np.array(x,dtype = np.float64,order = 'C')\n",
    "    x_center = x - np.mean(x,axis = 0)\n",
    "    return x_center/np.std(x, axis = 0)"
   ]
  },
  {
   "cell_type": "code",
   "execution_count": 69,
   "id": "ce7a53d6",
   "metadata": {},
   "outputs": [
    {
     "data": {
      "text/plain": [
       "(89, 284)"
      ]
     },
     "execution_count": 69,
     "metadata": {},
     "output_type": "execute_result"
    }
   ],
   "source": [
    "X2o.shape"
   ]
  },
  {
   "cell_type": "code",
   "execution_count": 70,
   "id": "41deb7dd",
   "metadata": {},
   "outputs": [
    {
     "data": {
      "text/plain": [
       "(89, 226)"
      ]
     },
     "execution_count": 70,
     "metadata": {},
     "output_type": "execute_result"
    }
   ],
   "source": [
    "col_valid1,count1=SNP_var_check(X2o)\n",
    "X2o=X2o[:,col_valid1]\n",
    "X2o.shape"
   ]
  },
  {
   "cell_type": "code",
   "execution_count": 71,
   "id": "0376d800",
   "metadata": {},
   "outputs": [
    {
     "name": "stdout",
     "output_type": "stream",
     "text": [
      "(71, 226) (18, 226)\n"
     ]
    }
   ],
   "source": [
    "X_train,X_test,y_train,y_test = train_test_split(X2o,y2o,test_size = 0.2, random_state = 9,shuffle = False)\n",
    "print(X_train.shape,X_test.shape)"
   ]
  },
  {
   "cell_type": "code",
   "execution_count": 72,
   "id": "e3673aa5",
   "metadata": {},
   "outputs": [],
   "source": [
    "col_valid2,count2 = SNP_var_check(X_test)"
   ]
  },
  {
   "cell_type": "code",
   "execution_count": 73,
   "id": "1aca1a16",
   "metadata": {},
   "outputs": [],
   "source": [
    "kf = KFold(n_splits=5)#without shuffling, the random state is immutable"
   ]
  },
  {
   "cell_type": "code",
   "execution_count": 74,
   "id": "179a36f5",
   "metadata": {},
   "outputs": [
    {
     "name": "stdout",
     "output_type": "stream",
     "text": [
      "count_train1: 19 count_validation1: 20\n",
      "count_train2: 18 count_validation2: 21\n",
      "count_train3: 18 count_validation3: 37\n",
      "count_train4: 18 count_validation4: 21\n",
      "count_train5: 17 count_validation5: 27\n"
     ]
    }
   ],
   "source": [
    "i = 1\n",
    "for train_index, test_index in kf.split(X_train):\n",
    "    train_index = list(train_index)\n",
    "    test_index = list(test_index)\n",
    "    X_to,X_vo = X_train[train_index,:],X_train[test_index,:]\n",
    "    y_to, y_vo = y_train[train_index],y_train[test_index]\n",
    "    col_valid_train,count_train = SNP_var_check(X_to)\n",
    "    col_valid_valid,count_valid = SNP_var_check(X_vo)\n",
    "    print(\"count_train%s:\" % i,count_train,\"count_validation%s:\" % i,count_valid)\n",
    "    col_valid3 = list(set(col_valid_train).intersection(set(col_valid_valid)))\n",
    "    globals()['col_set%s' % i] = col_valid3\n",
    "    i+=1\n",
    "\n",
    "valid_col_trainset = list(set(col_set1).intersection(col_set2).intersection(col_set3).intersection(col_set4).intersection(col_set5))"
   ]
  },
  {
   "cell_type": "code",
   "execution_count": 75,
   "id": "69ab927a",
   "metadata": {},
   "outputs": [
    {
     "data": {
      "text/plain": [
       "139"
      ]
     },
     "execution_count": 75,
     "metadata": {},
     "output_type": "execute_result"
    }
   ],
   "source": [
    "col_valid_final = list(set(col_valid1).intersection(col_valid2).intersection(valid_col_trainset))\n",
    "len(col_valid_final)"
   ]
  },
  {
   "cell_type": "code",
   "execution_count": 76,
   "id": "dc0a2991",
   "metadata": {},
   "outputs": [],
   "source": [
    "X1o = X1o[:,col_valid_final]\n",
    "X1,y1 = standardization(X1o), standardization(y1o)\n",
    "A1 = X1.T @ X1\n",
    "b1 = X1.T @ y1"
   ]
  },
  {
   "cell_type": "code",
   "execution_count": 77,
   "id": "a1ad5aae",
   "metadata": {},
   "outputs": [
    {
     "data": {
      "text/plain": [
       "(18, 139)"
      ]
     },
     "execution_count": 77,
     "metadata": {},
     "output_type": "execute_result"
    }
   ],
   "source": [
    "X_test = X_test[:,col_valid_final]\n",
    "X_test.shape"
   ]
  },
  {
   "cell_type": "code",
   "execution_count": 78,
   "id": "7d116123",
   "metadata": {},
   "outputs": [],
   "source": [
    "X_test_std = standardization(X_test)\n",
    "y_test_std = standardization(y_test)"
   ]
  },
  {
   "cell_type": "code",
   "execution_count": 80,
   "id": "0feedc57",
   "metadata": {},
   "outputs": [
    {
     "name": "stdout",
     "output_type": "stream",
     "text": [
      "[3417.58938703 3262.2546749  3113.98016516 2972.44496073 2837.34274978\n",
      " 2708.38114282 2585.28103993 2467.7760267  2355.61179768 2248.54560597\n",
      " 2146.34573791 2048.79101158 1955.67029813 1866.78206482 1781.9339389\n",
      " 1700.94229125 1623.63183898 1549.83526609 1479.39286132 1412.15217257\n",
      " 1347.9676769  1286.70046562 1228.21794364 1172.39354255 1119.10644664\n",
      " 1068.24133148 1019.6881143   973.34171579  929.10183261  886.8727204\n",
      "  846.56298651  808.08539224  771.35666401  736.29731317  702.83146393\n",
      "  670.88668919  640.39385376  611.28696476  583.50302879  556.98191559\n",
      "  531.66622792  507.50117732  484.43446556  462.41617146  441.3986428\n",
      "  421.33639326  402.18600392  383.90602933  366.4569078   349.80087577\n",
      "  333.90188611  318.72553006  304.23896282  290.41083242  277.21121188\n",
      "  264.61153447  252.58453184  241.10417505  230.14561819  219.68514465\n",
      "  209.70011577  200.16892187  191.07093545  182.38646654  174.09672016\n",
      "  166.18375553  158.63044737  151.42044871  144.53815563  137.96867338\n",
      "  131.69778424  125.7119167   119.99811607  114.54401649  109.33781416\n",
      "  104.36824177   99.6245441    95.09645482   90.77417418   86.64834787\n",
      "   82.71004673   78.95074746   75.36231414   71.93698065   68.66733386\n",
      "   65.54629756   62.56711717   59.72334513   57.00882692   54.41768776\n",
      "   51.94431986   49.58337036   47.32972965   45.17852039   43.12508692\n",
      "   41.16498516   39.29397305   37.50800133   35.80320478   34.17589387]\n",
      "0.7703807191527408\n"
     ]
    },
    {
     "name": "stderr",
     "output_type": "stream",
     "text": [
      "/home/daisy/anaconda3/envs/transethnic_prs/lib/python3.7/site-packages/numpy/lib/function_base.py:2559: RuntimeWarning: invalid value encountered in true_divide\n",
      "  c /= stddev[:, None]\n",
      "/home/daisy/anaconda3/envs/transethnic_prs/lib/python3.7/site-packages/numpy/lib/function_base.py:2560: RuntimeWarning: invalid value encountered in true_divide\n",
      "  c /= stddev[None, :]\n"
     ]
    },
    {
     "name": "stdout",
     "output_type": "stream",
     "text": [
      "[3480.41589135 3322.22561763 3171.22533599 3027.08825019 2889.5024174\n",
      " 2758.17007305 2632.80698644 2513.1418456  2398.91567009 2289.88125054\n",
      " 2185.80261364 2086.45451142 1991.62193377 1901.09964314 1814.69173032\n",
      " 1732.21119049 1653.4795185  1578.3263225  1506.58895525 1438.11216206\n",
      " 1372.7477448  1310.35424119 1250.7966186  1193.94598189 1139.67929435\n",
      " 1087.87911151 1038.43332693  991.23492956  946.1817722   903.17635038\n",
      "  862.12559135  822.94065267  785.53672993  749.83287321  715.75181187\n",
      "  683.21978738  652.1663936   622.5244245   594.22972864  567.22107037\n",
      "  541.43999731  516.83071381  493.33996022  470.91689764  449.51299786\n",
      "  429.08193835  409.57950204  390.96348155  373.19358793  356.23136339\n",
      "  340.04009814  324.58475088  309.83187301  295.74953621  282.30726334\n",
      "  269.47596253  257.22786414  245.53646073  234.37644964  223.72367828\n",
      "  213.55509182  203.84868331  194.58344605  185.73932812  177.29718899\n",
      "  169.23875813  161.54659538  154.2040533   147.19524108  140.5049902\n",
      "  134.11882155  128.02291412  122.20407509  116.64971128  111.34780187\n",
      "  106.28687243  101.45597004   96.84463962   92.44290129   88.24122875\n",
      "   84.23052872   80.40212119   76.7477207    73.25941834   69.92966472\n",
      "   66.75125353   63.71730604   60.82125614   58.05683618   55.41806337\n",
      "   52.89922687   50.49487536   48.19980535   46.00904981   43.91786748\n",
      "   41.92173263   40.01632518   38.19752144   36.46138514   34.80415891]\n",
      "0.45845245317436406\n",
      "[3430.24757656 3274.33753017 3125.51383602 2983.45440845 2847.8518011\n",
      " 2718.41254154 2594.8564961  2476.91626361 2364.33659671 2256.87384942\n",
      " 2154.29544985 2056.37939684 1962.91377957 1873.69631885 1788.53392941\n",
      " 1707.242302   1629.64550453 1555.57560125 1484.87228939 1417.38255218\n",
      " 1352.96032768 1291.46619272 1232.76706109 1176.73589559 1123.25143303\n",
      " 1072.19792184 1023.46487153  976.94681357  932.54307313  890.15755123\n",
      "  849.69851671  811.07840775  774.21364235  739.02443743  705.43463619\n",
      "  673.37154325  642.76576737  613.55107124  585.66422813  559.04488509\n",
      "  533.63543226  509.38087829  486.22873122  464.12888497  443.03351084\n",
      "  422.89695402  403.67563479  385.32795418  367.81420397  351.09648074\n",
      "  335.13860383  319.90603705  305.36581395  291.48646642  278.23795666\n",
      "  265.59161211  253.52006345  241.99718529  230.99803974  220.49882233\n",
      "  210.47681055  200.91031467  191.7786308   183.06199605  174.7415458\n",
      "  166.79927286  159.21798848  151.98128518  145.07350121  138.47968668\n",
      "  132.1855712   126.17753298  120.44256937  114.96826871  109.74278346\n",
      "  104.75480458   99.99353704   95.44867646   91.11038681   86.96927911\n",
      "   83.01639115   79.24316805   75.64144377   72.20342341   68.92166638\n",
      "   65.78907027   62.79885549   59.94455059   57.21997825   54.61924193\n",
      "   52.13671309   49.76701901   47.50503119   45.34585421   43.28481515\n",
      "   41.3174535    39.43951147   37.64692481   35.93581397   34.30247577]\n",
      "0.8469820247785971\n",
      "[3427.39998195 3271.61936314 3122.91921387 2980.97771588 2845.48767803\n",
      " 2716.15587152 2592.70239521 2474.86006993 2362.37386021 2255.00032232\n",
      " 2152.50707744 2054.67230872 1961.28428124 1872.14088373 1787.04919122\n",
      " 1705.82504746 1628.29266638 1554.28425169 1483.63963367 1416.20592256\n",
      " 1351.83717769 1290.39409163 1231.74368865 1175.759037   1122.31897417\n",
      " 1071.30784468 1022.61524975  976.13580841  931.76892941  889.41859353\n",
      "  848.99314578  810.40509702  773.57093463  738.41094177  704.84902485\n",
      "  672.81254885  642.23218013  613.04173636  585.17804331  558.58079812\n",
      "  533.19243876  508.95801953  485.82509204  463.74359182  442.66572986\n",
      "  422.54588925  403.34052645  385.00807704  367.50886574  350.8050206\n",
      "  334.860391    319.64046943  305.11231678  291.24449109  278.00697948\n",
      "  265.3711332   253.30960564  241.79629312  230.80627843  220.31577686\n",
      "  210.30208478  200.74353046  191.61942719  182.91002849  174.5964854\n",
      "  166.66080568  159.08581485  151.85511904  144.95306951  138.36472879\n",
      "  132.07583833  126.07278764  120.34258486  114.87282865  109.6516813\n",
      "  104.66784316   99.91052815   95.36944045   91.03475219   86.89708221\n",
      "   82.94747571   79.17738492   75.57865058   72.14348427   68.86445157\n",
      "   65.73445596   62.74672349   59.89478807   57.17247751   54.57390017\n",
      "   52.09343218   49.72570529   47.46559524   45.30821068   43.24888258\n",
      "   41.28315412   39.40677105   37.61567249   35.90598212   34.27399982]\n",
      "0.8312186669562153\n",
      "[3443.28238046 3286.77988212 3137.39066387 2994.79141614 2858.6735243\n",
      " 2728.74240072 2604.71684724 2486.32844657 2373.32098143 2265.44987999\n",
      " 2162.48168658 2064.19355649 1970.3727736  1880.81629009 1795.33028697\n",
      " 1713.72975462 1635.83809241 1561.48672646 1490.51474484 1422.76854932\n",
      " 1358.10152294 1296.37371271 1237.45152672 1181.20744503 1127.51974365\n",
      " 1076.27223116 1027.3539972   980.65917247  936.08669959  893.5401144\n",
      "  852.92733717  814.16047334  777.1556233   741.8327008   708.11525965\n",
      "  675.93032824  645.20825163  615.88254082  587.88972883  561.16923334\n",
      "  535.66322561  511.3165053   488.076381    465.89255621  444.7170205\n",
      "  424.50394557  405.20958609  386.79218503  369.21188327  352.43063336\n",
      "  336.41211715  321.12166723  306.52619185  292.59410336  279.29524979\n",
      "  266.60084964  254.48342957  242.91676494  231.87582307  221.33670905\n",
      "  211.27661403  201.67376585  192.50738194  183.75762433  175.4055567\n",
      "  167.43310344  159.82301048  152.55880799  145.62477472  139.00590396\n",
      "  132.68787109  126.65700257  120.90024633  115.40514354  110.15980166\n",
      "  105.15286866  100.37350849   95.81137762   91.45660264   87.2997589\n",
      "   83.33185013   79.54428893   75.92887823   72.47779353   69.18356596\n",
      "   66.03906611   63.03748864   60.17233749   57.43741189   54.82679287\n",
      "   52.33483052   49.9561317    47.68554842   45.51816665   43.44929572\n",
      "   41.47445817   39.58938004   37.78998162   36.07236863   34.4328238 ]\n",
      "0.8629786235569479\n",
      "0.8629786235569479 1 3286.779882122841 [-0.         -0.         -0.         -0.         -0.         -0.\n",
      " -0.         -0.         -0.         -0.         -0.         -0.\n",
      " -0.         -0.         -0.         -0.         -0.         -0.\n",
      " -0.         -0.         -0.         -0.         -0.         -0.\n",
      " -0.         -0.         -0.         -0.         -0.         -0.\n",
      " -0.         -0.         -0.         -0.         -0.         -0.\n",
      " -0.         -0.         -0.         -0.         -0.         -0.\n",
      " -0.         -0.         -0.         -0.         -0.         -0.\n",
      " -0.         -0.         -0.         -0.         -0.         -0.\n",
      " -0.         -0.         -0.         -0.         -0.         -0.\n",
      " -0.         -0.         -0.         -0.         -0.         -0.\n",
      " -0.         -0.         -0.         -0.         -0.          0.00170769\n",
      "  0.00170665 -0.          0.0017051  -0.         -0.          0.00216092\n",
      " -0.          0.00133579  0.00216159 -0.         -0.         -0.\n",
      " -0.         -0.         -0.         -0.         -0.         -0.\n",
      " -0.         -0.         -0.         -0.         -0.         -0.\n",
      " -0.         -0.         -0.         -0.         -0.         -0.\n",
      " -0.         -0.         -0.         -0.         -0.         -0.\n",
      " -0.         -0.         -0.         -0.         -0.         -0.\n",
      " -0.         -0.         -0.         -0.         -0.         -0.\n",
      " -0.         -0.         -0.         -0.         -0.         -0.\n",
      " -0.         -0.         -0.         -0.         -0.         -0.\n",
      " -0.         -0.         -0.         -0.         -0.         -0.\n",
      " -0.        ]\n"
     ]
    }
   ],
   "source": [
    "Max1 = 0\n",
    "for train_index, test_index in kf.split(X_train):\n",
    "    X_to, X_vo = X_train[:,col_valid_final][train_index,:], X_train[:,col_valid_final][test_index,:]\n",
    "    y_to, y_vo = y_train[train_index], y_train[test_index]\n",
    "    X_t_std, X_v_std, y_t_std, y_v_std = standardization(X_to), standardization(X_vo), standardization(y_to), standardization(y_vo)\n",
    "    mod = model1blk.Model1Blk([A1],[b1],[X_t_std],y_t_std)\n",
    "    beta_mat_en, lambda_seq_en, niters_en, tols_en, convs_en = mod.solve_path(alpha=0.1)\n",
    "    print(lambda_seq_en)\n",
    "    Max2 = 0\n",
    "    for i in range(100):\n",
    "        beta_hat = beta_mat_en[:,i]\n",
    "        y_v_hat = X_v_std @ beta_hat\n",
    "        correlation_matrix = np.corrcoef(y_v_hat, y_v_std)\n",
    "        correlation_yvhat_yv = correlation_matrix[0,1]\n",
    "        r2 = correlation_yvhat_yv**2\n",
    "        if r2>Max2:\n",
    "            Max2=r2\n",
    "            idx = i\n",
    "    print(Max2)\n",
    "    if Max2>Max1:\n",
    "        Max1=Max2\n",
    "        lam=lambda_seq_en[idx]\n",
    "        beta_h=beta_mat_en[:,idx]\n",
    "\n",
    "print(Max1,idx,lam,beta_h)"
   ]
  },
  {
   "cell_type": "code",
   "execution_count": 62,
   "id": "818c7a68",
   "metadata": {},
   "outputs": [
    {
     "name": "stdout",
     "output_type": "stream",
     "text": [
      "0.9999999999999998\n",
      "0.7259192145055929 0.5269587059884171 0.7259192145055935\n"
     ]
    },
    {
     "data": {
      "text/plain": [
       "0.9999999999999999"
      ]
     },
     "execution_count": 62,
     "metadata": {},
     "output_type": "execute_result"
    }
   ],
   "source": [
    "y_hat_test= X_test_std @ beta_h\n",
    "y_hat_test = (y_hat_test-y_hat_test.mean())/y_hat_test.std()\n",
    "correlation_test_matrix = np.corrcoef(y_hat_test, y_test_std)\n",
    "correlation_test = correlation_test_matrix[0,1]\n",
    "r2 = correlation_test**2\n",
    "\n",
    "\n",
    "m, b = np.polyfit(y_hat_test,y_test_std, 1)\n",
    "print(y_hat_test.std())\n",
    "print(correlation_test,r2,m)\n",
    "y_test_std.std()"
   ]
  },
  {
   "cell_type": "code",
   "execution_count": 58,
   "id": "99d6c7de",
   "metadata": {
    "scrolled": true
   },
   "outputs": [
    {
     "data": {
      "text/plain": [
       "array([[1.        , 0.72591921],\n",
       "       [0.72591921, 1.        ]])"
      ]
     },
     "execution_count": 58,
     "metadata": {},
     "output_type": "execute_result"
    }
   ],
   "source": [
    "from scipy.stats import pearsonr\n",
    "r,_ = pearsonr(y_hat_test,y_test_std)\n",
    "np.corrcoef(y_hat_test,y_test_std)"
   ]
  },
  {
   "cell_type": "code",
   "execution_count": 63,
   "id": "e21930d0",
   "metadata": {},
   "outputs": [
    {
     "data": {
      "text/plain": [
       "0.6838825616055229"
      ]
     },
     "execution_count": 63,
     "metadata": {},
     "output_type": "execute_result"
    }
   ],
   "source": [
    "from scipy.stats import spearmanr\n",
    "sp_r, _ = spearmanr(y_hat_test,y_test_std)\n",
    "sp_r"
   ]
  },
  {
   "cell_type": "code",
   "execution_count": 59,
   "id": "eff97057",
   "metadata": {},
   "outputs": [
    {
     "data": {
      "text/plain": [
       "0.007529084129845443"
      ]
     },
     "execution_count": 59,
     "metadata": {},
     "output_type": "execute_result"
    }
   ],
   "source": [
    "A = np.vstack([y_test_std, np.ones(len(y_test_std))]).T\n",
    "m, c = np.linalg.lstsq(A, y_hat_test, rcond=None)[0]\n",
    "m"
   ]
  }
 ],
 "metadata": {
  "kernelspec": {
   "display_name": "transethnic_prs",
   "language": "python",
   "name": "transethnic_prs"
  },
  "language_info": {
   "codemirror_mode": {
    "name": "ipython",
    "version": 3
   },
   "file_extension": ".py",
   "mimetype": "text/x-python",
   "name": "python",
   "nbconvert_exporter": "python",
   "pygments_lexer": "ipython3",
   "version": "3.7.10"
  }
 },
 "nbformat": 4,
 "nbformat_minor": 5
}
