{
 "cells": [
  {
   "cell_type": "code",
   "execution_count": 2,
   "id": "0bc9adca",
   "metadata": {},
   "outputs": [
    {
     "name": "stdout",
     "output_type": "stream",
     "text": [
      "['/home/daisy/geuv', '/home/daisy/geuv/code/transethnic_prs-main', '/home/daisy/geuv', '/home/daisy/geuv/code/transethnic_prs-main/transethnic_prs', '/home/daisy/anaconda3/envs/transethnic_prs/lib/python37.zip', '/home/daisy/anaconda3/envs/transethnic_prs/lib/python3.7', '/home/daisy/anaconda3/envs/transethnic_prs/lib/python3.7/lib-dynload', '', '/home/daisy/anaconda3/envs/transethnic_prs/lib/python3.7/site-packages', '/home/daisy/anaconda3/envs/transethnic_prs/lib/python3.7/site-packages/IPython/extensions', '/home/daisy/.ipython', '/home/daisy/geuv/code/transethnic_prs-main/']\n"
     ]
    }
   ],
   "source": [
    "import sys\n",
    "sys.path.append('/home/daisy/geuv/code/transethnic_prs-main/')\n",
    "print(sys.path)\n",
    "import pandas as pd\n",
    "import numpy as np\n",
    "import time\n",
    "import matplotlib.pyplot as plt\n",
    "from sklearn.linear_model import lasso_path, enet_path\n",
    "import transethnic_prs.model1.Model1Blk as model1blk"
   ]
  },
  {
   "cell_type": "code",
   "execution_count": 3,
   "id": "f1a31744",
   "metadata": {},
   "outputs": [],
   "source": [
    "pheno_total = pd.read_csv('data/GD462.GeneQuantRPKM.50FN.samplename.resk10.txt', sep = '\\t', index_col = 'TargetID')\n",
    "target_pheno_total = pheno_total.loc['ENSG00000167074.9']\n",
    "\n",
    "b_hat_eur_total = pd.read_csv('data/EUR373.gene.cis.FDR5.all.rs137.txt', sep = '\\t')\n",
    "b_hat_eur_total_grouped = dict(list(b_hat_eur_total.groupby('GENE_ID')))\n",
    "b_hat_eur_target = b_hat_eur_total_grouped['ENSG00000167074.9']\n",
    "\n",
    "eur_sample = pd.read_csv('data/clean/eur_genotype.012.indv', sep = '\\t', header = None)\n",
    "afr_sample = pd.read_csv('data/clean/afr_genotype.012.indv', sep = '\\t',header = None)\n",
    "\n",
    "target_pheno_eur = pd.merge(target_pheno_total, eur_sample, left_index = True, right_on = 0)\n",
    "target_pheno_afr = pd.merge(target_pheno_total, afr_sample, left_index = True, right_on = 0)\n",
    "\n",
    "eur_genotype = pd.read_csv('data/clean/eur_genotype.012', sep = '\\t', header = None, index_col = 0)\n",
    "afr_genotype = pd.read_csv('data/clean/afr_genotype.012', sep = '\\t', header = None, index_col = 0)\n",
    "\n",
    "pa = target_pheno_afr.set_index(0)\n",
    "pe = target_pheno_eur.set_index(0)\n",
    "\n",
    "sorted_eur_pheno = pd.merge(eur_sample, pe, left_on = 0 , right_index = True, how = 'left')\n",
    "sorted_afr_pheno = pd.merge(afr_sample, pa, left_on = 0 , right_index = True, how = 'left')\n",
    "sorted_b_hat_eur = b_hat_eur_target.sort_values(by = 'SNPpos')\n",
    "\n",
    "X1o = eur_genotype\n",
    "X2o = afr_genotype\n",
    "b1_hat = sorted_b_hat_eur['rvalue']\n",
    "y1o = sorted_eur_pheno['ENSG00000167074.9']\n",
    "y2o = sorted_afr_pheno['ENSG00000167074.9']\n",
    "R1 = X1o.cov()"
   ]
  },
  {
   "cell_type": "code",
   "execution_count": 4,
   "id": "7069dc22",
   "metadata": {},
   "outputs": [],
   "source": [
    "X1 = (X1o-X1o.mean())\n",
    "X2 = (X2o-X2o.mean())\n",
    "y1 = (y1o-y1o.mean())\n",
    "y2 = (y2o-y2o.mean())\n",
    "N1 = 373\n",
    "N2 = 89"
   ]
  },
  {
   "cell_type": "code",
   "execution_count": 5,
   "id": "cfa1aa21",
   "metadata": {},
   "outputs": [
    {
     "name": "stdout",
     "output_type": "stream",
     "text": [
      "133\n",
      "[0, 1, 2, 3, 4, 5, 6, 7, 8, 9, 10, 11, 12, 14, 15, 16, 17, 18, 19, 20, 21, 22, 23, 24, 25, 26, 27, 28, 29, 30, 31, 32, 33, 34, 35, 36, 37, 38, 39, 40, 41, 42, 43, 44, 45, 46, 47, 48, 49, 50, 51, 52, 53, 54, 55, 56, 57, 58, 59, 60, 61, 62, 63, 64, 65, 66, 67, 68, 69, 70, 71, 72, 73, 74, 75, 76, 77, 78, 79, 80, 81, 82, 83, 84, 85, 86, 87, 88, 89, 90, 91, 92, 93, 95, 96, 97, 98, 99, 100, 101, 102, 103, 104, 105, 106, 107, 108, 109, 110, 112, 113, 114, 115, 116, 117, 118, 119, 120, 121, 122, 123, 124, 125, 126, 127, 128, 129, 130, 131, 132, 133, 134, 135, 136, 137, 138, 139, 140, 141, 142, 143, 144, 145, 146, 147, 148, 149, 150, 151, 152, 153, 154, 155, 156, 157, 158, 159, 161, 162, 164, 165, 166, 167, 168, 169, 170, 171, 172, 173, 174, 175, 176, 177, 178, 179, 180, 181, 182, 183, 184, 185, 186, 187, 188, 189, 190, 191, 192, 193, 194, 195, 196, 197, 198, 199, 200, 201, 202, 203, 204, 205, 206, 207, 208, 209, 210, 211, 212, 213, 214, 215, 218, 219, 220, 221, 222, 223, 225, 227, 228, 230, 231, 232, 233, 234, 235, 236, 237, 238, 239, 240, 241, 242, 243, 244, 245, 246, 247, 248, 249, 250, 251, 252, 253, 254, 255, 256, 257, 258, 259, 260, 261, 262, 264, 265, 266, 268, 269, 271, 272, 273, 274, 275, 276, 277, 278, 279, 280, 281, 282, 283, 284, 285, 286, 287, 288, 289, 290, 291, 292, 293, 294, 295, 296, 297, 298, 299, 300, 302, 305, 306, 307, 308, 310, 312, 317, 318, 319, 320, 322, 323, 324, 325, 326, 328, 329, 330, 331, 332, 333, 335, 336, 337, 338, 339, 340, 341, 342, 343, 344, 345, 346, 347, 348, 349, 350, 351, 352, 353, 354, 355, 356, 357, 358, 359, 360, 361, 362, 363, 364, 365, 366, 367, 368, 369, 370, 371, 372, 373, 374, 375, 376, 377, 378, 379, 380, 381, 382, 383, 384, 385, 386, 387, 388, 389, 390, 391, 392, 393, 394, 395, 396, 397, 398, 399, 400, 401, 402, 403, 404, 405, 406, 407, 408, 409, 410, 411, 412, 414, 415, 418, 419, 420, 421, 422, 423, 424, 425, 426, 427, 428, 429, 430, 431, 432, 435, 436, 437, 438, 439, 440, 441, 442, 443, 444, 445, 446, 447, 449, 450, 451, 452, 453, 454, 455, 456, 457, 458, 459, 460, 461, 462, 463, 464, 465, 466, 467, 468, 469, 470, 471, 472, 473, 474, 475, 476, 477, 478, 479, 480, 481, 482, 483, 484, 485, 486, 487, 488, 489, 490, 491, 492, 493, 494, 495, 496, 497, 498, 499, 500, 501, 503, 504, 505, 506, 507, 508, 509, 510, 511, 512, 513, 514, 515, 516, 517, 518, 519, 520, 522, 524, 525, 526, 527, 529, 530, 532, 533, 535, 536, 537, 538, 539, 540, 543, 545, 546, 547, 548, 553, 554, 555, 557, 558, 560, 563, 564, 567, 568, 570, 571, 574, 576, 578, 579, 580, 581, 582, 583, 585, 586, 587, 588, 589, 591, 592, 594, 595, 596, 597, 598, 599, 602, 603, 604, 605, 606, 607, 610, 612, 613, 614, 615, 616, 617, 618, 619, 620, 622, 623, 625, 626, 628, 629, 630, 631, 633, 634, 635, 636, 637, 638, 639, 640, 641, 643, 645, 646, 647, 648, 650, 651, 652, 655, 656, 659, 661, 662, 663, 665, 666, 667, 668, 669, 671, 672, 673, 674, 675, 676, 677, 678, 680, 682, 683, 685, 686, 687, 688, 689, 690, 691, 692, 693, 695, 696, 697, 698, 699, 701, 702, 703, 704, 707, 708, 711, 713, 714, 715, 716, 717, 718, 719, 720, 724, 725, 727, 728, 729, 734, 735, 736, 737, 738, 739, 740, 741, 743, 744, 746, 750, 755, 756, 759, 760, 762, 764, 765, 766, 767, 769, 770, 771, 773, 774, 775, 776, 779, 780, 788, 789, 790, 793, 798, 799, 801, 802, 803, 808, 809, 810, 811, 812, 813, 814, 815, 816, 817, 818, 819, 820, 821, 822, 823, 824, 825, 826, 827, 829, 830, 831, 832, 833, 834, 835, 836, 837, 838, 839, 840, 841, 842, 843, 844, 845, 846, 847, 848, 849, 850, 851, 852, 854, 855, 857, 858, 859, 860, 861, 862, 863, 864, 865, 866, 867, 868]\n"
     ]
    }
   ],
   "source": [
    "for idx1,x1 in enumerate(X1.std()):\n",
    "    if x1==0:\n",
    "        print(idx1)\n",
    "idx_valid = []\n",
    "count = 0\n",
    "for idx2,x2 in enumerate(X2.std()):\n",
    "    if x2==0:\n",
    "        count +=1\n",
    "    else:\n",
    "        idx_valid.append(idx2)\n",
    "        #print(idx2)\n",
    "print(count)\n",
    "print(idx_valid)"
   ]
  },
  {
   "cell_type": "code",
   "execution_count": 6,
   "id": "aacfa4bd",
   "metadata": {},
   "outputs": [],
   "source": [
    "X1 = np.array(X1,dtype = np.float64,order = 'C')\n",
    "X1o = np.array(X1o,dtype = np.float64,order = 'C')\n",
    "X2 = np.array(X2,dtype = np.float64,order = 'C')\n",
    "X2o = np.array(X2o,dtype = np.float64,order = 'C')\n",
    "#b1_hat = np.array(b1_hat, dtype = np.float64,order = 'C')\n",
    "y1 = np.array(y1, dtype = np.float64, order = 'C')\n",
    "y1o = np.array(y1o,dtype = np.float64,order = 'C')\n",
    "y2 = np.array(y2, dtype = np.float64, order = 'C')\n",
    "y2o = np.array(y2o,dtype = np.float64,order = 'C')\n",
    "R1 = np.array(R1,dtype = np.float64, order = 'C')"
   ]
  },
  {
   "cell_type": "code",
   "execution_count": 7,
   "id": "361a65af",
   "metadata": {},
   "outputs": [],
   "source": [
    "X1 = X1[:,idx_valid]\n",
    "X2 = X2[:,idx_valid]\n",
    "X1o = X1o[:,idx_valid]\n",
    "X2o = X2o[:,idx_valid]"
   ]
  },
  {
   "cell_type": "code",
   "execution_count": 26,
   "id": "dce305c7",
   "metadata": {
    "scrolled": true
   },
   "outputs": [
    {
     "data": {
      "text/plain": [
       "array([False, False, False, False, False, False, False, False, False,\n",
       "       False, False, False, False, False, False, False, False, False,\n",
       "       False, False, False, False, False, False, False, False, False,\n",
       "       False, False, False, False, False, False, False, False, False,\n",
       "       False, False, False, False, False, False, False, False, False,\n",
       "       False, False, False, False, False, False, False, False, False,\n",
       "       False, False, False, False, False, False, False, False, False,\n",
       "       False, False, False, False, False, False, False, False, False,\n",
       "       False, False, False, False, False, False, False, False, False,\n",
       "       False, False, False, False, False, False, False, False, False,\n",
       "       False, False, False, False, False, False, False, False, False,\n",
       "       False, False, False, False, False, False, False, False, False,\n",
       "       False, False, False, False, False, False, False, False, False,\n",
       "       False, False, False, False, False, False, False, False, False,\n",
       "       False, False, False, False, False, False, False, False, False,\n",
       "       False, False, False, False, False, False, False, False, False,\n",
       "       False, False, False, False, False, False, False, False, False,\n",
       "       False, False, False, False, False, False, False, False, False,\n",
       "       False, False, False, False, False, False, False, False, False,\n",
       "       False, False, False, False, False, False, False, False, False,\n",
       "       False, False, False, False, False, False, False, False, False,\n",
       "       False, False, False, False, False, False, False, False, False,\n",
       "       False, False, False, False, False, False, False, False, False,\n",
       "       False, False, False, False, False, False, False, False, False,\n",
       "       False, False, False, False, False, False, False, False, False,\n",
       "       False, False, False, False, False, False, False, False, False,\n",
       "       False, False, False, False, False, False, False, False, False,\n",
       "       False, False, False, False, False, False, False, False, False,\n",
       "       False, False, False, False, False, False, False, False, False,\n",
       "       False, False, False, False, False, False, False, False, False,\n",
       "       False, False, False, False, False, False, False, False, False,\n",
       "       False, False, False, False, False, False, False, False, False,\n",
       "       False, False, False, False, False, False, False, False, False,\n",
       "       False, False, False, False, False, False, False, False, False,\n",
       "       False, False, False, False, False, False, False, False, False,\n",
       "       False, False, False, False, False, False, False, False, False,\n",
       "       False, False, False, False, False, False, False, False, False,\n",
       "       False, False, False, False, False, False, False, False, False,\n",
       "       False, False, False, False, False, False, False, False, False,\n",
       "       False, False, False, False, False, False, False, False, False,\n",
       "       False, False, False, False, False, False, False, False, False,\n",
       "       False, False, False, False, False, False, False, False, False,\n",
       "       False, False, False, False, False, False, False, False, False,\n",
       "       False, False, False, False, False, False, False, False, False,\n",
       "       False, False, False, False, False, False, False, False, False,\n",
       "       False, False, False, False, False, False, False, False, False,\n",
       "       False, False, False, False, False, False, False, False, False,\n",
       "       False, False, False, False, False, False, False, False, False,\n",
       "       False, False, False, False, False, False, False, False, False,\n",
       "       False, False, False, False, False, False, False, False, False,\n",
       "       False, False, False, False, False, False, False, False, False,\n",
       "       False, False, False, False, False, False, False, False, False,\n",
       "       False, False, False, False, False, False, False, False, False,\n",
       "       False, False, False, False, False, False, False, False, False,\n",
       "       False, False, False, False, False, False, False, False, False,\n",
       "       False, False, False, False, False, False, False, False, False,\n",
       "       False, False, False, False, False, False, False, False, False,\n",
       "       False, False, False, False, False, False, False, False, False,\n",
       "       False, False, False, False, False, False, False, False, False,\n",
       "       False, False, False, False, False, False, False, False, False,\n",
       "       False, False, False, False, False, False, False, False, False,\n",
       "       False, False, False, False, False, False, False, False, False,\n",
       "       False, False, False, False, False, False, False, False, False,\n",
       "       False, False, False, False, False, False, False, False, False,\n",
       "       False, False, False, False, False, False, False, False, False,\n",
       "       False, False, False, False, False, False, False, False, False,\n",
       "       False, False, False, False, False, False, False, False, False,\n",
       "       False, False, False, False, False, False, False, False, False,\n",
       "       False, False, False, False, False, False, False, False, False,\n",
       "       False, False, False, False, False, False, False, False, False,\n",
       "       False, False, False, False, False, False, False, False, False,\n",
       "       False, False, False, False, False, False, False, False, False,\n",
       "       False, False, False, False, False, False, False, False, False,\n",
       "       False, False, False, False, False, False, False, False, False,\n",
       "       False, False, False, False, False, False, False, False, False,\n",
       "       False, False, False, False, False, False, False, False, False,\n",
       "       False, False, False, False, False, False, False, False, False,\n",
       "       False, False, False, False, False, False, False, False, False,\n",
       "       False, False, False, False, False, False, False, False, False,\n",
       "       False, False, False, False, False, False, False, False, False,\n",
       "       False, False, False, False, False, False, False, False, False,\n",
       "       False, False, False, False, False, False, False])"
      ]
     },
     "execution_count": 26,
     "metadata": {},
     "output_type": "execute_result"
    }
   ],
   "source": [
    "X1 = X1/np.std(X1o, axis = 0)\n",
    "X2 = X2/np.std(X2o, axis = 0)\n",
    "np.isnan(X2).any(axis=0)"
   ]
  },
  {
   "cell_type": "code",
   "execution_count": 27,
   "id": "c5ef2105",
   "metadata": {},
   "outputs": [],
   "source": [
    "y1 = y1/y1o.std()\n",
    "y2 = y2/y2o.std()"
   ]
  },
  {
   "cell_type": "code",
   "execution_count": 28,
   "id": "778ce67d",
   "metadata": {},
   "outputs": [
    {
     "data": {
      "text/plain": [
       "(736, 736)"
      ]
     },
     "execution_count": 28,
     "metadata": {},
     "output_type": "execute_result"
    }
   ],
   "source": [
    "R1 = np.cov(X1.T)\n",
    "D_R1 = np.diag(np.diag(R1))\n",
    "R1.shape"
   ]
  },
  {
   "cell_type": "code",
   "execution_count": 29,
   "id": "93b935bd",
   "metadata": {},
   "outputs": [
    {
     "name": "stdout",
     "output_type": "stream",
     "text": [
      "[[575.63144044 440.0232841  430.48624234 ... 101.04842072 100.8897228\n",
      "   99.4950306 ]\n",
      " [440.0232841  575.63144044 568.37491349 ... 113.28612278 114.68060928\n",
      "  113.09527286]\n",
      " [430.48624234 568.37491349 575.63144044 ...  99.92826666 101.01305928\n",
      "  104.45670571]\n",
      " [440.0232841  575.63144044 568.37491349 ... 113.28612278 114.68060928\n",
      "  113.09527286]\n",
      " [440.0232841  575.63144044 568.37491349 ... 113.28612278 114.68060928\n",
      "  113.09527286]]\n",
      "[[575.63144044 440.0232841  430.48624234 ... 101.04842072 100.8897228\n",
      "   99.4950306 ]\n",
      " [440.0232841  575.63144044 568.37491349 ... 113.28612278 114.68060928\n",
      "  113.09527286]\n",
      " [430.48624234 568.37491349 575.63144044 ...  99.92826666 101.01305928\n",
      "  104.45670571]\n",
      " [440.0232841  575.63144044 568.37491349 ... 113.28612278 114.68060928\n",
      "  113.09527286]\n",
      " [440.0232841  575.63144044 568.37491349 ... 113.28612278 114.68060928\n",
      "  113.09527286]]\n"
     ]
    }
   ],
   "source": [
    "A1 = X1.T @ X1\n",
    "A1_t = (N1-1)*R1\n",
    "#b1_t = (N1-1) * (D_R1 @ b1_hat) ? b1_hat maybe after filtered?\n",
    "b1 = X1.T @ y1\n",
    "print(A1[0:5])\n",
    "print(A1_t[0:5])"
   ]
  },
  {
   "cell_type": "code",
   "execution_count": 30,
   "id": "4ff4e893",
   "metadata": {},
   "outputs": [],
   "source": [
    "X1 = np.array(X1,dtype = np.float64,order = 'C')\n",
    "X2 = np.array(X2,dtype = np.float64,order = 'C')"
   ]
  },
  {
   "cell_type": "markdown",
   "id": "dfd41d35",
   "metadata": {},
   "source": [
    "yanyu's solever"
   ]
  },
  {
   "cell_type": "code",
   "execution_count": 31,
   "id": "f317ed39",
   "metadata": {},
   "outputs": [],
   "source": [
    "mod1 = model1blk.Model1Blk([A1], [b1], [X2], y2)"
   ]
  },
  {
   "cell_type": "code",
   "execution_count": 32,
   "id": "302de506",
   "metadata": {},
   "outputs": [
    {
     "name": "stdout",
     "output_type": "stream",
     "text": [
      "Run time = 2.9431958198547363 s\n"
     ]
    }
   ],
   "source": [
    "l1_ratio = 0.1\n",
    "t = time.time()\n",
    "beta_mat_en, lambda_seq_en, niters_en, tols_en, convs_en = mod1.solve_path(alpha=l1_ratio) \n",
    "print(f'Run time = {time.time()-t} s')"
   ]
  },
  {
   "cell_type": "code",
   "execution_count": 33,
   "id": "3ef5bbd0",
   "metadata": {},
   "outputs": [
    {
     "name": "stdout",
     "output_type": "stream",
     "text": [
      "Run time = 3.3396639823913574 s\n"
     ]
    }
   ],
   "source": [
    "# lasso \n",
    "t = time.time()\n",
    "beta_mat_lasso, lambda_seq_lasso, niters_lasso, tols_lasso, convs_lasso = mod1.solve_path(alpha=1) \n",
    "print(f'Run time = {time.time()-t} s')"
   ]
  },
  {
   "cell_type": "code",
   "execution_count": null,
   "id": "1c7353e7",
   "metadata": {},
   "outputs": [],
   "source": [
    "result prediction"
   ]
  },
  {
   "cell_type": "code",
   "execution_count": 34,
   "id": "0fa9f61e",
   "metadata": {},
   "outputs": [
    {
     "data": {
      "text/plain": [
       "(736, 99)"
      ]
     },
     "execution_count": 34,
     "metadata": {},
     "output_type": "execute_result"
    }
   ],
   "source": [
    "beta_mat_lasso[:,1:].shape"
   ]
  },
  {
   "cell_type": "code",
   "execution_count": 35,
   "id": "8d4ca323",
   "metadata": {},
   "outputs": [
    {
     "data": {
      "image/png": "[encoded data removed]",
      "text/plain": [
       "<Figure size 640x480 with 1 Axes>"
      ]
     },
     "metadata": {},
     "output_type": "display_data"
    }
   ],
   "source": [
    "y2_hat_lasso = X2 @ beta_mat_lasso[:,-1:]\n",
    "plt.scatter(y2, y2_hat_lasso, color = \"blue\")\n",
    "plt.plot(y2,y2,color = 'g')\n",
    "plt.show()"
   ]
  },
  {
   "cell_type": "code",
   "execution_count": 36,
   "id": "1fc10441",
   "metadata": {},
   "outputs": [
    {
     "data": {
      "image/png": "[encoded data removed]",
      "text/plain": [
       "<Figure size 640x480 with 1 Axes>"
      ]
     },
     "metadata": {},
     "output_type": "display_data"
    }
   ],
   "source": [
    "y2_hat_en = X2 @ beta_mat_en[:,-1:]\n",
    "plt.scatter(y2, y2_hat_en, color = \"blue\")\n",
    "plt.plot(y2,y2,color = 'g')\n",
    "plt.show()"
   ]
  },
  {
   "cell_type": "code",
   "execution_count": 37,
   "id": "31db65e7",
   "metadata": {},
   "outputs": [
    {
     "data": {
      "text/plain": [
       "0.0045981375621805395"
      ]
     },
     "execution_count": 37,
     "metadata": {},
     "output_type": "execute_result"
    }
   ],
   "source": [
    "beta_mat_lasso[:,99].mean()"
   ]
  },
  {
   "cell_type": "markdown",
   "id": "ac59fab9",
   "metadata": {},
   "source": [
    "scipy.optimize solver"
   ]
  },
  {
   "cell_type": "code",
   "execution_count": 38,
   "id": "2dc811ca",
   "metadata": {},
   "outputs": [],
   "source": [
    "from scipy import optimize"
   ]
  },
  {
   "cell_type": "code",
   "execution_count": 39,
   "id": "1c500d2e",
   "metadata": {},
   "outputs": [],
   "source": [
    "beta = np.zeros(736)"
   ]
  },
  {
   "cell_type": "code",
   "execution_count": 40,
   "id": "fcebc703",
   "metadata": {},
   "outputs": [],
   "source": [
    "#lasso:\n",
    "def lasso_fun(beta):\n",
    "    term1 = beta.T @ A1 @ beta - 2 * b1.T @ beta\n",
    "    term2 = np.linalg.norm(y2 - X2 @ beta)**2 #L2 norm should be squared here(least square)\n",
    "    penalty = np.linalg.norm(beta, ord = 1)\n",
    "    return term1 + term2 + penalty"
   ]
  },
  {
   "cell_type": "code",
   "execution_count": 41,
   "id": "e2be44a2",
   "metadata": {},
   "outputs": [
    {
     "name": "stdout",
     "output_type": "stream",
     "text": [
      "Run time = 163.54299879074097 s\n"
     ]
    }
   ],
   "source": [
    "t = time.time()\n",
    "result = optimize.minimize(lasso_fun, beta)\n",
    "print(f'Run time = {time.time()-t} s')"
   ]
  },
  {
   "cell_type": "code",
   "execution_count": 42,
   "id": "2c6fe405",
   "metadata": {},
   "outputs": [
    {
     "data": {
      "image/png": "[encoded data removed]",
      "text/plain": [
       "<Figure size 640x480 with 1 Axes>"
      ]
     },
     "metadata": {},
     "output_type": "display_data"
    }
   ],
   "source": [
    "y2_hat_lasso_op = X2 @ result.x\n",
    "plt.scatter(y2, y2_hat_lasso_op, color = \"red\")# red dots are scipy.optimize results\n",
    "plt.scatter(y2, y2_hat_lasso, color = \"blue\")# blue dots are yanyu's solver results\n",
    "plt.plot(y2,y2,color = 'g')\n",
    "plt.show()"
   ]
  },
  {
   "cell_type": "code",
   "execution_count": 43,
   "id": "a459f55e",
   "metadata": {},
   "outputs": [],
   "source": [
    "def EN(beta):\n",
    "    term1 = beta.T @ A1 @ beta - 2 * b1.T @ beta\n",
    "    term2 = np.linalg.norm(y2 - X2 @ beta)**2 #L2 norm should be squared here(least square)\n",
    "    ridge = np.linalg.norm(beta)**2\n",
    "    lasso = np.linalg.norm(beta, ord = 1)\n",
    "    penalty = 0.1 * lasso + 0.9 * ridge\n",
    "    return term1 + term2 + penalty"
   ]
  },
  {
   "cell_type": "code",
   "execution_count": 44,
   "id": "de899999",
   "metadata": {},
   "outputs": [
    {
     "name": "stdout",
     "output_type": "stream",
     "text": [
      "Run time = 154.05040621757507 s\n"
     ]
    }
   ],
   "source": [
    "t = time.time()\n",
    "result_EN = optimize.minimize(EN,beta)\n",
    "print(f'Run time = {time.time()-t} s')"
   ]
  },
  {
   "cell_type": "code",
   "execution_count": 45,
   "id": "e7486574",
   "metadata": {},
   "outputs": [
    {
     "data": {
      "image/png": "[encoded data removed]",
      "text/plain": [
       "<Figure size 640x480 with 1 Axes>"
      ]
     },
     "metadata": {},
     "output_type": "display_data"
    }
   ],
   "source": [
    "y2_hat_en_op = X2 @ result_EN.x\n",
    "plt.scatter(y2, y2_hat_en_op, color = \"red\")# red dots are scipy.optimize results\n",
    "plt.scatter(y2, y2_hat_en, color = \"blue\")# blue dots are yanyu's solver results\n",
    "plt.plot(y2,y2,color = 'g')\n",
    "plt.show()"
   ]
  }
 ],
 "metadata": {
  "kernelspec": {
   "display_name": "transethnic_prs",
   "language": "python",
   "name": "transethnic_prs"
  },
  "language_info": {
   "codemirror_mode": {
    "name": "ipython",
    "version": 3
   },
   "file_extension": ".py",
   "mimetype": "text/x-python",
   "name": "python",
   "nbconvert_exporter": "python",
   "pygments_lexer": "ipython3",
   "version": "3.7.10"
  }
 },
 "nbformat": 4,
 "nbformat_minor": 5
}
