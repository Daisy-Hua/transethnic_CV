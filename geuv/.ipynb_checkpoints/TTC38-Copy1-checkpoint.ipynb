{
 "cells": [
  {
   "cell_type": "code",
   "execution_count": 2,
   "id": "551a0b70",
   "metadata": {},
   "outputs": [
    {
     "name": "stdout",
     "output_type": "stream",
     "text": [
      "['/home/daisy/geuv', '/home/daisy/geuv/code/transethnic_prs-main', '/home/daisy/geuv', '/home/daisy/geuv/code/transethnic_prs-main/transethnic_prs', '/home/daisy/anaconda3/envs/transethnic_prs/lib/python37.zip', '/home/daisy/anaconda3/envs/transethnic_prs/lib/python3.7', '/home/daisy/anaconda3/envs/transethnic_prs/lib/python3.7/lib-dynload', '', '/home/daisy/anaconda3/envs/transethnic_prs/lib/python3.7/site-packages', '/home/daisy/anaconda3/envs/transethnic_prs/lib/python3.7/site-packages/IPython/extensions', '/home/daisy/.ipython', '/home/daisy/geuv/code/transethnic_prs-main/']\n"
     ]
    }
   ],
   "source": [
    "import sys\n",
    "sys.path.append('/home/daisy/geuv/code/transethnic_prs-main/')\n",
    "print(sys.path)\n",
    "import pandas as pd\n",
    "import numpy as np\n",
    "import time\n",
    "import matplotlib.pyplot as plt\n",
    "from sklearn.linear_model import lasso_path, enet_path\n",
    "import transethnic_prs.model1.Model1Blk as model1blk"
   ]
  },
  {
   "cell_type": "code",
   "execution_count": 3,
   "id": "0a92aeb7",
   "metadata": {},
   "outputs": [],
   "source": [
    "gene = 'ENSG00000075234.12'\n",
    "gene_name = 'TTC38'"
   ]
  },
  {
   "cell_type": "code",
   "execution_count": 4,
   "id": "4a8a96ea",
   "metadata": {},
   "outputs": [],
   "source": [
    "pheno_total = pd.read_csv('data/GD462.GeneQuantRPKM.50FN.samplename.resk10.txt', sep = '\\t', index_col = 'TargetID')\n",
    "target_pheno_total = pheno_total.loc[gene]\n",
    "\n",
    "b_hat_eur_total = pd.read_csv('data/EUR373.gene.cis.FDR5.all.rs137.txt', sep = '\\t')\n",
    "b_hat_eur_total_grouped = dict(list(b_hat_eur_total.groupby('GENE_ID')))\n",
    "b_hat_eur_target = b_hat_eur_total_grouped[gene]\n",
    "\n",
    "eur_sample = pd.read_csv('data/clean/eur_'+gene_name+'_genotype.012.indv', sep = '\\t', header = None)\n",
    "afr_sample = pd.read_csv('data/clean/afr_'+gene_name+'_genotype.012.indv', sep = '\\t',header = None)\n",
    "\n",
    "target_pheno_eur = pd.merge(target_pheno_total, eur_sample, left_index = True, right_on = 0)\n",
    "target_pheno_afr = pd.merge(target_pheno_total, afr_sample, left_index = True, right_on = 0)\n",
    "\n",
    "eur_genotype = pd.read_csv('data/clean/eur_'+gene_name+'_genotype.012', sep = '\\t', header = None, index_col = 0)\n",
    "afr_genotype = pd.read_csv('data/clean/afr_'+gene_name+'_genotype.012', sep = '\\t', header = None, index_col = 0)\n",
    "\n",
    "pa = target_pheno_afr.set_index(0)\n",
    "pe = target_pheno_eur.set_index(0)\n",
    "\n",
    "sorted_eur_pheno = pd.merge(eur_sample, pe, left_on = 0 , right_index = True, how = 'left')\n",
    "sorted_afr_pheno = pd.merge(afr_sample, pa, left_on = 0 , right_index = True, how = 'left')\n",
    "sorted_b_hat_eur = b_hat_eur_target.sort_values(by = 'SNPpos')\n",
    "\n",
    "X1o = eur_genotype\n",
    "X2o = afr_genotype\n",
    "b1_hat = sorted_b_hat_eur['rvalue']\n",
    "y1o = sorted_eur_pheno[gene]\n",
    "y2o = sorted_afr_pheno[gene]"
   ]
  },
  {
   "cell_type": "code",
   "execution_count": 5,
   "id": "e1538764",
   "metadata": {},
   "outputs": [],
   "source": [
    "X1 = (X1o-X1o.mean())\n",
    "X2 = (X2o-X2o.mean())\n",
    "y1 = (y1o-y1o.mean())\n",
    "y2 = (y2o-y2o.mean())\n",
    "N1 = 373\n",
    "N2 = 89"
   ]
  },
  {
   "cell_type": "code",
   "execution_count": 7,
   "id": "f7f1dfbe",
   "metadata": {},
   "outputs": [],
   "source": [
    "count1 = 0\n",
    "idx_valid1 = []\n",
    "for idx1,x1 in enumerate(X1.std()):\n",
    "    if x1==0:\n",
    "        count1 +=1\n",
    "    else:\n",
    "        idx_valid1.append(idx1)\n",
    "idx_valid2 = []\n",
    "count2 = 0\n",
    "for idx2,x2 in enumerate(X2.std()):\n",
    "    if x2==0:\n",
    "        count2 +=1\n",
    "    else:\n",
    "        idx_valid2.append(idx2)"
   ]
  },
  {
   "cell_type": "code",
   "execution_count": 8,
   "id": "6d135185",
   "metadata": {},
   "outputs": [],
   "source": [
    "R1 = eur_genotype.cov()"
   ]
  },
  {
   "cell_type": "code",
   "execution_count": 9,
   "id": "e3fad438",
   "metadata": {},
   "outputs": [],
   "source": [
    "X1 = np.array(X1,dtype = np.float64,order = 'C')\n",
    "X1o = np.array(X1o,dtype = np.float64,order = 'C')\n",
    "X2 = np.array(X2,dtype = np.float64,order = 'C')\n",
    "X2o = np.array(X2o,dtype = np.float64,order = 'C')\n",
    "#b1_hat = np.array(b1_hat, dtype = np.float64,order = 'C')\n",
    "y1 = np.array(y1, dtype = np.float64, order = 'C')\n",
    "y1o = np.array(y1o,dtype = np.float64,order = 'C')\n",
    "y2 = np.array(y2, dtype = np.float64, order = 'C')\n",
    "y2o = np.array(y2o,dtype = np.float64,order = 'C')\n",
    "R1 = np.array(R1,dtype = np.float64, order = 'C')"
   ]
  },
  {
   "cell_type": "code",
   "execution_count": 10,
   "id": "3ebc7afd",
   "metadata": {},
   "outputs": [],
   "source": [
    "X1 = X1[:,idx_valid2]\n",
    "X2 = X2[:,idx_valid2]\n",
    "X1o = X1o[:,idx_valid2]\n",
    "X2o = X2o[:,idx_valid2]"
   ]
  },
  {
   "cell_type": "code",
   "execution_count": 11,
   "id": "a63d61c7",
   "metadata": {},
   "outputs": [],
   "source": [
    "X1 = X1/np.std(X1o, axis = 0)\n",
    "X2 = X2/np.std(X2o, axis = 0)"
   ]
  },
  {
   "cell_type": "code",
   "execution_count": 12,
   "id": "33cc7829",
   "metadata": {},
   "outputs": [],
   "source": [
    "y1 = y1/y1o.std()\n",
    "y2 = y2/y2o.std()"
   ]
  },
  {
   "cell_type": "code",
   "execution_count": 13,
   "id": "bada734f",
   "metadata": {},
   "outputs": [
    {
     "data": {
      "text/plain": [
       "(226, 226)"
      ]
     },
     "execution_count": 13,
     "metadata": {},
     "output_type": "execute_result"
    }
   ],
   "source": [
    "R1 = np.cov(X1.T)\n",
    "D_R1 = np.diag(np.diag(R1))\n",
    "R1.shape"
   ]
  },
  {
   "cell_type": "code",
   "execution_count": 14,
   "id": "3a2b1176",
   "metadata": {},
   "outputs": [],
   "source": [
    "A1 = X1.T @ X1\n",
    "A1_t = (N1-1)*R1\n",
    "#b1_t = (N1-1) * (D_R1 @ b1_hat) ? b1_hat maybe after filtered?\n",
    "b1 = X1.T @ y1"
   ]
  },
  {
   "cell_type": "code",
   "execution_count": 15,
   "id": "3f1983b9",
   "metadata": {},
   "outputs": [],
   "source": [
    "X1 = np.array(X1,dtype = np.float64,order = 'C')\n",
    "X2 = np.array(X2,dtype = np.float64,order = 'C')"
   ]
  },
  {
   "cell_type": "code",
   "execution_count": null,
   "id": "6659b256",
   "metadata": {},
   "outputs": [],
   "source": [
    "yanyu's solver"
   ]
  },
  {
   "cell_type": "code",
   "execution_count": 18,
   "id": "8e22af79",
   "metadata": {},
   "outputs": [],
   "source": [
    "from sklearn.model_selection import KFold\n",
    "from sklearn.model_selection import train_test_split"
   ]
  },
  {
   "cell_type": "code",
   "execution_count": 19,
   "id": "8aca9bc6",
   "metadata": {},
   "outputs": [
    {
     "data": {
      "text/plain": [
       "((71, 226), (18, 226))"
      ]
     },
     "execution_count": 19,
     "metadata": {},
     "output_type": "execute_result"
    }
   ],
   "source": [
    "X_train,X_test,y_train,y_test = train_test_split(X2,y2,test_size = 0.2, random_state = 0)\n",
    "X_train.shape,X_test.shape"
   ]
  },
  {
   "cell_type": "code",
   "execution_count": 20,
   "id": "921d6f72",
   "metadata": {},
   "outputs": [
    {
     "data": {
      "text/plain": [
       "5"
      ]
     },
     "execution_count": 20,
     "metadata": {},
     "output_type": "execute_result"
    }
   ],
   "source": [
    "kf = KFold(n_splits=5)\n",
    "kf.get_n_splits([X_train,y_train])"
   ]
  },
  {
   "cell_type": "code",
   "execution_count": 50,
   "id": "d17c9151",
   "metadata": {},
   "outputs": [
    {
     "name": "stdout",
     "output_type": "stream",
     "text": [
      "TRAIN: [15 16 17 18 19 20 21 22 23 24 25 26 27 28 29 30 31 32 33 34 35 36 37 38\n",
      " 39 40 41 42 43 44 45 46 47 48 49 50 51 52 53 54 55 56 57 58 59 60 61 62\n",
      " 63 64 65 66 67 68 69 70] TEST: [ 0  1  2  3  4  5  6  7  8  9 10 11 12 13 14]\n"
     ]
    },
    {
     "name": "stderr",
     "output_type": "stream",
     "text": [
      "/home/daisy/anaconda3/envs/transethnic_prs/lib/python3.7/site-packages/numpy/lib/function_base.py:2559: RuntimeWarning: invalid value encountered in true_divide\n",
      "  c /= stddev[:, None]\n",
      "/home/daisy/anaconda3/envs/transethnic_prs/lib/python3.7/site-packages/numpy/lib/function_base.py:2560: RuntimeWarning: invalid value encountered in true_divide\n",
      "  c /= stddev[None, :]\n"
     ]
    },
    {
     "name": "stdout",
     "output_type": "stream",
     "text": [
      "0.7970836264510585\n",
      "TRAIN: [ 0  1  2  3  4  5  6  7  8  9 10 11 12 13 14 29 30 31 32 33 34 35 36 37\n",
      " 38 39 40 41 42 43 44 45 46 47 48 49 50 51 52 53 54 55 56 57 58 59 60 61\n",
      " 62 63 64 65 66 67 68 69 70] TEST: [15 16 17 18 19 20 21 22 23 24 25 26 27 28]\n",
      "0.8487338428629556\n",
      "TRAIN: [ 0  1  2  3  4  5  6  7  8  9 10 11 12 13 14 15 16 17 18 19 20 21 22 23\n",
      " 24 25 26 27 28 43 44 45 46 47 48 49 50 51 52 53 54 55 56 57 58 59 60 61\n",
      " 62 63 64 65 66 67 68 69 70] TEST: [29 30 31 32 33 34 35 36 37 38 39 40 41 42]\n",
      "0.8272194170626285\n",
      "TRAIN: [ 0  1  2  3  4  5  6  7  8  9 10 11 12 13 14 15 16 17 18 19 20 21 22 23\n",
      " 24 25 26 27 28 29 30 31 32 33 34 35 36 37 38 39 40 41 42 57 58 59 60 61\n",
      " 62 63 64 65 66 67 68 69 70] TEST: [43 44 45 46 47 48 49 50 51 52 53 54 55 56]\n",
      "0.7803197346418219\n",
      "TRAIN: [ 0  1  2  3  4  5  6  7  8  9 10 11 12 13 14 15 16 17 18 19 20 21 22 23\n",
      " 24 25 26 27 28 29 30 31 32 33 34 35 36 37 38 39 40 41 42 43 44 45 46 47\n",
      " 48 49 50 51 52 53 54 55 56] TEST: [57 58 59 60 61 62 63 64 65 66 67 68 69 70]\n",
      "0.6373414149325722\n",
      "0.8487338428629556 1 2547.8199918955597 [-0.         -0.         -0.         -0.         -0.         -0.\n",
      " -0.         -0.         -0.         -0.         -0.         -0.\n",
      " -0.         -0.         -0.         -0.         -0.         -0.\n",
      " -0.         -0.         -0.         -0.         -0.         -0.\n",
      " -0.         -0.         -0.         -0.         -0.         -0.\n",
      " -0.         -0.         -0.         -0.         -0.         -0.\n",
      " -0.         -0.         -0.         -0.         -0.         -0.\n",
      " -0.         -0.         -0.         -0.         -0.         -0.\n",
      " -0.         -0.         -0.         -0.         -0.         -0.\n",
      " -0.         -0.         -0.         -0.         -0.         -0.\n",
      " -0.         -0.         -0.         -0.         -0.         -0.\n",
      " -0.         -0.         -0.         -0.         -0.         -0.\n",
      " -0.         -0.         -0.         -0.         -0.         -0.\n",
      " -0.         -0.         -0.         -0.         -0.         -0.\n",
      " -0.         -0.         -0.         -0.         -0.         -0.\n",
      " -0.         -0.         -0.         -0.         -0.         -0.\n",
      " -0.         -0.         -0.         -0.          0.0023431   0.00080951\n",
      " -0.          0.00712563  0.00712722  0.00336346  0.00713228  0.00713505\n",
      "  0.00713752  0.0071394   0.00337434 -0.         -0.         -0.\n",
      " -0.         -0.          0.00337465  0.00337411  0.00337283 -0.\n",
      " -0.          0.00337099  0.00325304 -0.          0.00730569 -0.\n",
      " -0.         -0.         -0.         -0.         -0.         -0.\n",
      " -0.         -0.         -0.         -0.         -0.         -0.\n",
      " -0.         -0.         -0.         -0.         -0.         -0.\n",
      " -0.         -0.         -0.         -0.         -0.         -0.\n",
      " -0.         -0.         -0.         -0.         -0.         -0.\n",
      " -0.         -0.         -0.         -0.         -0.         -0.\n",
      " -0.         -0.         -0.         -0.         -0.         -0.\n",
      " -0.         -0.         -0.         -0.         -0.         -0.\n",
      " -0.         -0.         -0.         -0.         -0.         -0.\n",
      " -0.         -0.         -0.         -0.         -0.         -0.\n",
      " -0.         -0.         -0.         -0.         -0.         -0.\n",
      " -0.         -0.         -0.         -0.         -0.         -0.\n",
      " -0.         -0.         -0.         -0.         -0.         -0.\n",
      " -0.         -0.         -0.         -0.         -0.         -0.\n",
      " -0.         -0.         -0.         -0.         -0.         -0.\n",
      " -0.         -0.         -0.         -0.         -0.         -0.\n",
      " -0.         -0.         -0.         -0.        ]\n"
     ]
    }
   ],
   "source": [
    "Max1=0\n",
    "for train_index, test_index in kf.split(X_train):\n",
    "    print(\"TRAIN:\", train_index, \"TEST:\", test_index)\n",
    "    X_t = X_train[train_index]\n",
    "    X_v = X_train[test_index]\n",
    "    y_t = y_train[train_index]\n",
    "    y_v = y_train[test_index]\n",
    "    mod = model1blk.Model1Blk([A1],[b1],[X_t],y_t)\n",
    "    beta_mat_en, lambda_seq_en, niters_en, tols_en, convs_en = mod.solve_path(alpha=l1_ratio)\n",
    "    Max2 = 0\n",
    "    for i in range(100):\n",
    "        beta_hat = beta_mat_en[:,i]\n",
    "        y_v_hat = X_v @ beta_hat\n",
    "        correlation_matrix = np.corrcoef(y_v_hat, y_v)\n",
    "        correlation_yvhat_yv = correlation_matrix[0,1]\n",
    "        r2 = correlation_yvhat_yv**2\n",
    "        if r2>Max2:\n",
    "            Max2=r2\n",
    "            idx = i\n",
    "    print(Max2)\n",
    "    if Max2>Max1:\n",
    "        Max1=Max2\n",
    "        lam=lambda_seq_en[idx]\n",
    "        beta_h=beta_mat_en[:,idx]\n",
    "\n",
    "print(Max1,idx,lam,beta_h)\n",
    "    \n",
    "       \n",
    "                               "
   ]
  },
  {
   "cell_type": "code",
   "execution_count": 58,
   "id": "73361b9f",
   "metadata": {},
   "outputs": [
    {
     "data": {
      "text/plain": [
       "0.01853308580793375"
      ]
     },
     "execution_count": 58,
     "metadata": {},
     "output_type": "execute_result"
    }
   ],
   "source": [
    "y_hat_test.mean()"
   ]
  },
  {
   "cell_type": "code",
   "execution_count": 54,
   "id": "df56eaab",
   "metadata": {},
   "outputs": [
    {
     "name": "stdout",
     "output_type": "stream",
     "text": [
      "0.38396474885930176\n"
     ]
    },
    {
     "data": {
      "image/png": "[encoded data removed]",
      "text/plain": [
       "<Figure size 640x480 with 1 Axes>"
      ]
     },
     "metadata": {},
     "output_type": "display_data"
    }
   ],
   "source": [
    "y_hat_test= X_test @ beta_h\n",
    "correlation_test_matrix = np.corrcoef(y_hat_test, y_test)\n",
    "correlation_test = correlation_matrix[0,1]\n",
    "r2 = correlation_test**2\n",
    "print(r2)\n",
    "m, b = np.polyfit(y_hat_test, y_test, 1)\n",
    "plt.scatter(y_hat_test, y_test, color = \"blue\")\n",
    "plt.plot(y_hat_test,m*y_hat_test+b)\n",
    "plt.show()"
   ]
  },
  {
   "cell_type": "code",
   "execution_count": 56,
   "id": "903faca1",
   "metadata": {},
   "outputs": [
    {
     "data": {
      "text/plain": [
       "12.297792382883493"
      ]
     },
     "execution_count": 56,
     "metadata": {},
     "output_type": "execute_result"
    }
   ],
   "source": [
    "m"
   ]
  },
  {
   "cell_type": "code",
   "execution_count": 26,
   "id": "799a14e8",
   "metadata": {},
   "outputs": [],
   "source": [
    "mod1 = model1blk.Model1Blk([A1], [b1], [X2], y2)"
   ]
  },
  {
   "cell_type": "code",
   "execution_count": 27,
   "id": "23054c31",
   "metadata": {},
   "outputs": [
    {
     "name": "stdout",
     "output_type": "stream",
     "text": [
      "Run time = 0.6968803405761719 s\n"
     ]
    }
   ],
   "source": [
    "l1_ratio = 0.1\n",
    "t = time.time()\n",
    "beta_mat_en, lambda_seq_en, niters_en, tols_en, convs_en = mod1.solve_path(alpha=l1_ratio) \n",
    "print(f'Run time = {time.time()-t} s')"
   ]
  },
  {
   "cell_type": "code",
   "execution_count": 43,
   "id": "892b068e",
   "metadata": {},
   "outputs": [
    {
     "data": {
      "text/plain": [
       "array([ 0.        , -0.        , -0.        , -0.        , -0.        ,\n",
       "       -0.        , -0.        , -0.        , -0.        , -0.        ,\n",
       "       -0.        , -0.        , -0.        , -0.        , -0.        ,\n",
       "       -0.        , -0.        , -0.        , -0.        , -0.        ,\n",
       "       -0.        , -0.        , -0.        , -0.        , -0.        ,\n",
       "       -0.        , -0.        , -0.        , -0.        , -0.        ,\n",
       "       -0.        , -0.        , -0.        , -0.        , -0.        ,\n",
       "       -0.        , -0.        , -0.        , -0.        , -0.        ,\n",
       "       -0.        , -0.        , -0.        , -0.        , -0.        ,\n",
       "       -0.        , -0.        , -0.        , -0.        , -0.        ,\n",
       "       -0.        , -0.        , -0.        , -0.        , -0.        ,\n",
       "       -0.        , -0.        , -0.        , -0.        , -0.        ,\n",
       "       -0.        , -0.        , -0.        , -0.        , -0.        ,\n",
       "       -0.        , -0.        , -0.        , -0.        , -0.        ,\n",
       "       -0.        , -0.        , -0.        , -0.        , -0.        ,\n",
       "       -0.        , -0.        , -0.        ,  0.00072791,  0.00133423,\n",
       "        0.00182543,  0.00226816,  0.00266378,  0.00304911,  0.00331668,\n",
       "        0.00342596,  0.00352025,  0.00362401,  0.00381531,  0.00397409,\n",
       "        0.00412017,  0.00407389,  0.00392349,  0.00394572,  0.00424734,\n",
       "        0.00372083,  0.0032205 ,  0.00275227,  0.00243868,  0.00239511])"
      ]
     },
     "execution_count": 43,
     "metadata": {},
     "output_type": "execute_result"
    }
   ],
   "source": [
    "beta_mat_en[2]"
   ]
  },
  {
   "cell_type": "code",
   "execution_count": 48,
   "id": "98b8d3ea",
   "metadata": {},
   "outputs": [
    {
     "name": "stdout",
     "output_type": "stream",
     "text": [
      "Run time = 0.3592541217803955 s\n"
     ]
    }
   ],
   "source": [
    "# lasso \n",
    "t = time.time()\n",
    "beta_mat_lasso, lambda_seq_lasso, niters_lasso, tols_lasso, convs_lasso = mod1.solve_path(alpha=1) \n",
    "print(f'Run time = {time.time()-t} s')"
   ]
  },
  {
   "cell_type": "code",
   "execution_count": 49,
   "id": "e3e26e81",
   "metadata": {},
   "outputs": [
    {
     "data": {
      "image/png": "[encoded data removed]",
      "text/plain": [
       "<Figure size 640x480 with 1 Axes>"
      ]
     },
     "metadata": {},
     "output_type": "display_data"
    }
   ],
   "source": [
    "y2_hat_lasso = X2 @ beta_mat_lasso[:,-1:]\n",
    "plt.scatter(y2, y2_hat_lasso, color = \"blue\")\n",
    "plt.plot(y2,y2,color = 'g')\n",
    "plt.show()"
   ]
  },
  {
   "cell_type": "code",
   "execution_count": 50,
   "id": "3d300d0d",
   "metadata": {},
   "outputs": [
    {
     "data": {
      "image/png": "[encoded data removed]",
      "text/plain": [
       "<Figure size 640x480 with 1 Axes>"
      ]
     },
     "metadata": {},
     "output_type": "display_data"
    }
   ],
   "source": [
    "y2_hat_en = X2 @ beta_mat_en[:,-1:]\n",
    "plt.scatter(y2, y2_hat_en, color = \"blue\")\n",
    "plt.plot(y2,y2,color = 'g')\n",
    "plt.show()"
   ]
  },
  {
   "cell_type": "code",
   "execution_count": null,
   "id": "65e6a11b",
   "metadata": {},
   "outputs": [],
   "source": [
    "scipy.optimize"
   ]
  },
  {
   "cell_type": "code",
   "execution_count": 51,
   "id": "d25331af",
   "metadata": {},
   "outputs": [],
   "source": [
    "from scipy import optimize"
   ]
  },
  {
   "cell_type": "code",
   "execution_count": 52,
   "id": "dc33daec",
   "metadata": {},
   "outputs": [],
   "source": [
    "beta = np.zeros(R1.shape[0])"
   ]
  },
  {
   "cell_type": "code",
   "execution_count": 53,
   "id": "6c5b9c73",
   "metadata": {},
   "outputs": [],
   "source": [
    "#lasso:\n",
    "def lasso_fun(beta):\n",
    "    term1 = beta.T @ A1 @ beta - 2 * b1.T @ beta\n",
    "    term2 = np.linalg.norm(y2 - X2 @ beta)**2 #L2 norm should be squared here(least square)\n",
    "    penalty = np.linalg.norm(beta, ord = 1)\n",
    "    return term1 + term2 + penalty"
   ]
  },
  {
   "cell_type": "code",
   "execution_count": 54,
   "id": "0151eb26",
   "metadata": {},
   "outputs": [
    {
     "name": "stdout",
     "output_type": "stream",
     "text": [
      "Run time = 36.86843395233154 s\n"
     ]
    }
   ],
   "source": [
    "t = time.time()\n",
    "result = optimize.minimize(lasso_fun, beta)\n",
    "print(f'Run time = {time.time()-t} s')"
   ]
  },
  {
   "cell_type": "code",
   "execution_count": 55,
   "id": "bdc31abf",
   "metadata": {},
   "outputs": [
    {
     "data": {
      "image/png": "[encoded data removed]",
      "text/plain": [
       "<Figure size 640x480 with 1 Axes>"
      ]
     },
     "metadata": {},
     "output_type": "display_data"
    }
   ],
   "source": [
    "y2_hat_lasso_op = X2 @ result.x\n",
    "plt.scatter(y2, y2_hat_lasso_op, color = \"red\")# red dots are scipy.optimize results\n",
    "plt.scatter(y2, y2_hat_lasso, color = \"blue\")# blue dots are yanyu's solver results\n",
    "plt.plot(y2,y2,color = 'g')\n",
    "plt.show()"
   ]
  },
  {
   "cell_type": "code",
   "execution_count": 56,
   "id": "c836e543",
   "metadata": {},
   "outputs": [],
   "source": [
    "def EN(beta):\n",
    "    term1 = beta.T @ A1 @ beta - 2 * b1.T @ beta\n",
    "    term2 = np.linalg.norm(y2 - X2 @ beta)**2 #L2 norm should be squared here(least square)\n",
    "    ridge = np.linalg.norm(beta)**2\n",
    "    lasso = np.linalg.norm(beta, ord = 1)\n",
    "    penalty = 0.1 * lasso + 0.9 * ridge\n",
    "    return term1 + term2 + penalty"
   ]
  },
  {
   "cell_type": "code",
   "execution_count": 57,
   "id": "992173d1",
   "metadata": {},
   "outputs": [
    {
     "name": "stdout",
     "output_type": "stream",
     "text": [
      "Run time = 15.837891340255737 s\n"
     ]
    }
   ],
   "source": [
    "t = time.time()\n",
    "result_EN = optimize.minimize(EN,beta)\n",
    "print(f'Run time = {time.time()-t} s')"
   ]
  },
  {
   "cell_type": "code",
   "execution_count": 58,
   "id": "270e8967",
   "metadata": {},
   "outputs": [
    {
     "data": {
      "image/png": "[encoded data removed]",
      "text/plain": [
       "<Figure size 640x480 with 1 Axes>"
      ]
     },
     "metadata": {},
     "output_type": "display_data"
    }
   ],
   "source": [
    "y2_hat_en_op = X2 @ result_EN.x\n",
    "plt.scatter(y2, y2_hat_en_op, color = \"red\")# red dots are scipy.optimize results\n",
    "plt.scatter(y2, y2_hat_en, color = \"blue\")# blue dots are yanyu's solver results\n",
    "plt.plot(y2,y2,color = 'g')\n",
    "plt.show()"
   ]
  }
 ],
 "metadata": {
  "kernelspec": {
   "display_name": "transethnic_prs",
   "language": "python",
   "name": "transethnic_prs"
  },
  "language_info": {
   "codemirror_mode": {
    "name": "ipython",
    "version": 3
   },
   "file_extension": ".py",
   "mimetype": "text/x-python",
   "name": "python",
   "nbconvert_exporter": "python",
   "pygments_lexer": "ipython3",
   "version": "3.7.10"
  }
 },
 "nbformat": 4,
 "nbformat_minor": 5
}
