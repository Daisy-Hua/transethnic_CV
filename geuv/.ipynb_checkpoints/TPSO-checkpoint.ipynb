{
 "cells": [
  {
   "cell_type": "code",
   "execution_count": 1,
   "id": "490ddae7",
   "metadata": {},
   "outputs": [
    {
     "name": "stdout",
     "output_type": "stream",
     "text": [
      "['/home/daisy/geuv', '/home/daisy/geuv/code/transethnic_prs-main', '/home/daisy/geuv', '/home/daisy/geuv/code/transethnic_prs-main/transethnic_prs', '/home/daisy/anaconda3/envs/transethnic_prs/lib/python37.zip', '/home/daisy/anaconda3/envs/transethnic_prs/lib/python3.7', '/home/daisy/anaconda3/envs/transethnic_prs/lib/python3.7/lib-dynload', '', '/home/daisy/anaconda3/envs/transethnic_prs/lib/python3.7/site-packages', '/home/daisy/anaconda3/envs/transethnic_prs/lib/python3.7/site-packages/IPython/extensions', '/home/daisy/.ipython', '/home/daisy/geuv/code/transethnic_prs-main/']\n"
     ]
    }
   ],
   "source": [
    "import sys\n",
    "sys.path.append('/home/daisy/geuv/code/transethnic_prs-main/')\n",
    "print(sys.path)\n",
    "import pandas as pd\n",
    "import numpy as np\n",
    "import time\n",
    "import matplotlib.pyplot as plt\n",
    "from sklearn.linear_model import lasso_path, enet_path\n",
    "import transethnic_prs.model1.Model1Blk as model1blk"
   ]
  },
  {
   "cell_type": "code",
   "execution_count": 2,
   "id": "681659bf",
   "metadata": {},
   "outputs": [],
   "source": [
    "gene = 'ENSG00000100300.12'\n",
    "gene_name = 'TPSO'"
   ]
  },
  {
   "cell_type": "code",
   "execution_count": 3,
   "id": "6d83b5a1",
   "metadata": {},
   "outputs": [],
   "source": [
    "pheno_total = pd.read_csv('data/GD462.GeneQuantRPKM.50FN.samplename.resk10.txt', sep = '\\t', index_col = 'TargetID')\n",
    "target_pheno_total = pheno_total.loc[gene]\n",
    "\n",
    "b_hat_eur_total = pd.read_csv('data/EUR373.gene.cis.FDR5.all.rs137.txt', sep = '\\t')\n",
    "b_hat_eur_total_grouped = dict(list(b_hat_eur_total.groupby('GENE_ID')))\n",
    "b_hat_eur_target = b_hat_eur_total_grouped[gene]\n",
    "\n",
    "eur_sample = pd.read_csv('data/clean/eur_'+gene_name+'_genotype.012.indv', sep = '\\t', header = None)\n",
    "afr_sample = pd.read_csv('data/clean/afr_'+gene_name+'_genotype.012.indv', sep = '\\t',header = None)\n",
    "\n",
    "target_pheno_eur = pd.merge(target_pheno_total, eur_sample, left_index = True, right_on = 0)\n",
    "target_pheno_afr = pd.merge(target_pheno_total, afr_sample, left_index = True, right_on = 0)\n",
    "\n",
    "eur_genotype = pd.read_csv('data/clean/eur_'+gene_name+'_genotype.012', sep = '\\t', header = None, index_col = 0)\n",
    "afr_genotype = pd.read_csv('data/clean/afr_'+gene_name+'_genotype.012', sep = '\\t', header = None, index_col = 0)\n",
    "\n",
    "pa = target_pheno_afr.set_index(0)\n",
    "pe = target_pheno_eur.set_index(0)\n",
    "\n",
    "sorted_eur_pheno = pd.merge(eur_sample, pe, left_on = 0 , right_index = True, how = 'left')\n",
    "sorted_afr_pheno = pd.merge(afr_sample, pa, left_on = 0 , right_index = True, how = 'left')\n",
    "sorted_b_hat_eur = b_hat_eur_target.sort_values(by = 'SNPpos')\n",
    "\n",
    "X1o = eur_genotype\n",
    "X2o = afr_genotype\n",
    "b1_hat = sorted_b_hat_eur['rvalue']\n",
    "y1o = sorted_eur_pheno[gene]\n",
    "y2o = sorted_afr_pheno[gene]"
   ]
  },
  {
   "cell_type": "code",
   "execution_count": 4,
   "id": "e91f920b",
   "metadata": {},
   "outputs": [],
   "source": [
    "X1 = (X1o-X1o.mean())\n",
    "X2 = (X2o-X2o.mean())\n",
    "y1 = (y1o-y1o.mean())\n",
    "y2 = (y2o-y2o.mean())\n",
    "N1 = 373\n",
    "N2 = 89"
   ]
  },
  {
   "cell_type": "code",
   "execution_count": 5,
   "id": "7e510e06",
   "metadata": {},
   "outputs": [
    {
     "name": "stdout",
     "output_type": "stream",
     "text": [
      "0\n",
      "0\n",
      "[0, 1, 2, 3, 4, 5, 6, 7, 8, 9, 10, 11, 12, 13, 14, 15, 16, 17, 18, 19, 20, 21, 22, 23, 24, 25, 26, 27, 28, 29, 30, 31, 32, 33, 34, 35, 36, 37, 38, 39, 40]\n"
     ]
    }
   ],
   "source": [
    "count1 = 0\n",
    "idx_valid1 = []\n",
    "for idx1,x1 in enumerate(X1.std()):\n",
    "    if x1==0:\n",
    "        count1 +=1\n",
    "    else:\n",
    "        idx_valid1.append(idx1)\n",
    "idx_valid2 = []\n",
    "count2 = 0\n",
    "for idx2,x2 in enumerate(X2.std()):\n",
    "    if x2==0:\n",
    "        count2 +=1\n",
    "    else:\n",
    "        idx_valid2.append(idx2)\n",
    "print(count1)\n",
    "print(count2)\n",
    "print(idx_valid2)"
   ]
  },
  {
   "cell_type": "code",
   "execution_count": 6,
   "id": "14b724ab",
   "metadata": {},
   "outputs": [],
   "source": [
    "R1 = eur_genotype.cov()"
   ]
  },
  {
   "cell_type": "code",
   "execution_count": 7,
   "id": "edfa6c91",
   "metadata": {},
   "outputs": [],
   "source": [
    "X1 = np.array(X1,dtype = np.float64,order = 'C')\n",
    "X1o = np.array(X1o,dtype = np.float64,order = 'C')\n",
    "X2 = np.array(X2,dtype = np.float64,order = 'C')\n",
    "X2o = np.array(X2o,dtype = np.float64,order = 'C')\n",
    "#b1_hat = np.array(b1_hat, dtype = np.float64,order = 'C')\n",
    "y1 = np.array(y1, dtype = np.float64, order = 'C')\n",
    "y1o = np.array(y1o,dtype = np.float64,order = 'C')\n",
    "y2 = np.array(y2, dtype = np.float64, order = 'C')\n",
    "y2o = np.array(y2o,dtype = np.float64,order = 'C')\n",
    "R1 = np.array(R1,dtype = np.float64, order = 'C')"
   ]
  },
  {
   "cell_type": "code",
   "execution_count": 8,
   "id": "a9064b2d",
   "metadata": {},
   "outputs": [],
   "source": [
    "X1 = X1[:,idx_valid2]\n",
    "X2 = X2[:,idx_valid2]\n",
    "X1o = X1o[:,idx_valid2]\n",
    "X2o = X2o[:,idx_valid2]"
   ]
  },
  {
   "cell_type": "code",
   "execution_count": 9,
   "id": "f0705914",
   "metadata": {},
   "outputs": [
    {
     "data": {
      "text/plain": [
       "array([False, False, False, False, False, False, False, False, False,\n",
       "       False, False, False, False, False, False, False, False, False,\n",
       "       False, False, False, False, False, False, False, False, False,\n",
       "       False, False, False, False, False, False, False, False, False,\n",
       "       False, False, False, False, False])"
      ]
     },
     "execution_count": 9,
     "metadata": {},
     "output_type": "execute_result"
    }
   ],
   "source": [
    "X1 = X1/X1o.std()\n",
    "X2 = X2/X2o.std()\n",
    "np.isnan(X2).any(axis=0)"
   ]
  },
  {
   "cell_type": "code",
   "execution_count": 10,
   "id": "bd217976",
   "metadata": {},
   "outputs": [],
   "source": [
    "y1 = y1/y1o.std()\n",
    "y2 = y2/y2o.std()"
   ]
  },
  {
   "cell_type": "code",
   "execution_count": 11,
   "id": "d5b189fe",
   "metadata": {},
   "outputs": [
    {
     "data": {
      "text/plain": [
       "(41, 41)"
      ]
     },
     "execution_count": 11,
     "metadata": {},
     "output_type": "execute_result"
    }
   ],
   "source": [
    "R1 = np.cov(X1.T)\n",
    "D_R1 = np.diag(np.diag(R1))\n",
    "R1.shape"
   ]
  },
  {
   "cell_type": "code",
   "execution_count": 12,
   "id": "d71681cb",
   "metadata": {},
   "outputs": [
    {
     "name": "stdout",
     "output_type": "stream",
     "text": [
      "[[ 307.31192966  308.04164635  307.31192966  295.18904503  -68.50814683\n",
      "   192.52269997  -64.534653    -73.70138607 -133.9110029  -174.17858104\n",
      "  -192.18713682 -189.26827005 -199.2020046  -200.82655636 -214.24908241\n",
      "   193.77973019  -74.95841629  -76.62025285  -77.47247672  -73.70138607\n",
      "   -74.95841629  -74.95841629  -99.81672147 -193.05001349  192.3202968\n",
      "   193.57732702  197.75322401  193.57732702  193.57732702  -52.57156035\n",
      "   194.83435724  -56.342651    192.3202968   -53.82859056  193.77973019\n",
      "   171.723111    170.46608078  172.65523086  169.73636409  169.20905057\n",
      "   172.65523086]\n",
      " [ 308.04164635  310.75278356  310.02839326  297.92148783  -69.79180904\n",
      "   195.0474132   -65.81831522  -75.15016666 -135.3118459  -175.8510704\n",
      "  -194.16323093 -191.26566975 -201.19940431 -202.95711605 -216.47019089\n",
      "   196.30976982  -76.41252328  -78.04772784  -78.93723651  -75.15016666\n",
      "   -76.41252328  -76.41252328 -101.45192603 -195.58537953  194.86098923\n",
      "   196.12334585  200.28326364  196.12334585  196.12334585  -53.75402097\n",
      "   197.38570246  -57.54109082  194.86098923  -55.01637759  196.30976982\n",
      "   174.26912983  173.00677321  175.1799441   172.28238292  171.7444166\n",
      "   175.1799441 ]\n",
      " [ 307.31192966  310.02839326  315.2589173   301.14928576  -72.48164065\n",
      "   196.49619379  -68.50814683  -77.67487989 -133.9110029  -174.17858104\n",
      "  -192.18713682 -189.26827005 -199.2020046  -200.82655636 -214.24908241\n",
      "   197.75322401  -78.93191011  -80.59374667  -81.44597054  -77.67487989\n",
      "   -78.93191011  -78.93191011 -103.79021529 -197.02350732  196.29379062\n",
      "   197.55082084  201.72671783  197.55082084  197.55082084  -56.54505417\n",
      "   198.80785106  -60.31614482  196.29379062  -57.80208438  197.75322401\n",
      "   175.69660482  174.4395746   176.62872469  173.70985791  173.18254439\n",
      "   176.62872469]\n",
      " [ 295.18904503  297.92148783  301.14928576  304.87243882  -78.56438856\n",
      "   198.85578865  -74.59089474  -85.24901959 -131.69522083 -175.12135371\n",
      "  -192.21909522 -187.24956474 -199.1700462  -204.36861185 -215.53274462\n",
      "   198.11009276  -86.49007061  -88.23180315  -88.97217265  -85.24901959\n",
      "   -86.49007061  -86.49007061 -110.80508307 -197.36439687  196.61870098\n",
      "   197.85975199  202.08358658  197.85975199  197.85975199  -60.94465993\n",
      "   199.10080301  -64.66781299  196.61870098  -62.18571095  198.11009276\n",
      "   179.9790298   178.73797878  180.97506645  177.99228289  177.49692776\n",
      "   180.97506645]\n",
      " [ -68.50814683  -69.79180904  -72.48164065  -78.56438856  328.38316499\n",
      "  -164.38865927  320.43617735  298.52337094  151.136578    129.37823716\n",
      "   139.65286127  144.45194697  140.47845315  134.21460766  122.32608459\n",
      "  -163.10499705  297.23970873  295.71103215  296.65913121  298.52337094\n",
      "   297.23970873  297.23970873  273.46266259  163.80808175 -164.51116645\n",
      "  -163.22750424 -167.07849088 -163.22750424 -163.22750424  291.18359281\n",
      "  -163.93058893  289.31935308 -166.49791336  291.88667751 -167.07849088\n",
      "  -173.16123879 -174.444901   -178.29588764 -173.16123879 -171.7550694\n",
      "  -172.33564691]]\n",
      "[[ 307.31192966  308.04164635  307.31192966  295.18904503  -68.50814683\n",
      "   192.52269997  -64.534653    -73.70138607 -133.9110029  -174.17858104\n",
      "  -192.18713682 -189.26827005 -199.2020046  -200.82655636 -214.24908241\n",
      "   193.77973019  -74.95841629  -76.62025285  -77.47247672  -73.70138607\n",
      "   -74.95841629  -74.95841629  -99.81672147 -193.05001349  192.3202968\n",
      "   193.57732702  197.75322401  193.57732702  193.57732702  -52.57156035\n",
      "   194.83435724  -56.342651    192.3202968   -53.82859056  193.77973019\n",
      "   171.723111    170.46608078  172.65523086  169.73636409  169.20905057\n",
      "   172.65523086]\n",
      " [ 308.04164635  310.75278356  310.02839326  297.92148783  -69.79180904\n",
      "   195.0474132   -65.81831522  -75.15016666 -135.3118459  -175.8510704\n",
      "  -194.16323093 -191.26566975 -201.19940431 -202.95711605 -216.47019089\n",
      "   196.30976982  -76.41252328  -78.04772784  -78.93723651  -75.15016666\n",
      "   -76.41252328  -76.41252328 -101.45192603 -195.58537953  194.86098923\n",
      "   196.12334585  200.28326364  196.12334585  196.12334585  -53.75402097\n",
      "   197.38570246  -57.54109082  194.86098923  -55.01637759  196.30976982\n",
      "   174.26912983  173.00677321  175.1799441   172.28238292  171.7444166\n",
      "   175.1799441 ]\n",
      " [ 307.31192966  310.02839326  315.2589173   301.14928576  -72.48164065\n",
      "   196.49619379  -68.50814683  -77.67487989 -133.9110029  -174.17858104\n",
      "  -192.18713682 -189.26827005 -199.2020046  -200.82655636 -214.24908241\n",
      "   197.75322401  -78.93191011  -80.59374667  -81.44597054  -77.67487989\n",
      "   -78.93191011  -78.93191011 -103.79021529 -197.02350732  196.29379062\n",
      "   197.55082084  201.72671783  197.55082084  197.55082084  -56.54505417\n",
      "   198.80785106  -60.31614482  196.29379062  -57.80208438  197.75322401\n",
      "   175.69660482  174.4395746   176.62872469  173.70985791  173.18254439\n",
      "   176.62872469]\n",
      " [ 295.18904503  297.92148783  301.14928576  304.87243882  -78.56438856\n",
      "   198.85578865  -74.59089474  -85.24901959 -131.69522083 -175.12135371\n",
      "  -192.21909522 -187.24956474 -199.1700462  -204.36861185 -215.53274462\n",
      "   198.11009276  -86.49007061  -88.23180315  -88.97217265  -85.24901959\n",
      "   -86.49007061  -86.49007061 -110.80508307 -197.36439687  196.61870098\n",
      "   197.85975199  202.08358658  197.85975199  197.85975199  -60.94465993\n",
      "   199.10080301  -64.66781299  196.61870098  -62.18571095  198.11009276\n",
      "   179.9790298   178.73797878  180.97506645  177.99228289  177.49692776\n",
      "   180.97506645]\n",
      " [ -68.50814683  -69.79180904  -72.48164065  -78.56438856  328.38316499\n",
      "  -164.38865927  320.43617735  298.52337094  151.136578    129.37823716\n",
      "   139.65286127  144.45194697  140.47845315  134.21460766  122.32608459\n",
      "  -163.10499705  297.23970873  295.71103215  296.65913121  298.52337094\n",
      "   297.23970873  297.23970873  273.46266259  163.80808175 -164.51116645\n",
      "  -163.22750424 -167.07849088 -163.22750424 -163.22750424  291.18359281\n",
      "  -163.93058893  289.31935308 -166.49791336  291.88667751 -167.07849088\n",
      "  -173.16123879 -174.444901   -178.29588764 -173.16123879 -171.7550694\n",
      "  -172.33564691]]\n"
     ]
    }
   ],
   "source": [
    "A1 = X1.T @ X1\n",
    "A1_t = (N1-1)*R1\n",
    "#b1_t = (N1-1) * (D_R1 @ b1_hat) ? b1_hat maybe after filtered?\n",
    "b1 = X1.T @ y1\n",
    "print(A1[0:5])\n",
    "print(A1_t[0:5])"
   ]
  },
  {
   "cell_type": "code",
   "execution_count": 13,
   "id": "aeaf76a6",
   "metadata": {},
   "outputs": [],
   "source": [
    "X1 = np.array(X1,dtype = np.float64,order = 'C')\n",
    "X2 = np.array(X2,dtype = np.float64,order = 'C')"
   ]
  },
  {
   "cell_type": "code",
   "execution_count": null,
   "id": "24227d0c",
   "metadata": {},
   "outputs": [],
   "source": [
    "yanyu's solver"
   ]
  },
  {
   "cell_type": "code",
   "execution_count": 14,
   "id": "e8252255",
   "metadata": {},
   "outputs": [],
   "source": [
    "mod1 = model1blk.Model1Blk([A1], [b1], [X2], y2)"
   ]
  },
  {
   "cell_type": "code",
   "execution_count": 15,
   "id": "af17bded",
   "metadata": {},
   "outputs": [
    {
     "name": "stdout",
     "output_type": "stream",
     "text": [
      "Run time = 0.09437394142150879 s\n"
     ]
    }
   ],
   "source": [
    "l1_ratio = 0.1\n",
    "t = time.time()\n",
    "beta_mat_en, lambda_seq_en, niters_en, tols_en, convs_en = mod1.solve_path(alpha=l1_ratio) \n",
    "print(f'Run time = {time.time()-t} s')"
   ]
  },
  {
   "cell_type": "code",
   "execution_count": 16,
   "id": "2e3e459a",
   "metadata": {},
   "outputs": [
    {
     "name": "stdout",
     "output_type": "stream",
     "text": [
      "Run time = 0.13011717796325684 s\n"
     ]
    }
   ],
   "source": [
    "# lasso \n",
    "t = time.time()\n",
    "beta_mat_lasso, lambda_seq_lasso, niters_lasso, tols_lasso, convs_lasso = mod1.solve_path(alpha=1) \n",
    "print(f'Run time = {time.time()-t} s')"
   ]
  },
  {
   "cell_type": "code",
   "execution_count": 17,
   "id": "0e2fd479",
   "metadata": {},
   "outputs": [
    {
     "data": {
      "image/png": "[encoded data removed]",
      "text/plain": [
       "<Figure size 640x480 with 1 Axes>"
      ]
     },
     "metadata": {},
     "output_type": "display_data"
    }
   ],
   "source": [
    "y2_hat_lasso = X2 @ beta_mat_lasso[:,-1:]\n",
    "plt.scatter(y2, y2_hat_lasso, color = \"blue\")\n",
    "plt.plot(y2,y2,color = 'g')\n",
    "plt.show()"
   ]
  },
  {
   "cell_type": "code",
   "execution_count": 18,
   "id": "fdc197c5",
   "metadata": {},
   "outputs": [
    {
     "data": {
      "image/png": "[encoded data removed]",
      "text/plain": [
       "<Figure size 640x480 with 1 Axes>"
      ]
     },
     "metadata": {},
     "output_type": "display_data"
    }
   ],
   "source": [
    "y2_hat_en = X2 @ beta_mat_en[:,-1:]\n",
    "plt.scatter(y2, y2_hat_en, color = \"blue\")\n",
    "plt.plot(y2,y2,color = 'g')\n",
    "plt.show()"
   ]
  },
  {
   "cell_type": "code",
   "execution_count": null,
   "id": "38502bc3",
   "metadata": {},
   "outputs": [],
   "source": [
    "scipy.optimize"
   ]
  },
  {
   "cell_type": "code",
   "execution_count": 19,
   "id": "95c32334",
   "metadata": {},
   "outputs": [],
   "source": [
    "from scipy import optimize"
   ]
  },
  {
   "cell_type": "code",
   "execution_count": 20,
   "id": "61bd6e48",
   "metadata": {},
   "outputs": [],
   "source": [
    "beta = np.zeros(R1.shape[0])"
   ]
  },
  {
   "cell_type": "code",
   "execution_count": 21,
   "id": "1b829182",
   "metadata": {},
   "outputs": [],
   "source": [
    "#lasso:\n",
    "def lasso_fun(beta):\n",
    "    term1 = beta.T @ A1 @ beta - 2 * b1.T @ beta\n",
    "    term2 = np.linalg.norm(y2 - X2 @ beta)**2 #L2 norm should be squared here(least square)\n",
    "    penalty = np.linalg.norm(beta, ord = 1)\n",
    "    return term1 + term2 + penalty"
   ]
  },
  {
   "cell_type": "code",
   "execution_count": 22,
   "id": "2660dd68",
   "metadata": {},
   "outputs": [
    {
     "name": "stdout",
     "output_type": "stream",
     "text": [
      "Run time = 0.34297776222229004 s\n"
     ]
    }
   ],
   "source": [
    "t = time.time()\n",
    "result = optimize.minimize(lasso_fun, beta)\n",
    "print(f'Run time = {time.time()-t} s')"
   ]
  },
  {
   "cell_type": "code",
   "execution_count": 23,
   "id": "739d235b",
   "metadata": {},
   "outputs": [
    {
     "data": {
      "image/png": "[encoded data removed]",
      "text/plain": [
       "<Figure size 640x480 with 1 Axes>"
      ]
     },
     "metadata": {},
     "output_type": "display_data"
    }
   ],
   "source": [
    "y2_hat_lasso_op = X2 @ result.x\n",
    "plt.scatter(y2, y2_hat_lasso_op, color = \"red\")# red dots are scipy.optimize results\n",
    "plt.scatter(y2, y2_hat_lasso, color = \"blue\")# blue dots are yanyu's solver results\n",
    "plt.plot(y2,y2,color = 'g')\n",
    "plt.show()"
   ]
  },
  {
   "cell_type": "code",
   "execution_count": 24,
   "id": "7e9c926c",
   "metadata": {},
   "outputs": [],
   "source": [
    "def EN(beta):\n",
    "    term1 = beta.T @ A1 @ beta - 2 * b1.T @ beta\n",
    "    term2 = np.linalg.norm(y2 - X2 @ beta)**2 #L2 norm should be squared here(least square)\n",
    "    ridge = np.linalg.norm(beta)**2\n",
    "    lasso = np.linalg.norm(beta, ord = 1)\n",
    "    penalty = 0.1 * lasso + 0.9 * ridge\n",
    "    return term1 + term2 + penalty"
   ]
  },
  {
   "cell_type": "code",
   "execution_count": 25,
   "id": "730bde6f",
   "metadata": {},
   "outputs": [
    {
     "name": "stdout",
     "output_type": "stream",
     "text": [
      "Run time = 0.3748962879180908 s\n"
     ]
    }
   ],
   "source": [
    "t = time.time()\n",
    "result_EN = optimize.minimize(EN,beta)\n",
    "print(f'Run time = {time.time()-t} s')"
   ]
  },
  {
   "cell_type": "code",
   "execution_count": 26,
   "id": "fdad8b67",
   "metadata": {},
   "outputs": [
    {
     "data": {
      "image/png": "[encoded data removed]",
      "text/plain": [
       "<Figure size 640x480 with 1 Axes>"
      ]
     },
     "metadata": {},
     "output_type": "display_data"
    }
   ],
   "source": [
    "y2_hat_en_op = X2 @ result_EN.x\n",
    "plt.scatter(y2, y2_hat_en_op, color = \"red\")# red dots are scipy.optimize results\n",
    "plt.scatter(y2, y2_hat_en, color = \"blue\")# blue dots are yanyu's solver results\n",
    "plt.plot(y2,y2,color = 'g')\n",
    "plt.show()"
   ]
  },
  {
   "cell_type": "code",
   "execution_count": null,
   "id": "51056847",
   "metadata": {},
   "outputs": [],
   "source": []
  }
 ],
 "metadata": {
  "kernelspec": {
   "display_name": "transethnic_prs",
   "language": "python",
   "name": "transethnic_prs"
  },
  "language_info": {
   "codemirror_mode": {
    "name": "ipython",
    "version": 3
   },
   "file_extension": ".py",
   "mimetype": "text/x-python",
   "name": "python",
   "nbconvert_exporter": "python",
   "pygments_lexer": "ipython3",
   "version": "3.7.10"
  }
 },
 "nbformat": 4,
 "nbformat_minor": 5
}
