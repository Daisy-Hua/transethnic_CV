{
 "cells": [
  {
   "cell_type": "code",
   "execution_count": 2,
   "id": "e1a2f1f4",
   "metadata": {},
   "outputs": [],
   "source": [
    "import sys\n",
    "sys.path.append('code/transethnic_prs-main/')\n",
    "import pandas as pd\n",
    "import numpy as np\n",
    "import time\n",
    "import matplotlib.pyplot as plt\n",
    "import transethnic_prs.model1.Model1Blk as model1blk\n",
    "from scipy import optimize\n",
    "from sklearn.model_selection import KFold\n",
    "from sklearn.model_selection import train_test_split"
   ]
  },
  {
   "cell_type": "code",
   "execution_count": 3,
   "id": "6121f5d7",
   "metadata": {},
   "outputs": [],
   "source": [
    "gene = 'ENSG00000075234.12'\n",
    "gene_name = 'TTC38'\n",
    "\n",
    "pheno_total = pd.read_csv('data/GD462.GeneQuantRPKM.50FN.samplename.resk10.txt', sep = '\\t', index_col = 'TargetID')\n",
    "target_pheno_total = pheno_total.loc[gene]\n",
    "\n",
    "eur_sample = pd.read_csv('data/clean/'+gene_name+'_genotype/eur_'+gene_name+'_genotype.012.indv', sep = '\\t', header = None)\n",
    "afr_sample = pd.read_csv('data/clean/'+gene_name+'_genotype/afr_'+gene_name+'_genotype.012.indv', sep = '\\t',header = None)\n",
    "\n",
    "target_pheno_eur = pd.merge(target_pheno_total, eur_sample, left_index = True, right_on = 0)\n",
    "target_pheno_afr = pd.merge(target_pheno_total, afr_sample, left_index = True, right_on = 0)\n",
    "\n",
    "eur_genotype = pd.read_csv('data/clean/'+gene_name+'_genotype/eur_'+gene_name+'_genotype.012', sep = '\\t', header = None, index_col = 0)\n",
    "afr_genotype = pd.read_csv('data/clean/'+gene_name+'_genotype/afr_'+gene_name+'_genotype.012', sep = '\\t', header = None, index_col = 0)\n",
    "\n",
    "pa = target_pheno_afr.set_index(0)\n",
    "pe = target_pheno_eur.set_index(0)\n",
    "\n",
    "#make sure the genotype matrix's order is the same as that of phenotype vector\n",
    "sorted_eur_pheno = pd.merge(eur_sample, pe, left_on = 0 , right_index = True, how = 'left')\n",
    "sorted_afr_pheno = pd.merge(afr_sample, pa, left_on = 0 , right_index = True, how = 'left')"
   ]
  },
  {
   "cell_type": "code",
   "execution_count": 4,
   "id": "e0f3b533",
   "metadata": {},
   "outputs": [],
   "source": [
    "#original matrix(before standardization)\n",
    "X1o = np.array(eur_genotype,dtype = np.float64,order = 'C')\n",
    "X2o = np.array(afr_genotype,dtype = np.float64,order = 'C')\n",
    "y1o = np.array(sorted_eur_pheno[gene],dtype = np.float64,order = 'C')\n",
    "y2o = np.array(sorted_afr_pheno[gene],dtype = np.float64,order = 'C')"
   ]
  },
  {
   "cell_type": "code",
   "execution_count": 5,
   "id": "ac7dde48",
   "metadata": {},
   "outputs": [],
   "source": [
    "def SNP_var_check(X):\n",
    "    col_valid = []\n",
    "    count = 0\n",
    "    for col,x in enumerate(np.std(X, axis = 0)):\n",
    "        if x==0:\n",
    "            count +=1\n",
    "        else:\n",
    "            col_valid.append(col)\n",
    "    return col_valid, count"
   ]
  },
  {
   "cell_type": "code",
   "execution_count": 6,
   "id": "eedc511d",
   "metadata": {},
   "outputs": [],
   "source": [
    "def standardization(x):\n",
    "    x=np.array(x,dtype = np.float64,order = 'C')\n",
    "    x_center = x - np.mean(x,axis = 0)\n",
    "    return x_center/np.std(x, axis = 0)"
   ]
  },
  {
   "cell_type": "code",
   "execution_count": 7,
   "id": "ce7a53d6",
   "metadata": {},
   "outputs": [
    {
     "data": {
      "text/plain": [
       "(89, 284)"
      ]
     },
     "execution_count": 7,
     "metadata": {},
     "output_type": "execute_result"
    }
   ],
   "source": [
    "X2o.shape"
   ]
  },
  {
   "cell_type": "code",
   "execution_count": 8,
   "id": "41deb7dd",
   "metadata": {},
   "outputs": [
    {
     "data": {
      "text/plain": [
       "(89, 226)"
      ]
     },
     "execution_count": 8,
     "metadata": {},
     "output_type": "execute_result"
    }
   ],
   "source": [
    "col_valid1,count1=SNP_var_check(X2o)\n",
    "X2o=X2o[:,col_valid1]\n",
    "X2o.shape"
   ]
  },
  {
   "cell_type": "code",
   "execution_count": 9,
   "id": "0376d800",
   "metadata": {},
   "outputs": [
    {
     "name": "stdout",
     "output_type": "stream",
     "text": [
      "(71, 226) (18, 226)\n"
     ]
    }
   ],
   "source": [
    "X_train,X_test,y_train,y_test = train_test_split(X2o,y2o,test_size = 0.2, random_state = 9,shuffle = False)\n",
    "print(X_train.shape,X_test.shape)"
   ]
  },
  {
   "cell_type": "code",
   "execution_count": 10,
   "id": "e3673aa5",
   "metadata": {},
   "outputs": [],
   "source": [
    "col_valid2,count2 = SNP_var_check(X_test)"
   ]
  },
  {
   "cell_type": "code",
   "execution_count": 11,
   "id": "1aca1a16",
   "metadata": {},
   "outputs": [],
   "source": [
    "kf = KFold(n_splits=5)#without shuffling, the random state is immutable"
   ]
  },
  {
   "cell_type": "code",
   "execution_count": 12,
   "id": "179a36f5",
   "metadata": {},
   "outputs": [
    {
     "name": "stdout",
     "output_type": "stream",
     "text": [
      "count_train1: 19 count_validation1: 20\n",
      "count_train2: 18 count_validation2: 21\n",
      "count_train3: 18 count_validation3: 37\n",
      "count_train4: 18 count_validation4: 21\n",
      "count_train5: 17 count_validation5: 27\n"
     ]
    }
   ],
   "source": [
    "i = 1\n",
    "for train_index, test_index in kf.split(X_train):\n",
    "    train_index = list(train_index)\n",
    "    test_index = list(test_index)\n",
    "    X_to,X_vo = X_train[train_index,:],X_train[test_index,:]\n",
    "    y_to, y_vo = y_train[train_index],y_train[test_index]\n",
    "    col_valid_train,count_train = SNP_var_check(X_to)\n",
    "    col_valid_valid,count_valid = SNP_var_check(X_vo)\n",
    "    print(\"count_train%s:\" % i,count_train,\"count_validation%s:\" % i,count_valid)\n",
    "    col_valid3 = list(set(col_valid_train).intersection(set(col_valid_valid)))\n",
    "    globals()['col_set%s' % i] = col_valid3\n",
    "    i+=1\n",
    "\n",
    "valid_col_trainset = list(set(col_set1).intersection(col_set2).intersection(col_set3).intersection(col_set4).intersection(col_set5))"
   ]
  },
  {
   "cell_type": "code",
   "execution_count": 13,
   "id": "69ab927a",
   "metadata": {},
   "outputs": [
    {
     "data": {
      "text/plain": [
       "139"
      ]
     },
     "execution_count": 13,
     "metadata": {},
     "output_type": "execute_result"
    }
   ],
   "source": [
    "col_valid_final = list(set(col_valid1).intersection(col_valid2).intersection(valid_col_trainset))\n",
    "len(col_valid_final)"
   ]
  },
  {
   "cell_type": "code",
   "execution_count": 14,
   "id": "dc0a2991",
   "metadata": {},
   "outputs": [],
   "source": [
    "X1o = X1o[:,col_valid_final]\n",
    "X1,y1 = standardization(X1o), standardization(y1o)\n",
    "A1 = X1.T @ X1\n",
    "b1 = X1.T @ y1"
   ]
  },
  {
   "cell_type": "code",
   "execution_count": 15,
   "id": "a1ad5aae",
   "metadata": {},
   "outputs": [
    {
     "data": {
      "text/plain": [
       "(18, 139)"
      ]
     },
     "execution_count": 15,
     "metadata": {},
     "output_type": "execute_result"
    }
   ],
   "source": [
    "X_test = X_test[:,col_valid_final]\n",
    "X_test.shape"
   ]
  },
  {
   "cell_type": "code",
   "execution_count": 16,
   "id": "7d116123",
   "metadata": {},
   "outputs": [],
   "source": [
    "X_test_std = standardization(X_test)\n",
    "y_test_std = standardization(y_test)"
   ]
  },
  {
   "cell_type": "code",
   "execution_count": 17,
   "id": "0feedc57",
   "metadata": {},
   "outputs": [
    {
     "name": "stderr",
     "output_type": "stream",
     "text": [
      "/home/daisy/anaconda3/envs/transethnic_prs/lib/python3.7/site-packages/numpy/lib/function_base.py:2559: RuntimeWarning: invalid value encountered in true_divide\n",
      "  c /= stddev[:, None]\n",
      "/home/daisy/anaconda3/envs/transethnic_prs/lib/python3.7/site-packages/numpy/lib/function_base.py:2560: RuntimeWarning: invalid value encountered in true_divide\n",
      "  c /= stddev[None, :]\n"
     ]
    },
    {
     "name": "stdout",
     "output_type": "stream",
     "text": [
      "0.7703807191527408\n",
      "0.45845245317436406\n",
      "0.8469820247785971\n",
      "0.8312186669562153\n",
      "0.8629786235569479\n",
      "0.8629786235569479 1 3286.779882122841 [-0.         -0.         -0.         -0.         -0.         -0.\n",
      " -0.         -0.         -0.         -0.         -0.         -0.\n",
      " -0.         -0.         -0.         -0.         -0.         -0.\n",
      " -0.         -0.         -0.         -0.         -0.         -0.\n",
      " -0.         -0.         -0.         -0.         -0.         -0.\n",
      " -0.         -0.         -0.         -0.         -0.         -0.\n",
      " -0.         -0.         -0.         -0.         -0.         -0.\n",
      " -0.         -0.         -0.         -0.         -0.         -0.\n",
      " -0.         -0.         -0.         -0.         -0.         -0.\n",
      " -0.         -0.         -0.         -0.         -0.         -0.\n",
      " -0.         -0.         -0.         -0.         -0.         -0.\n",
      " -0.         -0.         -0.         -0.         -0.          0.00170769\n",
      "  0.00170665 -0.          0.0017051  -0.         -0.          0.00216092\n",
      " -0.          0.00133579  0.00216159 -0.         -0.         -0.\n",
      " -0.         -0.         -0.         -0.         -0.         -0.\n",
      " -0.         -0.         -0.         -0.         -0.         -0.\n",
      " -0.         -0.         -0.         -0.         -0.         -0.\n",
      " -0.         -0.         -0.         -0.         -0.         -0.\n",
      " -0.         -0.         -0.         -0.         -0.         -0.\n",
      " -0.         -0.         -0.         -0.         -0.         -0.\n",
      " -0.         -0.         -0.         -0.         -0.         -0.\n",
      " -0.         -0.         -0.         -0.         -0.         -0.\n",
      " -0.         -0.         -0.         -0.         -0.         -0.\n",
      " -0.        ]\n"
     ]
    }
   ],
   "source": [
    "Max1 = 0\n",
    "for train_index, test_index in kf.split(X_train):\n",
    "    X_to, X_vo = X_train[:,col_valid_final][train_index,:], X_train[:,col_valid_final][test_index,:]\n",
    "    y_to, y_vo = y_train[train_index], y_train[test_index]\n",
    "    X_t_std, X_v_std, y_t_std, y_v_std = standardization(X_to), standardization(X_vo), standardization(y_to), standardization(y_vo)\n",
    "    mod = model1blk.Model1Blk([A1],[b1],[X_t_std],y_t_std)\n",
    "    beta_mat_en, lambda_seq_en, niters_en, tols_en, convs_en = mod.solve_path(alpha=0.1)\n",
    "    Max2 = 0\n",
    "    for i in range(100):\n",
    "        beta_hat = beta_mat_en[:,i]\n",
    "        y_v_hat = X_v_std @ beta_hat\n",
    "        correlation_matrix = np.corrcoef(y_v_hat, y_v_std)\n",
    "        correlation_yvhat_yv = correlation_matrix[0,1]\n",
    "        r2 = correlation_yvhat_yv**2\n",
    "        if r2>Max2:\n",
    "            Max2=r2\n",
    "            idx = i\n",
    "    print(Max2)\n",
    "    if Max2>Max1:\n",
    "        Max1=Max2\n",
    "        lam=lambda_seq_en[idx]\n",
    "        beta_h=beta_mat_en[:,idx]\n",
    "\n",
    "print(Max1,idx,lam,beta_h)"
   ]
  },
  {
   "cell_type": "code",
   "execution_count": 62,
   "id": "818c7a68",
   "metadata": {},
   "outputs": [
    {
     "name": "stdout",
     "output_type": "stream",
     "text": [
      "0.9999999999999998\n",
      "0.7259192145055929 0.5269587059884171 0.7259192145055935\n"
     ]
    },
    {
     "data": {
      "text/plain": [
       "0.9999999999999999"
      ]
     },
     "execution_count": 62,
     "metadata": {},
     "output_type": "execute_result"
    }
   ],
   "source": [
    "y_hat_test= X_test_std @ beta_h\n",
    "y_hat_test = (y_hat_test-y_hat_test.mean())/y_hat_test.std()\n",
    "correlation_test_matrix = np.corrcoef(y_hat_test, y_test_std)\n",
    "correlation_test = correlation_test_matrix[0,1]\n",
    "r2 = correlation_test**2\n",
    "\n",
    "\n",
    "m, b = np.polyfit(y_hat_test,y_test_std, 1)\n",
    "print(y_hat_test.std())\n",
    "print(correlation_test,r2,m)\n",
    "y_test_std.std()"
   ]
  },
  {
   "cell_type": "code",
   "execution_count": 58,
   "id": "99d6c7de",
   "metadata": {
    "scrolled": true
   },
   "outputs": [
    {
     "data": {
      "text/plain": [
       "array([[1.        , 0.72591921],\n",
       "       [0.72591921, 1.        ]])"
      ]
     },
     "execution_count": 58,
     "metadata": {},
     "output_type": "execute_result"
    }
   ],
   "source": [
    "from scipy.stats import pearsonr\n",
    "r,_ = pearsonr(y_hat_test,y_test_std)\n",
    "np.corrcoef(y_hat_test,y_test_std)"
   ]
  },
  {
   "cell_type": "code",
   "execution_count": 63,
   "id": "e21930d0",
   "metadata": {},
   "outputs": [
    {
     "data": {
      "text/plain": [
       "0.6838825616055229"
      ]
     },
     "execution_count": 63,
     "metadata": {},
     "output_type": "execute_result"
    }
   ],
   "source": [
    "from scipy.stats import spearmanr\n",
    "sp_r, _ = spearmanr(y_hat_test,y_test_std)\n",
    "sp_r"
   ]
  },
  {
   "cell_type": "code",
   "execution_count": 59,
   "id": "eff97057",
   "metadata": {},
   "outputs": [
    {
     "data": {
      "text/plain": [
       "0.007529084129845443"
      ]
     },
     "execution_count": 59,
     "metadata": {},
     "output_type": "execute_result"
    }
   ],
   "source": [
    "A = np.vstack([y_test_std, np.ones(len(y_test_std))]).T\n",
    "m, c = np.linalg.lstsq(A, y_hat_test, rcond=None)[0]\n",
    "m"
   ]
  }
 ],
 "metadata": {
  "kernelspec": {
   "display_name": "transethnic_prs",
   "language": "python",
   "name": "transethnic_prs"
  },
  "language_info": {
   "codemirror_mode": {
    "name": "ipython",
    "version": 3
   },
   "file_extension": ".py",
   "mimetype": "text/x-python",
   "name": "python",
   "nbconvert_exporter": "python",
   "pygments_lexer": "ipython3",
   "version": "3.7.10"
  }
 },
 "nbformat": 4,
 "nbformat_minor": 5
}
